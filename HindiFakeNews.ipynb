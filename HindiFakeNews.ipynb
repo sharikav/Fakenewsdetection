{
  "nbformat": 4,
  "nbformat_minor": 0,
  "metadata": {
    "colab": {
      "name": "HindiFakeNews.ipynb",
      "provenance": [],
      "collapsed_sections": [],
      "toc_visible": true,
      "include_colab_link": true
    },
    "kernelspec": {
      "name": "python3",
      "display_name": "Python 3"
    },
    "accelerator": "GPU"
  },
  "cells": [
    {
      "cell_type": "markdown",
      "metadata": {
        "id": "view-in-github",
        "colab_type": "text"
      },
      "source": [
        "<a href=\"https://colab.research.google.com/github/sharikav/Fakenewsdetection/blob/master/HindiFakeNews.ipynb\" target=\"_parent\"><img src=\"https://colab.research.google.com/assets/colab-badge.svg\" alt=\"Open In Colab\"/></a>"
      ]
    },
    {
      "cell_type": "code",
      "metadata": {
        "id": "QeQPrU7P-jR9",
        "colab_type": "code",
        "colab": {}
      },
      "source": [
        "import pandas as pd\n",
        "import numpy as np\n",
        "import matplotlib.pyplot as plt\n"
      ],
      "execution_count": null,
      "outputs": []
    },
    {
      "cell_type": "code",
      "metadata": {
        "id": "2ISMd8aN-p5P",
        "colab_type": "code",
        "colab": {
          "resources": {
            "http://localhost:8080/nbextensions/google.colab/files.js": {
              "data": "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",
              "ok": true,
              "headers": [
                [
                  "content-type",
                  "application/javascript"
                ]
              ],
              "status": 200,
              "status_text": ""
            }
          },
          "base_uri": "https://localhost:8080/",
          "height": 105
        },
        "outputId": "0777b90b-1d2c-4347-86a7-f3f362857bed"
      },
      "source": [
        "from google.colab import files\n",
        "uploaded = files.upload()"
      ],
      "execution_count": null,
      "outputs": [
        {
          "output_type": "display_data",
          "data": {
            "text/html": [
              "\n",
              "     <input type=\"file\" id=\"files-a93ad783-44dd-4983-b008-8648a506b321\" name=\"files[]\" multiple disabled\n",
              "        style=\"border:none\" />\n",
              "     <output id=\"result-a93ad783-44dd-4983-b008-8648a506b321\">\n",
              "      Upload widget is only available when the cell has been executed in the\n",
              "      current browser session. Please rerun this cell to enable.\n",
              "      </output>\n",
              "      <script src=\"/nbextensions/google.colab/files.js\"></script> "
            ],
            "text/plain": [
              "<IPython.core.display.HTML object>"
            ]
          },
          "metadata": {
            "tags": []
          }
        },
        {
          "output_type": "stream",
          "text": [
            "Saving Cleaned_hindi_fake.csv to Cleaned_hindi_fake.csv\n",
            "Saving Cleaned_hindi_news.csv to Cleaned_hindi_news.csv\n"
          ],
          "name": "stdout"
        }
      ]
    },
    {
      "cell_type": "code",
      "metadata": {
        "id": "vjZEe7Nz_Qb1",
        "colab_type": "code",
        "colab": {}
      },
      "source": [
        "true_file = \"Cleaned_hindi_news.csv\"\n",
        "fake_file = \"Cleaned_hindi_fake.csv\""
      ],
      "execution_count": null,
      "outputs": []
    },
    {
      "cell_type": "code",
      "metadata": {
        "id": "x6ltjYuD_qLK",
        "colab_type": "code",
        "colab": {}
      },
      "source": [
        "df_true = pd.read_csv(true_file)\n",
        "df_fake = pd.read_csv(fake_file)"
      ],
      "execution_count": null,
      "outputs": []
    },
    {
      "cell_type": "code",
      "metadata": {
        "id": "D4iucQYA1mSx",
        "colab_type": "code",
        "colab": {}
      },
      "source": [
        ""
      ],
      "execution_count": null,
      "outputs": []
    },
    {
      "cell_type": "markdown",
      "metadata": {
        "id": "P6xH8CEe1mzK",
        "colab_type": "text"
      },
      "source": [
        ""
      ]
    },
    {
      "cell_type": "code",
      "metadata": {
        "id": "9ScpdQ5r1nkK",
        "colab_type": "code",
        "colab": {}
      },
      "source": [
        ""
      ],
      "execution_count": null,
      "outputs": []
    },
    {
      "cell_type": "code",
      "metadata": {
        "id": "cK4b9i4v_ywm",
        "colab_type": "code",
        "colab": {
          "base_uri": "https://localhost:8080/",
          "height": 66
        },
        "outputId": "a3e20bc3-2a9a-4888-fe01-1f2e36be0dd7"
      },
      "source": [
        "df_true.isna().sum() #no nan rows"
      ],
      "execution_count": null,
      "outputs": [
        {
          "output_type": "execute_result",
          "data": {
            "text/plain": [
              "Unnamed: 0    0\n",
              "Article       0\n",
              "dtype: int64"
            ]
          },
          "metadata": {
            "tags": []
          },
          "execution_count": 7
        }
      ]
    },
    {
      "cell_type": "code",
      "metadata": {
        "id": "J8b4FG4y_-X3",
        "colab_type": "code",
        "colab": {
          "base_uri": "https://localhost:8080/",
          "height": 66
        },
        "outputId": "761cce26-9888-409c-abdc-fc88b175855d"
      },
      "source": [
        "df_fake.isna().sum() #No nan rows"
      ],
      "execution_count": null,
      "outputs": [
        {
          "output_type": "execute_result",
          "data": {
            "text/plain": [
              "Unnamed: 0    0\n",
              "0             0\n",
              "dtype: int64"
            ]
          },
          "metadata": {
            "tags": []
          },
          "execution_count": 8
        }
      ]
    },
    {
      "cell_type": "code",
      "metadata": {
        "id": "hKOUqCDhAAtr",
        "colab_type": "code",
        "colab": {
          "base_uri": "https://localhost:8080/",
          "height": 419
        },
        "outputId": "f5200a7b-2a2c-460c-b1b3-05d23ddabaa8"
      },
      "source": [
        "df_true"
      ],
      "execution_count": null,
      "outputs": [
        {
          "output_type": "execute_result",
          "data": {
            "text/html": [
              "<div>\n",
              "<style scoped>\n",
              "    .dataframe tbody tr th:only-of-type {\n",
              "        vertical-align: middle;\n",
              "    }\n",
              "\n",
              "    .dataframe tbody tr th {\n",
              "        vertical-align: top;\n",
              "    }\n",
              "\n",
              "    .dataframe thead th {\n",
              "        text-align: right;\n",
              "    }\n",
              "</style>\n",
              "<table border=\"1\" class=\"dataframe\">\n",
              "  <thead>\n",
              "    <tr style=\"text-align: right;\">\n",
              "      <th></th>\n",
              "      <th>Unnamed: 0</th>\n",
              "      <th>Article</th>\n",
              "    </tr>\n",
              "  </thead>\n",
              "  <tbody>\n",
              "    <tr>\n",
              "      <th>0</th>\n",
              "      <td>0</td>\n",
              "      <td>सोनभद्र जिले में सोमवार को 20 और लोगों की जांच...</td>\n",
              "    </tr>\n",
              "    <tr>\n",
              "      <th>1</th>\n",
              "      <td>1</td>\n",
              "      <td>Image Source : INSTAGRAM/TANUSRIDASGUPTA बालाज...</td>\n",
              "    </tr>\n",
              "    <tr>\n",
              "      <th>2</th>\n",
              "      <td>2</td>\n",
              "      <td>एंटरटेनमेंट डेस्क, अमर उजाला, Updated Sun, 12 ...</td>\n",
              "    </tr>\n",
              "    <tr>\n",
              "      <th>3</th>\n",
              "      <td>3</td>\n",
              "      <td>वाराणसी में बढ़ते कोरोना संक्रमित मरीजों की संख...</td>\n",
              "    </tr>\n",
              "    <tr>\n",
              "      <th>4</th>\n",
              "      <td>4</td>\n",
              "      <td>Image Source : PTI जम्मू-कश्मीर भाजपा अध्यक्ष ...</td>\n",
              "    </tr>\n",
              "    <tr>\n",
              "      <th>...</th>\n",
              "      <td>...</td>\n",
              "      <td>...</td>\n",
              "    </tr>\n",
              "    <tr>\n",
              "      <th>397</th>\n",
              "      <td>397</td>\n",
              "      <td>This Content has been blocked in your country ...</td>\n",
              "    </tr>\n",
              "    <tr>\n",
              "      <th>398</th>\n",
              "      <td>398</td>\n",
              "      <td>एंटरटेनमेंट डेस्क, अमर उजाला, Updated Mon, 13 ...</td>\n",
              "    </tr>\n",
              "    <tr>\n",
              "      <th>399</th>\n",
              "      <td>399</td>\n",
              "      <td>प्रतीकात्मक तस्वीर\\n\\nCovid-19 Live updates : ...</td>\n",
              "    </tr>\n",
              "    <tr>\n",
              "      <th>400</th>\n",
              "      <td>400</td>\n",
              "      <td>Image Source : FILE Coronavirus cases in Harya...</td>\n",
              "    </tr>\n",
              "    <tr>\n",
              "      <th>401</th>\n",
              "      <td>401</td>\n",
              "      <td>India Coronavirus Updates: भारत में कोरोना के ...</td>\n",
              "    </tr>\n",
              "  </tbody>\n",
              "</table>\n",
              "<p>402 rows × 2 columns</p>\n",
              "</div>"
            ],
            "text/plain": [
              "     Unnamed: 0                                            Article\n",
              "0             0  सोनभद्र जिले में सोमवार को 20 और लोगों की जांच...\n",
              "1             1  Image Source : INSTAGRAM/TANUSRIDASGUPTA बालाज...\n",
              "2             2  एंटरटेनमेंट डेस्क, अमर उजाला, Updated Sun, 12 ...\n",
              "3             3  वाराणसी में बढ़ते कोरोना संक्रमित मरीजों की संख...\n",
              "4             4  Image Source : PTI जम्मू-कश्मीर भाजपा अध्यक्ष ...\n",
              "..          ...                                                ...\n",
              "397         397  This Content has been blocked in your country ...\n",
              "398         398  एंटरटेनमेंट डेस्क, अमर उजाला, Updated Mon, 13 ...\n",
              "399         399  प्रतीकात्मक तस्वीर\\n\\nCovid-19 Live updates : ...\n",
              "400         400  Image Source : FILE Coronavirus cases in Harya...\n",
              "401         401  India Coronavirus Updates: भारत में कोरोना के ...\n",
              "\n",
              "[402 rows x 2 columns]"
            ]
          },
          "metadata": {
            "tags": []
          },
          "execution_count": 291
        }
      ]
    },
    {
      "cell_type": "code",
      "metadata": {
        "id": "d2Ys8tPsAISK",
        "colab_type": "code",
        "colab": {
          "base_uri": "https://localhost:8080/",
          "height": 406
        },
        "outputId": "669437e1-3a94-4b21-9d69-fbaf6d4d18c2"
      },
      "source": [
        "df_fake"
      ],
      "execution_count": null,
      "outputs": [
        {
          "output_type": "execute_result",
          "data": {
            "text/html": [
              "<div>\n",
              "<style scoped>\n",
              "    .dataframe tbody tr th:only-of-type {\n",
              "        vertical-align: middle;\n",
              "    }\n",
              "\n",
              "    .dataframe tbody tr th {\n",
              "        vertical-align: top;\n",
              "    }\n",
              "\n",
              "    .dataframe thead th {\n",
              "        text-align: right;\n",
              "    }\n",
              "</style>\n",
              "<table border=\"1\" class=\"dataframe\">\n",
              "  <thead>\n",
              "    <tr style=\"text-align: right;\">\n",
              "      <th></th>\n",
              "      <th>Unnamed: 0</th>\n",
              "      <th>0</th>\n",
              "    </tr>\n",
              "  </thead>\n",
              "  <tbody>\n",
              "    <tr>\n",
              "      <th>0</th>\n",
              "      <td>0</td>\n",
              "      <td>कोरोनोवायरस फैलाने के लिए बर्तन चाटते मुसलमान ...</td>\n",
              "    </tr>\n",
              "    <tr>\n",
              "      <th>1</th>\n",
              "      <td>1</td>\n",
              "      <td>इस्लामोफोबिक कथाओं के साथ वायरल हो रहे कोरोनोव...</td>\n",
              "    </tr>\n",
              "    <tr>\n",
              "      <th>2</th>\n",
              "      <td>2</td>\n",
              "      <td>कराची में हिंदुओं ने राशन से इनकार किया, पाकिस...</td>\n",
              "    </tr>\n",
              "    <tr>\n",
              "      <th>3</th>\n",
              "      <td>3</td>\n",
              "      <td>मुस्लिम व्यक्ति ने संगरोध से बचने के लिए पुलिस...</td>\n",
              "    </tr>\n",
              "    <tr>\n",
              "      <th>4</th>\n",
              "      <td>4</td>\n",
              "      <td>Muslim cop beats Hindu priest in MP कहा जा रहा...</td>\n",
              "    </tr>\n",
              "    <tr>\n",
              "      <th>...</th>\n",
              "      <td>...</td>\n",
              "      <td>...</td>\n",
              "    </tr>\n",
              "    <tr>\n",
              "      <th>436</th>\n",
              "      <td>436</td>\n",
              "      <td>चीन के विदेश मंत्रालय के प्रवक्ता ने ट्वीट किय...</td>\n",
              "    </tr>\n",
              "    <tr>\n",
              "      <th>437</th>\n",
              "      <td>437</td>\n",
              "      <td>SARS महामारी के दौरान, टेक्सास के वैज्ञानिकों ...</td>\n",
              "    </tr>\n",
              "    <tr>\n",
              "      <th>438</th>\n",
              "      <td>438</td>\n",
              "      <td>वायरस वास्तव में एक जैविक हथियार के रूप में ची...</td>\n",
              "    </tr>\n",
              "    <tr>\n",
              "      <th>439</th>\n",
              "      <td>439</td>\n",
              "      <td>विरोध प्रदर्शन एक दौड़ युद्ध शुरू करने के लिए ...</td>\n",
              "    </tr>\n",
              "    <tr>\n",
              "      <th>440</th>\n",
              "      <td>440</td>\n",
              "      <td>यहां तक ​​कि राष्ट्रपति ट्रम्प जैसे शीर्ष अधिक...</td>\n",
              "    </tr>\n",
              "  </tbody>\n",
              "</table>\n",
              "<p>441 rows × 2 columns</p>\n",
              "</div>"
            ],
            "text/plain": [
              "     Unnamed: 0                                                  0\n",
              "0             0  कोरोनोवायरस फैलाने के लिए बर्तन चाटते मुसलमान ...\n",
              "1             1  इस्लामोफोबिक कथाओं के साथ वायरल हो रहे कोरोनोव...\n",
              "2             2  कराची में हिंदुओं ने राशन से इनकार किया, पाकिस...\n",
              "3             3  मुस्लिम व्यक्ति ने संगरोध से बचने के लिए पुलिस...\n",
              "4             4  Muslim cop beats Hindu priest in MP कहा जा रहा...\n",
              "..          ...                                                ...\n",
              "436         436  चीन के विदेश मंत्रालय के प्रवक्ता ने ट्वीट किय...\n",
              "437         437  SARS महामारी के दौरान, टेक्सास के वैज्ञानिकों ...\n",
              "438         438  वायरस वास्तव में एक जैविक हथियार के रूप में ची...\n",
              "439         439  विरोध प्रदर्शन एक दौड़ युद्ध शुरू करने के लिए ...\n",
              "440         440  यहां तक ​​कि राष्ट्रपति ट्रम्प जैसे शीर्ष अधिक...\n",
              "\n",
              "[441 rows x 2 columns]"
            ]
          },
          "metadata": {
            "tags": []
          },
          "execution_count": 9
        }
      ]
    },
    {
      "cell_type": "code",
      "metadata": {
        "id": "Zz1WpFIDALR4",
        "colab_type": "code",
        "colab": {}
      },
      "source": [
        "fake = df_fake[\"0\"]\n",
        "true = df_true[\"Article\"]"
      ],
      "execution_count": null,
      "outputs": []
    },
    {
      "cell_type": "code",
      "metadata": {
        "id": "ExMoAqq5AR_r",
        "colab_type": "code",
        "colab": {
          "base_uri": "https://localhost:8080/",
          "height": 33
        },
        "outputId": "98c73e8d-6ae7-4bd4-dc53-fefa40d8b0ae"
      },
      "source": [
        "len(fake),len(true)"
      ],
      "execution_count": null,
      "outputs": [
        {
          "output_type": "execute_result",
          "data": {
            "text/plain": [
              "(441, 402)"
            ]
          },
          "metadata": {
            "tags": []
          },
          "execution_count": 11
        }
      ]
    },
    {
      "cell_type": "code",
      "metadata": {
        "id": "vG-HYjHvATsh",
        "colab_type": "code",
        "colab": {
          "base_uri": "https://localhost:8080/",
          "height": 100
        },
        "outputId": "1460dfc5-e8dd-4c67-abe1-71c27ff7945c"
      },
      "source": [
        "print(\"Hindi Article\\n--------------------------\\n\")\n",
        "print(f\"Number of Fake Articles : {len(fake)} \")\n",
        "print(f\"Number of True Article : {len(true)}\")"
      ],
      "execution_count": null,
      "outputs": [
        {
          "output_type": "stream",
          "text": [
            "Hindi Article\n",
            "--------------------------\n",
            "\n",
            "Number of Fake Articles : 441 \n",
            "Number of True Article : 402\n"
          ],
          "name": "stdout"
        }
      ]
    },
    {
      "cell_type": "code",
      "metadata": {
        "id": "4xHlIxPNAlcf",
        "colab_type": "code",
        "colab": {
          "base_uri": "https://localhost:8080/",
          "height": 197
        },
        "outputId": "2936fc98-1353-4050-a349-61f54a54e317"
      },
      "source": [
        "df_f = pd.DataFrame({'Article':fake})\n",
        "df_t = pd.DataFrame({'Article':true})\n",
        "df_t['category'] = 1\n",
        "df_f['category'] = 0\n",
        "df_t.to_csv(\"NewTrueh.csv\",index=False)\n",
        "df_f.to_csv(\"NewFakeh.csv\",index=False)\n",
        "df_f.head()"
      ],
      "execution_count": null,
      "outputs": [
        {
          "output_type": "execute_result",
          "data": {
            "text/html": [
              "<div>\n",
              "<style scoped>\n",
              "    .dataframe tbody tr th:only-of-type {\n",
              "        vertical-align: middle;\n",
              "    }\n",
              "\n",
              "    .dataframe tbody tr th {\n",
              "        vertical-align: top;\n",
              "    }\n",
              "\n",
              "    .dataframe thead th {\n",
              "        text-align: right;\n",
              "    }\n",
              "</style>\n",
              "<table border=\"1\" class=\"dataframe\">\n",
              "  <thead>\n",
              "    <tr style=\"text-align: right;\">\n",
              "      <th></th>\n",
              "      <th>Article</th>\n",
              "      <th>category</th>\n",
              "    </tr>\n",
              "  </thead>\n",
              "  <tbody>\n",
              "    <tr>\n",
              "      <th>0</th>\n",
              "      <td>कोरोनोवायरस फैलाने के लिए बर्तन चाटते मुसलमान ...</td>\n",
              "      <td>0</td>\n",
              "    </tr>\n",
              "    <tr>\n",
              "      <th>1</th>\n",
              "      <td>इस्लामोफोबिक कथाओं के साथ वायरल हो रहे कोरोनोव...</td>\n",
              "      <td>0</td>\n",
              "    </tr>\n",
              "    <tr>\n",
              "      <th>2</th>\n",
              "      <td>कराची में हिंदुओं ने राशन से इनकार किया, पाकिस...</td>\n",
              "      <td>0</td>\n",
              "    </tr>\n",
              "    <tr>\n",
              "      <th>3</th>\n",
              "      <td>मुस्लिम व्यक्ति ने संगरोध से बचने के लिए पुलिस...</td>\n",
              "      <td>0</td>\n",
              "    </tr>\n",
              "    <tr>\n",
              "      <th>4</th>\n",
              "      <td>Muslim cop beats Hindu priest in MP कहा जा रहा...</td>\n",
              "      <td>0</td>\n",
              "    </tr>\n",
              "  </tbody>\n",
              "</table>\n",
              "</div>"
            ],
            "text/plain": [
              "                                             Article  category\n",
              "0  कोरोनोवायरस फैलाने के लिए बर्तन चाटते मुसलमान ...         0\n",
              "1  इस्लामोफोबिक कथाओं के साथ वायरल हो रहे कोरोनोव...         0\n",
              "2  कराची में हिंदुओं ने राशन से इनकार किया, पाकिस...         0\n",
              "3  मुस्लिम व्यक्ति ने संगरोध से बचने के लिए पुलिस...         0\n",
              "4  Muslim cop beats Hindu priest in MP कहा जा रहा...         0"
            ]
          },
          "metadata": {
            "tags": []
          },
          "execution_count": 13
        }
      ]
    },
    {
      "cell_type": "code",
      "metadata": {
        "id": "adM7-Vo8Bx-1",
        "colab_type": "code",
        "colab": {
          "base_uri": "https://localhost:8080/",
          "height": 406
        },
        "outputId": "3fdb1574-9b7f-4a73-c25a-69cb53cdc928"
      },
      "source": [
        "new_articles = list(df_t['Article'])\n",
        "category1 = list(df_t['category'])\n",
        "category2 = list(df_f['category'])\n",
        "new_articles.extend(list(df_f['Article']))\n",
        "df = pd.DataFrame({'Article':new_articles,'Category':category1 + category2})\n",
        "df"
      ],
      "execution_count": null,
      "outputs": [
        {
          "output_type": "execute_result",
          "data": {
            "text/html": [
              "<div>\n",
              "<style scoped>\n",
              "    .dataframe tbody tr th:only-of-type {\n",
              "        vertical-align: middle;\n",
              "    }\n",
              "\n",
              "    .dataframe tbody tr th {\n",
              "        vertical-align: top;\n",
              "    }\n",
              "\n",
              "    .dataframe thead th {\n",
              "        text-align: right;\n",
              "    }\n",
              "</style>\n",
              "<table border=\"1\" class=\"dataframe\">\n",
              "  <thead>\n",
              "    <tr style=\"text-align: right;\">\n",
              "      <th></th>\n",
              "      <th>Article</th>\n",
              "      <th>Category</th>\n",
              "    </tr>\n",
              "  </thead>\n",
              "  <tbody>\n",
              "    <tr>\n",
              "      <th>0</th>\n",
              "      <td>सोनभद्र जिले में सोमवार को 20 और लोगों की जांच...</td>\n",
              "      <td>1</td>\n",
              "    </tr>\n",
              "    <tr>\n",
              "      <th>1</th>\n",
              "      <td>Image Source : INSTAGRAM/TANUSRIDASGUPTA बालाज...</td>\n",
              "      <td>1</td>\n",
              "    </tr>\n",
              "    <tr>\n",
              "      <th>2</th>\n",
              "      <td>एंटरटेनमेंट डेस्क, अमर उजाला, Updated Sun, 12 ...</td>\n",
              "      <td>1</td>\n",
              "    </tr>\n",
              "    <tr>\n",
              "      <th>3</th>\n",
              "      <td>वाराणसी में बढ़ते कोरोना संक्रमित मरीजों की संख...</td>\n",
              "      <td>1</td>\n",
              "    </tr>\n",
              "    <tr>\n",
              "      <th>4</th>\n",
              "      <td>Image Source : PTI जम्मू-कश्मीर भाजपा अध्यक्ष ...</td>\n",
              "      <td>1</td>\n",
              "    </tr>\n",
              "    <tr>\n",
              "      <th>...</th>\n",
              "      <td>...</td>\n",
              "      <td>...</td>\n",
              "    </tr>\n",
              "    <tr>\n",
              "      <th>838</th>\n",
              "      <td>चीन के विदेश मंत्रालय के प्रवक्ता ने ट्वीट किय...</td>\n",
              "      <td>0</td>\n",
              "    </tr>\n",
              "    <tr>\n",
              "      <th>839</th>\n",
              "      <td>SARS महामारी के दौरान, टेक्सास के वैज्ञानिकों ...</td>\n",
              "      <td>0</td>\n",
              "    </tr>\n",
              "    <tr>\n",
              "      <th>840</th>\n",
              "      <td>वायरस वास्तव में एक जैविक हथियार के रूप में ची...</td>\n",
              "      <td>0</td>\n",
              "    </tr>\n",
              "    <tr>\n",
              "      <th>841</th>\n",
              "      <td>विरोध प्रदर्शन एक दौड़ युद्ध शुरू करने के लिए ...</td>\n",
              "      <td>0</td>\n",
              "    </tr>\n",
              "    <tr>\n",
              "      <th>842</th>\n",
              "      <td>यहां तक ​​कि राष्ट्रपति ट्रम्प जैसे शीर्ष अधिक...</td>\n",
              "      <td>0</td>\n",
              "    </tr>\n",
              "  </tbody>\n",
              "</table>\n",
              "<p>843 rows × 2 columns</p>\n",
              "</div>"
            ],
            "text/plain": [
              "                                               Article  Category\n",
              "0    सोनभद्र जिले में सोमवार को 20 और लोगों की जांच...         1\n",
              "1    Image Source : INSTAGRAM/TANUSRIDASGUPTA बालाज...         1\n",
              "2    एंटरटेनमेंट डेस्क, अमर उजाला, Updated Sun, 12 ...         1\n",
              "3    वाराणसी में बढ़ते कोरोना संक्रमित मरीजों की संख...         1\n",
              "4    Image Source : PTI जम्मू-कश्मीर भाजपा अध्यक्ष ...         1\n",
              "..                                                 ...       ...\n",
              "838  चीन के विदेश मंत्रालय के प्रवक्ता ने ट्वीट किय...         0\n",
              "839  SARS महामारी के दौरान, टेक्सास के वैज्ञानिकों ...         0\n",
              "840  वायरस वास्तव में एक जैविक हथियार के रूप में ची...         0\n",
              "841  विरोध प्रदर्शन एक दौड़ युद्ध शुरू करने के लिए ...         0\n",
              "842  यहां तक ​​कि राष्ट्रपति ट्रम्प जैसे शीर्ष अधिक...         0\n",
              "\n",
              "[843 rows x 2 columns]"
            ]
          },
          "metadata": {
            "tags": []
          },
          "execution_count": 14
        }
      ]
    },
    {
      "cell_type": "markdown",
      "metadata": {
        "id": "8aWdzSlbA9ob",
        "colab_type": "text"
      },
      "source": [
        "# Data Cleaning\n"
      ]
    },
    {
      "cell_type": "markdown",
      "metadata": {
        "id": "5WOhwxVSBFZT",
        "colab_type": "text"
      },
      "source": [
        "##Removes the following things for further cleaning of the articles:\n",
        "\n",
        "\n",
        "*   PUNCTUATIONS\n",
        "*   EMOJI'S\n",
        "*   DATES\n",
        "*   LINKS\n",
        "*   EMAILS\n",
        "*   URLS\n",
        "*   NUMBERS\n",
        "\n",
        "\n",
        "\n"
      ]
    },
    {
      "cell_type": "code",
      "metadata": {
        "id": "qB8cjAyEBVpR",
        "colab_type": "code",
        "colab": {}
      },
      "source": [
        "  df = df.replace(r'[.\\w]{3,}@[.\\w]{5,}','', regex=True) #email\n",
        "  df = df.replace(r'https?://[.\\w]{3,}','', regex=True) #urls\n",
        "  df = df.replace(r'www.[.\\w]{3,}','', regex=True) #urls\n",
        "  df = df.replace(r'[0-9]','', regex=True) #numbers\n",
        "  df = df.replace(r'\\xa0',' ', regex=True) #escape sequences\n",
        "  df = df.replace(r'\\n',' ', regex=True)\n",
        "  df = df.replace(r'\\t','', regex=True)\n",
        "  df = df.replace(r'\\r','', regex=True)\n",
        "  df = df.replace(r'\\s\\s\\s','', regex=True)\n",
        "  #df = df.replace(r'\\u','',regex=True)"
      ],
      "execution_count": null,
      "outputs": []
    },
    {
      "cell_type": "code",
      "metadata": {
        "id": "IcAgl2GEBoed",
        "colab_type": "code",
        "colab": {}
      },
      "source": [
        "df.to_csv(\"cleaned.csv\") "
      ],
      "execution_count": null,
      "outputs": []
    },
    {
      "cell_type": "markdown",
      "metadata": {
        "id": "1QHgxi8qfpfK",
        "colab_type": "text"
      },
      "source": [
        "## **DATA PREPROCESSING**"
      ]
    },
    {
      "cell_type": "markdown",
      "metadata": {
        "id": "4ZrdmGsMfy-K",
        "colab_type": "text"
      },
      "source": [
        "*   Removing punctuation\n",
        "*   Tokenization\n",
        "*   Lemmatizing\n",
        "*   Stopwords\n",
        "*   Made a new csv file with final data"
      ]
    },
    {
      "cell_type": "markdown",
      "metadata": {
        "id": "6vm9im2jeRC3",
        "colab_type": "text"
      },
      "source": [
        "We used stemming for hindi"
      ]
    },
    {
      "cell_type": "code",
      "metadata": {
        "id": "DpMGyhuoClRC",
        "colab_type": "code",
        "colab": {
          "base_uri": "https://localhost:8080/",
          "height": 50
        },
        "outputId": "0ac1b7e0-cb86-46b1-f0ac-b866c8bfe03a"
      },
      "source": [
        "import nltk \n",
        "nltk.download('punkt')\n",
        "\n",
        "punctuations = '''!()-[]{};:'\"\\,<>./?@#$%^&*_~'''\n",
        "\n",
        "\n",
        "def remove_punct(my_str):\n",
        "  no_punct = \"\"\n",
        "  for char in my_str:\n",
        "    if char not in punctuations:\n",
        "        no_punct = no_punct + char\n",
        "  return no_punct\n",
        "\n",
        "def generate_stem_words(word):\n",
        "\t\tsuffixes = {\n",
        "    1: [u\"ो\",u\"े\",u\"ू\",u\"ु\",u\"ी\",u\"ि\",u\"ा\"],\n",
        "    2: [u\"कर\",u\"ाओ\",u\"िए\",u\"ाई\",u\"ाए\",u\"ने\",u\"नी\",u\"ना\",u\"ते\",u\"ीं\",u\"ती\",u\"ता\",u\"ाँ\",u\"ां\",u\"ों\",u\"ें\"],\n",
        "    3: [u\"ाकर\",u\"ाइए\",u\"ाईं\",u\"ाया\",u\"ेगी\",u\"ेगा\",u\"ोगी\",u\"ोगे\",u\"ाने\",u\"ाना\",u\"ाते\",u\"ाती\",u\"ाता\",u\"तीं\",u\"ाओं\",u\"ाएं\",u\"ुओं\",u\"ुएं\",u\"ुआं\"],\n",
        "    4: [u\"ाएगी\",u\"ाएगा\",u\"ाओगी\",u\"ाओगे\",u\"एंगी\",u\"ेंगी\",u\"एंगे\",u\"ेंगे\",u\"ूंगी\",u\"ूंगा\",u\"ातीं\",u\"नाओं\",u\"नाएं\",u\"ताओं\",u\"ताएं\",u\"ियाँ\",u\"ियों\",u\"ियां\"],\n",
        "    5: [u\"ाएंगी\",u\"ाएंगे\",u\"ाऊंगी\",u\"ाऊंगा\",u\"ाइयाँ\",u\"ाइयों\",u\"ाइयां\"],\n",
        "}\n",
        "  \n",
        "\t\tfor L in 5, 4, 3, 2, 1:\n",
        "\t\t\tif len(word) > L + 1:\n",
        "\t\t\t\tfor suf in suffixes[L]:\n",
        "\t\t\t\t\t#print type(suf),type(word),word,suf\n",
        "\t\t\t\t\tif word.endswith(suf):\n",
        "\t\t\t\t\t\t#print 'h'\n",
        "\t\t\t\t\t\treturn word[:-L]\n",
        "\t\treturn word\n",
        "def generate(text):\n",
        "  new=[]\n",
        "  for w in text:\n",
        "    word = generate_stem_words(w)\n",
        "    new.append(word)\n",
        "  return \" \".join(new)\n",
        "with open(\"stopwords.txt\") as f:\n",
        "  all_stopwords = f.read().split(\"\\n\")\n",
        "\n",
        "def remove_stop_words(text_list):\n",
        "  new = [text for text in text_list if not (text in all_stopwords)]\n",
        "  return \" \".join(new)\n",
        "hi = remove_stop_words(nltk.word_tokenize(df['Article'][0]))\n",
        "\n",
        "def preprocess(df):\n",
        "  df['punctuated'] = df['Article'].apply(remove_punct)\n",
        "  df['stemmed'] = df['punctuated'].apply(lambda x:generate(nltk.word_tokenize(x)))\n",
        "  df['stopwords'] = df['stemmed'].apply(lambda x:remove_stop_words(nltk.word_tokenize(x)))\n",
        "  return df\n",
        "  "
      ],
      "execution_count": null,
      "outputs": [
        {
          "output_type": "stream",
          "text": [
            "[nltk_data] Downloading package punkt to /root/nltk_data...\n",
            "[nltk_data]   Unzipping tokenizers/punkt.zip.\n"
          ],
          "name": "stdout"
        }
      ]
    },
    {
      "cell_type": "code",
      "metadata": {
        "id": "ezEXpBeiC3UV",
        "colab_type": "code",
        "colab": {}
      },
      "source": [
        "\n",
        "df = preprocess(df)"
      ],
      "execution_count": null,
      "outputs": []
    },
    {
      "cell_type": "code",
      "metadata": {
        "id": "0wmyADbWDoiu",
        "colab_type": "code",
        "colab": {
          "base_uri": "https://localhost:8080/",
          "height": 590
        },
        "outputId": "75383b91-9561-4200-d822-faa52a248d51"
      },
      "source": [
        "df"
      ],
      "execution_count": null,
      "outputs": [
        {
          "output_type": "execute_result",
          "data": {
            "text/html": [
              "<div>\n",
              "<style scoped>\n",
              "    .dataframe tbody tr th:only-of-type {\n",
              "        vertical-align: middle;\n",
              "    }\n",
              "\n",
              "    .dataframe tbody tr th {\n",
              "        vertical-align: top;\n",
              "    }\n",
              "\n",
              "    .dataframe thead th {\n",
              "        text-align: right;\n",
              "    }\n",
              "</style>\n",
              "<table border=\"1\" class=\"dataframe\">\n",
              "  <thead>\n",
              "    <tr style=\"text-align: right;\">\n",
              "      <th></th>\n",
              "      <th>Article</th>\n",
              "      <th>Category</th>\n",
              "      <th>punctuated</th>\n",
              "      <th>stemmed</th>\n",
              "      <th>stopwords</th>\n",
              "    </tr>\n",
              "  </thead>\n",
              "  <tbody>\n",
              "    <tr>\n",
              "      <th>0</th>\n",
              "      <td>सोनभद्र जिले में सोमवार को  और लोगों की जांच र...</td>\n",
              "      <td>1</td>\n",
              "      <td>सोनभद्र जिले में सोमवार को  और लोगों की जांच र...</td>\n",
              "      <td>सोनभद्र जिल में सोमवार को और लोग की जांच रिपोर...</td>\n",
              "      <td>सोनभद्र जिल सोमवार लोग जांच रिपोर्ट कोरो पाजिट...</td>\n",
              "    </tr>\n",
              "    <tr>\n",
              "      <th>1</th>\n",
              "      <td>Image Source : INSTAGRAM/TANUSRIDASGUPTA बालाज...</td>\n",
              "      <td>1</td>\n",
              "      <td>Image Source  INSTAGRAMTANUSRIDASGUPTA बालाजी ...</td>\n",
              "      <td>Image Source INSTAGRAMTANUSRIDASGUPTA बालाज टे...</td>\n",
              "      <td>Image Source INSTAGRAMTANUSRIDASGUPTA बालाज टे...</td>\n",
              "    </tr>\n",
              "    <tr>\n",
              "      <th>2</th>\n",
              "      <td>एंटरटेनमेंट डेस्क, अमर उजाला, Updated Sun,  Ju...</td>\n",
              "      <td>1</td>\n",
              "      <td>एंटरटेनमेंट डेस्क अमर उजाला Updated Sun  Jul  ...</td>\n",
              "      <td>एंटरटेनमेंट डेस्क अमर उजाल Updated Sun Jul PM ...</td>\n",
              "      <td>एंटरटेनमेंट डेस्क अमर उजाल Updated Sun Jul PM ...</td>\n",
              "    </tr>\n",
              "    <tr>\n",
              "      <th>3</th>\n",
              "      <td>वाराणसी में बढ़ते कोरोना संक्रमित मरीजों की संख...</td>\n",
              "      <td>1</td>\n",
              "      <td>वाराणसी में बढ़ते कोरोना संक्रमित मरीजों की संख...</td>\n",
              "      <td>वाराणस में बढ़ कोरो संक्रमित मरीज की संख्य को द...</td>\n",
              "      <td>वाराणस बढ़ कोरो संक्रमित मरीज संख्य देख जिल प्र...</td>\n",
              "    </tr>\n",
              "    <tr>\n",
              "      <th>4</th>\n",
              "      <td>Image Source : PTI जम्मू-कश्मीर भाजपा अध्यक्ष ...</td>\n",
              "      <td>1</td>\n",
              "      <td>Image Source  PTI जम्मूकश्मीर भाजपा अध्यक्ष रव...</td>\n",
              "      <td>Image Source PTI जम्मूकश्मीर भाजप अध्यक्ष रविं...</td>\n",
              "      <td>Image Source PTI जम्मूकश्मीर भाजप अध्यक्ष रविं...</td>\n",
              "    </tr>\n",
              "    <tr>\n",
              "      <th>...</th>\n",
              "      <td>...</td>\n",
              "      <td>...</td>\n",
              "      <td>...</td>\n",
              "      <td>...</td>\n",
              "      <td>...</td>\n",
              "    </tr>\n",
              "    <tr>\n",
              "      <th>838</th>\n",
              "      <td>चीन के विदेश मंत्रालय के प्रवक्ता ने ट्वीट किय...</td>\n",
              "      <td>0</td>\n",
              "      <td>चीन के विदेश मंत्रालय के प्रवक्ता ने ट्वीट किय...</td>\n",
              "      <td>चीन के विदेश मंत्रालय के प्रवक् ने ट्वीट किय क...</td>\n",
              "      <td>चीन विदेश मंत्रालय प्रवक् ट्वीट किय संभव अमेरि...</td>\n",
              "    </tr>\n",
              "    <tr>\n",
              "      <th>839</th>\n",
              "      <td>SARS महामारी के दौरान, टेक्सास के वैज्ञानिकों ...</td>\n",
              "      <td>0</td>\n",
              "      <td>SARS महामारी के दौरान टेक्सास के वैज्ञानिकों क...</td>\n",
              "      <td>SARS महामार के दौरान टेक्सास के वैज्ञानिक की ए...</td>\n",
              "      <td>SARS महामार दौरान टेक्सास वैज्ञानिक टीम वायरस ...</td>\n",
              "    </tr>\n",
              "    <tr>\n",
              "      <th>840</th>\n",
              "      <td>वायरस वास्तव में एक जैविक हथियार के रूप में ची...</td>\n",
              "      <td>0</td>\n",
              "      <td>वायरस वास्तव में एक जैविक हथियार के रूप में ची...</td>\n",
              "      <td>वायरस वास्तव में एक जैविक हथियार के रूप में ची...</td>\n",
              "      <td>वायरस वास्तव जैविक हथियार रूप ची वैज्ञानिक द्व...</td>\n",
              "    </tr>\n",
              "    <tr>\n",
              "      <th>841</th>\n",
              "      <td>विरोध प्रदर्शन एक दौड़ युद्ध शुरू करने के लिए ...</td>\n",
              "      <td>0</td>\n",
              "      <td>विरोध प्रदर्शन एक दौड़ युद्ध शुरू करने के लिए ...</td>\n",
              "      <td>विरोध प्रदर्शन एक दौड़ युद्ध शुर कर के लिए किय...</td>\n",
              "      <td>विरोध प्रदर्शन दौड़ युद्ध शुर किय गय ताक आग लॉ...</td>\n",
              "    </tr>\n",
              "    <tr>\n",
              "      <th>842</th>\n",
              "      <td>यहां तक ​​कि राष्ट्रपति ट्रम्प जैसे शीर्ष अधिक...</td>\n",
              "      <td>0</td>\n",
              "      <td>यहां तक ​​कि राष्ट्रपति ट्रम्प जैसे शीर्ष अधिक...</td>\n",
              "      <td>यह तक ​​क राष्ट्रपत ट्रम्प जैस शीर्ष अधिकार से...</td>\n",
              "      <td>​​क राष्ट्रपत ट्रम्प जैस शीर्ष अधिकार जानकार म...</td>\n",
              "    </tr>\n",
              "  </tbody>\n",
              "</table>\n",
              "<p>843 rows × 5 columns</p>\n",
              "</div>"
            ],
            "text/plain": [
              "                                               Article  ...                                          stopwords\n",
              "0    सोनभद्र जिले में सोमवार को  और लोगों की जांच र...  ...  सोनभद्र जिल सोमवार लोग जांच रिपोर्ट कोरो पाजिट...\n",
              "1    Image Source : INSTAGRAM/TANUSRIDASGUPTA बालाज...  ...  Image Source INSTAGRAMTANUSRIDASGUPTA बालाज टे...\n",
              "2    एंटरटेनमेंट डेस्क, अमर उजाला, Updated Sun,  Ju...  ...  एंटरटेनमेंट डेस्क अमर उजाल Updated Sun Jul PM ...\n",
              "3    वाराणसी में बढ़ते कोरोना संक्रमित मरीजों की संख...  ...  वाराणस बढ़ कोरो संक्रमित मरीज संख्य देख जिल प्र...\n",
              "4    Image Source : PTI जम्मू-कश्मीर भाजपा अध्यक्ष ...  ...  Image Source PTI जम्मूकश्मीर भाजप अध्यक्ष रविं...\n",
              "..                                                 ...  ...                                                ...\n",
              "838  चीन के विदेश मंत्रालय के प्रवक्ता ने ट्वीट किय...  ...  चीन विदेश मंत्रालय प्रवक् ट्वीट किय संभव अमेरि...\n",
              "839  SARS महामारी के दौरान, टेक्सास के वैज्ञानिकों ...  ...  SARS महामार दौरान टेक्सास वैज्ञानिक टीम वायरस ...\n",
              "840  वायरस वास्तव में एक जैविक हथियार के रूप में ची...  ...  वायरस वास्तव जैविक हथियार रूप ची वैज्ञानिक द्व...\n",
              "841  विरोध प्रदर्शन एक दौड़ युद्ध शुरू करने के लिए ...  ...  विरोध प्रदर्शन दौड़ युद्ध शुर किय गय ताक आग लॉ...\n",
              "842  यहां तक ​​कि राष्ट्रपति ट्रम्प जैसे शीर्ष अधिक...  ...  ​​क राष्ट्रपत ट्रम्प जैस शीर्ष अधिकार जानकार म...\n",
              "\n",
              "[843 rows x 5 columns]"
            ]
          },
          "metadata": {
            "tags": []
          },
          "execution_count": 19
        }
      ]
    },
    {
      "cell_type": "code",
      "metadata": {
        "id": "8mkzdYCNDqCQ",
        "colab_type": "code",
        "colab": {
          "base_uri": "https://localhost:8080/",
          "height": 154
        },
        "outputId": "7374125c-9bf7-4fc9-a443-18fc0c9676b0"
      },
      "source": [
        "df['punctuated'][5]"
      ],
      "execution_count": null,
      "outputs": [
        {
          "output_type": "execute_result",
          "data": {
            "application/vnd.google.colaboratory.intrinsic": {
              "type": "string"
            },
            "text/plain": [
              "'कुपोषण को लेकर UN की रिपोर्ट पर बोले पूर्व खाद्य सचिव सरकार के  किलो अनाज देने से नहीं चलेगा काम पीठ ने कहा कि एक बार इसका निदान हो जाए तो यह सभी अस्पतालों को प्रेषित किया जाना चाहिए अदालत ने इसका समाधान तलाशने के लिए आईसीएमआर को  जुलाई तक का वक्त दिया है और हलफनामे के जरिए अदालत को सूचित करने को कहा है मानव व्यवहार और संबद्ध विज्ञान संस्थान आईएचबीएस ने वकील तुषार सन्नू के जरिए अदालत को सूचित किया था कि उसके यहां भर्ती मानसिक रूप से बीमार लोगों की कोरोना वायरस की जांच करने में दो बाधाएं हैं इसके बाद अदालत का आदेश आया सन्नू ने कहा कि  जून के आईसीएमआर के परामर्श के अनुसार जिस व्यक्ति की कोविड की जांच होनी है उसे सरकार द्वारा जारी पहचान प्रमाण देना होगा और उसके पास वैध फोन नंबर होना चाहिए ताकि उसका और उसके संपर्क में आए लोगों का पता लगाया जा सके उन्होंने कहा कि अधिकतर मानसिक रूप से बीमार व्यक्ति दोनों में से कोई भी शर्त पूरी नहीं करते हैं लिहाजा उनकी कोरोना वायरस की जांच नहीं की जा सकती है आईएचबीएएस ने सुझाव दिया कि आईसीएमआर के दिशानिर्देशों में मानसिक रूप से बीमार बेघर लोगों की परेशानी के मद्देनजर उचित संशोधन किये जाएं  उच्च न्यायालय वकील गौरव कुमार बंसल की याचिका पर सुनवाई कर रहा था  उन्होंने अपनी याचिका में राष्ट्रीय राजधानी में मानसिक रूप से बीमार बेघर लोगों की कोविड जांच के लिए आईसीएमआर और दिल्ली सरकार को दिशानिर्देश जारी करने के लिए निर्देश देने का अनुरोध किया है दिल्ली सरकार ने अपने हलफनामे में कहा है कि वह आईसीएमआर के  जून के परामर्श का पालन कर रही है  VIDEOप्लाज़्मा लेने वाले ज़्यादा देने वाले कम अब दिल्ली प्लाज़्मा बैंक ने बनाई ये नई व्यवस्था'"
            ]
          },
          "metadata": {
            "tags": []
          },
          "execution_count": 303
        }
      ]
    },
    {
      "cell_type": "code",
      "metadata": {
        "id": "ymfJb-faD3nn",
        "colab_type": "code",
        "colab": {
          "base_uri": "https://localhost:8080/",
          "height": 154
        },
        "outputId": "73d2d934-9abe-40ff-e4d2-3d4e9508b153"
      },
      "source": [
        "df['stemmed'][5]"
      ],
      "execution_count": null,
      "outputs": [
        {
          "output_type": "execute_result",
          "data": {
            "application/vnd.google.colaboratory.intrinsic": {
              "type": "string"
            },
            "text/plain": [
              "'कुपोषण को ले UN की रिपोर्ट पर बोल पूर्व खाद्य सचिव सरकार के किल अनाज दे से नह चल काम पीठ ने कह कि एक बार इसक निदान हो जाए तो यह सभ अस्पताल को प्रेषित किय जा चाह अदालत ने इसक समाधान तलाश के लिए आईसीएमआर को जुल तक का वक्त दिय है और हलफनाम के जर अदालत को सूचित कर को कह है मानव व्यवहार और संबद्ध विज्ञान संस्थान आईएचबीएस ने वकील तुषार सन्न के जर अदालत को सूचित किय था कि उसक यह भर् मानसिक रूप से बीमार लोग की कोरो वायरस की जांच कर में दो बाध हैं इसक बाद अदालत का आदेश आय सन्न ने कह कि जून के आईसीएमआर के परामर्श के अनुसार जिस व्यक्त की कोविड की जांच हो है उस सरकार द्वार जार पहचान प्रमाण दे होग और उसक पास वैध फोन नंबर हो चाह ताक उसक और उसक संपर्क में आए लोग का पत लग जा सक उन्हों कह कि अधिकतर मानसिक रूप से बीमार व्यक्त दोन में से कोई भी शर्त पूर नह कर हैं लिहाज उनक कोरो वायरस की जांच नह की जा सक है आईएचबीएएस ने सुझाव दिय कि आईसीएमआर के दिशानिर्देश में मानसिक रूप से बीमार बेघर लोग की परेशा के मद्देनजर उचित संशोधन किय जाएं उच्च न्यायालय वकील गौरव कुमार बंसल की याचिक पर सुनव कर रह था उन्हों अप याचिक में राष्ट्रीय राजधा में मानसिक रूप से बीमार बेघर लोग की कोविड जांच के लिए आईसीएमआर और दिल्ल सरकार को दिशानिर्देश जार कर के लिए निर्देश दे का अनुरोध किय है दिल्ल सरकार ने अप हलफनाम में कह है कि वह आईसीएमआर के जून के परामर्श का पालन कर रह है VIDEOप्लाज़्म ले वाल ज़्याद दे वाल कम अब दिल्ल प्लाज़्म बैंक ने बन ये नई व्यवस्थ'"
            ]
          },
          "metadata": {
            "tags": []
          },
          "execution_count": 304
        }
      ]
    },
    {
      "cell_type": "code",
      "metadata": {
        "id": "FuHjhqHXD7C_",
        "colab_type": "code",
        "colab": {
          "base_uri": "https://localhost:8080/",
          "height": 154
        },
        "outputId": "00d13a4e-ba47-40e4-a9a1-f59502c07c88"
      },
      "source": [
        "df['stopwords'][5]"
      ],
      "execution_count": null,
      "outputs": [
        {
          "output_type": "execute_result",
          "data": {
            "application/vnd.google.colaboratory.intrinsic": {
              "type": "string"
            },
            "text/plain": [
              "'कुपोषण ले UN रिपोर्ट बोल पूर्व खाद्य सचिव सरकार किल अनाज दे नह चल काम पीठ कह बार इसक निदान जाए सभ अस्पताल प्रेषित किय चाह अदालत इसक समाधान तलाश आईसीएमआर जुल वक्त दिय हलफनाम जर अदालत सूचित कह मानव व्यवहार संबद्ध विज्ञान संस्थान आईएचबीएस वकील तुषार सन्न जर अदालत सूचित किय उसक भर् मानसिक रूप बीमार लोग कोरो वायरस जांच बाध इसक अदालत आदेश आय सन्न कह जून आईसीएमआर परामर्श अनुसार व्यक्त कोविड जांच सरकार द्वार जार पहचान प्रमाण दे होग उसक पास वैध फोन नंबर चाह ताक उसक उसक संपर्क आए लोग पत लग सक कह अधिकतर मानसिक रूप बीमार व्यक्त दोन शर्त पूर नह लिहाज उनक कोरो वायरस जांच नह सक आईएचबीएएस सुझाव दिय आईसीएमआर दिशानिर्देश मानसिक रूप बीमार बेघर लोग परेशा मद्देनजर उचित संशोधन किय जाएं उच्च न्यायालय वकील गौरव कुमार बंसल याचिक सुनव रह अप याचिक राष्ट्रीय राजधा मानसिक रूप बीमार बेघर लोग कोविड जांच आईसीएमआर दिल्ल सरकार दिशानिर्देश जार निर्देश दे अनुरोध किय दिल्ल सरकार अप हलफनाम कह आईसीएमआर जून परामर्श पालन रह VIDEOप्लाज़्म ले वाल ज़्याद दे वाल कम अब दिल्ल प्लाज़्म बैंक बन नई व्यवस्थ'"
            ]
          },
          "metadata": {
            "tags": []
          },
          "execution_count": 305
        }
      ]
    },
    {
      "cell_type": "code",
      "metadata": {
        "id": "GlAm8PJaED00",
        "colab_type": "code",
        "colab": {}
      },
      "source": [
        "df.to_csv(\"cleaned_hindi.csv\")"
      ],
      "execution_count": null,
      "outputs": []
    },
    {
      "cell_type": "markdown",
      "metadata": {
        "id": "wLdUsX8Gf_MU",
        "colab_type": "text"
      },
      "source": [
        "## **VECTORISATION**"
      ]
    },
    {
      "cell_type": "code",
      "metadata": {
        "id": "zvt0eno8EQoI",
        "colab_type": "code",
        "colab": {}
      },
      "source": [
        "from sklearn.feature_extraction.text import TfidfVectorizer\n",
        "vectorizer = TfidfVectorizer(\n",
        "                            \n",
        "                            analyzer='word',\n",
        "                            ngram_range=(1, 3),\n",
        "                            max_features=2000\n",
        "                            #max_df=0.5 # Verwendet im ML-Kurs unter Preprocessing                   \n",
        "                            )\n",
        "\n",
        "X = vectorizer.fit_transform(df['stopwords']).toarray() # remember to use the original X_train set\n"
      ],
      "execution_count": null,
      "outputs": []
    },
    {
      "cell_type": "code",
      "metadata": {
        "id": "GUrTurAQEcPT",
        "colab_type": "code",
        "colab": {
          "base_uri": "https://localhost:8080/",
          "height": 136
        },
        "outputId": "e7de693e-17aa-47a7-fe71-ffc8f841e2dd"
      },
      "source": [
        "vectorizer.get_feature_names"
      ],
      "execution_count": null,
      "outputs": [
        {
          "output_type": "execute_result",
          "data": {
            "text/plain": [
              "<bound method CountVectorizer.get_feature_names of TfidfVectorizer(analyzer='word', binary=False, decode_error='strict',\n",
              "                dtype=<class 'numpy.float64'>, encoding='utf-8',\n",
              "                input='content', lowercase=True, max_df=1.0, max_features=2000,\n",
              "                min_df=1, ngram_range=(1, 3), norm='l2', preprocessor=None,\n",
              "                smooth_idf=True, stop_words=None, strip_accents=None,\n",
              "                sublinear_tf=False, token_pattern='(?u)\\\\b\\\\w\\\\w+\\\\b',\n",
              "                tokenizer=None, use_idf=True, vocabulary=None)>"
            ]
          },
          "metadata": {
            "tags": []
          },
          "execution_count": 308
        }
      ]
    },
    {
      "cell_type": "code",
      "metadata": {
        "id": "h1sor-67EgSJ",
        "colab_type": "code",
        "colab": {
          "base_uri": "https://localhost:8080/",
          "height": 1000
        },
        "outputId": "2236c54b-a284-4f82-bec4-fea831d02210"
      },
      "source": [
        "vectorizer.vocabulary_"
      ],
      "execution_count": null,
      "outputs": [
        {
          "output_type": "execute_result",
          "data": {
            "text/plain": [
              "{'मव': 1422,\n",
              " 'आई': 405,\n",
              " 'इनम': 502,\n",
              " 'रम': 1604,\n",
              " 'पर': 1177,\n",
              " 'सर': 1926,\n",
              " 'आठ': 441,\n",
              " 'कर': 710,\n",
              " 'इनक': 501,\n",
              " 'अल': 377,\n",
              " 'बर': 1290,\n",
              " 'सग': 1872,\n",
              " 'हर': 1983,\n",
              " 'मल': 1386,\n",
              " 'रह': 1680,\n",
              " 'इसक': 515,\n",
              " 'एमओ': 628,\n",
              " 'एसक': 640,\n",
              " 'उप': 568,\n",
              " 'अब': 337,\n",
              " 'सबस': 1898,\n",
              " 'रस': 1678,\n",
              " 'इत': 494,\n",
              " 'मर': 1356,\n",
              " 'गई': 772,\n",
              " 'वस': 1805,\n",
              " 'गए': 799,\n",
              " 'जबक': 933,\n",
              " 'मध': 1346,\n",
              " 'यर': 1475,\n",
              " 'टर': 963,\n",
              " 'इल': 504,\n",
              " 'चल': 897,\n",
              " 'रम रम': 1633,\n",
              " 'रम पर': 1620,\n",
              " 'पर सर': 1199,\n",
              " 'मल रह': 1418,\n",
              " 'रह इसक': 1689,\n",
              " 'अब सबस': 349,\n",
              " 'इसक रम': 524,\n",
              " 'रम गई': 1616,\n",
              " 'गए जबक': 805,\n",
              " 'यर टर': 1477,\n",
              " 'इल चल': 507,\n",
              " 'चल रह': 901,\n",
              " 'इल चल रह': 508,\n",
              " 'image': 98,\n",
              " 'source': 198,\n",
              " 'एट': 618,\n",
              " 'समय': 1920,\n",
              " 'यरस': 1482,\n",
              " 'दस': 1065,\n",
              " 'तक': 994,\n",
              " 'मह': 1426,\n",
              " 'यक': 1450,\n",
              " 'अम': 361,\n",
              " 'बच': 1237,\n",
              " 'चन': 882,\n",
              " 'अभ': 352,\n",
              " 'ऐश': 646,\n",
              " 'वर': 1789,\n",
              " 'आर': 472,\n",
              " 'अन': 299,\n",
              " 'पम': 1174,\n",
              " 'एक': 596,\n",
              " 'समथ': 1919,\n",
              " 'गय': 820,\n",
              " 'कप': 698,\n",
              " 'तन': 1008,\n",
              " 'चप': 891,\n",
              " 'बत': 1268,\n",
              " 'पहल': 1220,\n",
              " 'ऑक': 654,\n",
              " 'जन': 924,\n",
              " 'वल': 1800,\n",
              " 'लग': 1737,\n",
              " 'उन': 549,\n",
              " 'बई': 1231,\n",
              " 'वन': 1785,\n",
              " 'टल': 976,\n",
              " 'एडम': 620,\n",
              " 'उनक': 558,\n",
              " 'लक': 1732,\n",
              " 'षण': 1840,\n",
              " 'कस': 742,\n",
              " 'दग': 1044,\n",
              " 'नए': 1076,\n",
              " 'एप': 623,\n",
              " 'नह': 1131,\n",
              " 'कह': 743,\n",
              " 'कम': 703,\n",
              " 'शन': 1816,\n",
              " 'अस': 387,\n",
              " 'पत': 1154,\n",
              " 'लड': 1752,\n",
              " 'सल': 1946,\n",
              " 'गर': 864,\n",
              " 'सक': 1854,\n",
              " 'इसस': 527,\n",
              " 'अप': 322,\n",
              " 'जर': 946,\n",
              " 'रत': 1552,\n",
              " 'आग': 434,\n",
              " 'गहर': 875,\n",
              " 'भर': 1315,\n",
              " 'पड': 1151,\n",
              " 'मच': 1330,\n",
              " 'मदद': 1344,\n",
              " 'उसक': 586,\n",
              " 'अगर': 269,\n",
              " 'सह': 1952,\n",
              " 'डर': 987,\n",
              " 'हम': 1974,\n",
              " 'सभ': 1907,\n",
              " 'जल': 951,\n",
              " 'पस': 1210,\n",
              " 'रतलब': 1572,\n",
              " 'यल': 1530,\n",
              " 'आन': 450,\n",
              " 'तस': 1029,\n",
              " 'करक': 724,\n",
              " 'हल': 1994,\n",
              " 'छल': 905,\n",
              " 'आय': 470,\n",
              " 'एमस': 630,\n",
              " 'इडल': 492,\n",
              " 'इन': 495,\n",
              " 'सप': 1890,\n",
              " 'टफ': 961,\n",
              " 'रख': 1541,\n",
              " 'एग': 608,\n",
              " 'full': 82,\n",
              " 'coverage': 55,\n",
              " 'image source': 99,\n",
              " 'यरस रह': 1522,\n",
              " 'रह अब': 1684,\n",
              " 'मह यक': 1440,\n",
              " 'अम बच': 363,\n",
              " 'बच चन': 1238,\n",
              " 'चन अभ': 883,\n",
              " 'ऐश वर': 647,\n",
              " 'वर आर': 1791,\n",
              " 'रम गए': 1618,\n",
              " 'अन पम': 306,\n",
              " 'गई एक': 782,\n",
              " 'एक टर': 599,\n",
              " 'गय अब': 827,\n",
              " 'ऑक जन': 655,\n",
              " 'जन वल': 926,\n",
              " 'टल एडम': 977,\n",
              " 'गय उनक': 835,\n",
              " 'सबस पहल': 1903,\n",
              " 'लक षण': 1733,\n",
              " 'शन अस': 1817,\n",
              " 'अस पत': 388,\n",
              " 'पत गय': 1161,\n",
              " 'गय टर': 843,\n",
              " 'इसस पहल': 528,\n",
              " 'पहल अप': 1221,\n",
              " 'जर रत': 948,\n",
              " 'रत नह': 1556,\n",
              " 'नह रह': 1141,\n",
              " 'आग कह': 435,\n",
              " 'कर मच': 717,\n",
              " 'रह अभ': 1685,\n",
              " 'नह हम': 1145,\n",
              " 'हम सभ': 1980,\n",
              " 'रह जल': 1705,\n",
              " 'यर करक': 1476,\n",
              " 'हल लक': 1995,\n",
              " 'षण सक': 1847,\n",
              " 'गय सभ': 858,\n",
              " 'पर आय': 1181,\n",
              " 'इडल इन': 493,\n",
              " 'full coverage': 83,\n",
              " 'अम बच चन': 364,\n",
              " 'बच चन अभ': 1239,\n",
              " 'ऐश वर आर': 648,\n",
              " 'ऑक जन वल': 656,\n",
              " 'अस पत गय': 393,\n",
              " 'जर रत नह': 949,\n",
              " 'हल लक षण': 1996,\n",
              " 'टरट': 972,\n",
              " 'नम': 1107,\n",
              " 'अमर': 367,\n",
              " 'उज': 535,\n",
              " 'updated': 244,\n",
              " 'sun': 208,\n",
              " 'jul': 133,\n",
              " 'pm': 178,\n",
              " 'शल': 1830,\n",
              " 'टरट नम': 973,\n",
              " 'नम अमर': 1108,\n",
              " 'अमर उज': 368,\n",
              " 'उज updated': 536,\n",
              " 'updated sun': 247,\n",
              " 'sun jul': 209,\n",
              " 'jul pm': 138,\n",
              " 'वर बच': 1794,\n",
              " 'टरट नम अमर': 974,\n",
              " 'नम अमर उज': 1109,\n",
              " 'अमर उज updated': 369,\n",
              " 'updated sun jul': 248,\n",
              " 'sun jul pm': 210,\n",
              " 'वर बच चन': 1795,\n",
              " 'णस': 993,\n",
              " 'बढ़': 1306,\n",
              " 'रश': 1676,\n",
              " 'सन': 1888,\n",
              " 'सख': 1871,\n",
              " 'बरत': 1293,\n",
              " 'लय': 1764,\n",
              " 'ठक': 980,\n",
              " 'एम': 624,\n",
              " 'शर': 1829,\n",
              " 'लन': 1755,\n",
              " 'अध': 280,\n",
              " 'कड': 677,\n",
              " 'मज': 1333,\n",
              " 'नल': 1121,\n",
              " 'नगर': 1094,\n",
              " 'गम': 819,\n",
              " 'रव': 1660,\n",
              " 'खर': 771,\n",
              " 'बज': 1244,\n",
              " 'बह': 1298,\n",
              " 'सड': 1880,\n",
              " 'वजह': 1779,\n",
              " 'उड': 539,\n",
              " 'लर': 1769,\n",
              " 'सम': 1910,\n",
              " 'तथ': 1007,\n",
              " 'उल': 583,\n",
              " 'घन': 877,\n",
              " 'सच': 1874,\n",
              " 'नजर': 1099,\n",
              " 'बस': 1296,\n",
              " 'लव': 1770,\n",
              " 'सरक': 1933,\n",
              " 'इव': 512,\n",
              " 'यद': 1462,\n",
              " 'यम': 1467,\n",
              " 'गल': 868,\n",
              " 'सफ': 1892,\n",
              " 'उठ': 538,\n",
              " 'जम': 939,\n",
              " 'आद': 444,\n",
              " 'आव': 476,\n",
              " 'मक': 1324,\n",
              " 'जगह': 919,\n",
              " 'छत': 903,\n",
              " 'कब': 700,\n",
              " 'उनस': 567,\n",
              " 'नर': 1120,\n",
              " 'कल': 727,\n",
              " 'कन': 697,\n",
              " 'पहच': 1217,\n",
              " 'रमण': 1638,\n",
              " 'एड': 619,\n",
              " 'एसप': 643,\n",
              " 'एचय': 612,\n",
              " 'रच': 1545,\n",
              " 'पहर': 1219,\n",
              " 'एस': 637,\n",
              " 'अपन': 332,\n",
              " 'दव': 1064,\n",
              " 'करव': 726,\n",
              " 'रम मर': 1625,\n",
              " 'रश सन': 1677,\n",
              " 'कड उन': 681,\n",
              " 'नगर गम': 1095,\n",
              " 'अप अप': 323,\n",
              " 'अप कह': 325,\n",
              " 'बज बज': 1246,\n",
              " 'बह बज': 1303,\n",
              " 'एम कह': 625,\n",
              " 'उल घन': 584,\n",
              " 'यम उल': 1470,\n",
              " 'कर कर': 711,\n",
              " 'कल सर': 730,\n",
              " 'रह सभ': 1726,\n",
              " 'पर रह': 1193,\n",
              " 'अप रमण': 329,\n",
              " 'कड अन': 678,\n",
              " 'लन कर': 1756,\n",
              " 'pti': 185,\n",
              " 'कश': 739,\n",
              " 'जप': 931,\n",
              " 'बड': 1248,\n",
              " 'खबर': 769,\n",
              " 'धव': 1072,\n",
              " 'आत': 443,\n",
              " 'उत': 540,\n",
              " 'तर': 1018,\n",
              " 'गठन': 812,\n",
              " 'अश': 385,\n",
              " 'कव': 731,\n",
              " 'वज': 1777,\n",
              " 'बढ': 1251,\n",
              " 'तव': 1028,\n",
              " 'गलव': 872,\n",
              " 'आध': 449,\n",
              " 'वय': 1788,\n",
              " 'दर': 1054,\n",
              " 'आज': 439,\n",
              " 'रभ': 1603,\n",
              " 'बन': 1282,\n",
              " 'नज': 1098,\n",
              " 'बड़': 1305,\n",
              " 'रक': 1537,\n",
              " 'तहस': 1032,\n",
              " 'हट': 1963,\n",
              " 'वहन': 1808,\n",
              " 'हन': 1971,\n",
              " 'मत': 1337,\n",
              " 'अगल': 271,\n",
              " 'वजन': 1778,\n",
              " 'आवश': 478,\n",
              " 'source pti': 202,\n",
              " 'जम कश': 940,\n",
              " 'अध यक': 290,\n",
              " 'रव रम': 1669,\n",
              " 'रव यरस': 1668,\n",
              " 'यरस रम': 1511,\n",
              " 'अन अब': 301,\n",
              " 'इन सभ': 500,\n",
              " 'रह बत': 1712,\n",
              " 'बत रम': 1276,\n",
              " 'रम गय': 1619,\n",
              " 'उत तर': 541,\n",
              " 'इल गय': 506,\n",
              " 'गय छल': 840,\n",
              " 'छल मह': 911,\n",
              " 'मह सच': 1444,\n",
              " 'अन कह': 302,\n",
              " 'मल बढ': 1409,\n",
              " 'रह कल': 1699,\n",
              " 'कह उनक': 747,\n",
              " 'रम यरस': 1632,\n",
              " 'चल गय': 899,\n",
              " 'गय हम': 862,\n",
              " 'मल लग': 1419,\n",
              " 'लग बढ': 1744,\n",
              " 'बढ रह': 1264,\n",
              " 'अब यरस': 344,\n",
              " 'यरस मल': 1503,\n",
              " 'लग गई': 1741,\n",
              " 'आद कह': 445,\n",
              " 'कह कड': 748,\n",
              " 'पर वहन': 1194,\n",
              " 'कह गय': 751,\n",
              " 'अन मत': 309,\n",
              " 'आद रह': 447,\n",
              " 'आवश यक': 479,\n",
              " 'रख गय': 1542,\n",
              " 'image source pti': 102,\n",
              " 'यरस रम गए': 1513,\n",
              " 'मल लग बढ': 1420,\n",
              " 'लग बढ रह': 1745,\n",
              " 'कह कड उन': 749,\n",
              " 'un': 240,\n",
              " 'अद': 277,\n",
              " 'लत': 1753,\n",
              " 'तल': 1027,\n",
              " 'आईस': 410,\n",
              " 'एमआर': 627,\n",
              " 'वक': 1774,\n",
              " 'नव': 1123,\n",
              " 'यवह': 1533,\n",
              " 'बद': 1279,\n",
              " 'नस': 1129,\n",
              " 'आए': 412,\n",
              " 'कतर': 693,\n",
              " 'घर': 879,\n",
              " 'मद': 1342,\n",
              " 'उच': 534,\n",
              " 'धन': 1069,\n",
              " 'जध': 923,\n",
              " 'नई': 1075,\n",
              " 'यवस': 1532,\n",
              " 'षण un': 1841,\n",
              " 'un सच': 241,\n",
              " 'सच सरक': 1877,\n",
              " 'सरक अन': 1934,\n",
              " 'अन नह': 304,\n",
              " 'नह चल': 1138,\n",
              " 'कह इसक': 746,\n",
              " 'सभ अस': 1908,\n",
              " 'अद लत': 278,\n",
              " 'आईस एमआर': 411,\n",
              " 'पर मर': 1188,\n",
              " 'उसक पर': 587,\n",
              " 'पर आए': 1179,\n",
              " 'पत लग': 1170,\n",
              " 'लग सक': 1747,\n",
              " 'सक कह': 1860,\n",
              " 'अध कतर': 281,\n",
              " 'नह उनक': 1134,\n",
              " 'यरस नह': 1498,\n",
              " 'नह सक': 1144,\n",
              " 'मद नजर': 1343,\n",
              " 'रह अप': 1683,\n",
              " 'षण un सच': 1842,\n",
              " 'un सच सरक': 242,\n",
              " 'सच सरक अन': 1878,\n",
              " 'सरक अन नह': 1935,\n",
              " 'अन नह चल': 305,\n",
              " 'सभ अस पत': 1909,\n",
              " 'रद': 1573,\n",
              " 'गण': 815,\n",
              " 'सव': 1949,\n",
              " 'पक': 1147,\n",
              " 'वव': 1802,\n",
              " 'हज': 1957,\n",
              " 'चव': 902,\n",
              " 'उसस': 589,\n",
              " 'नय': 1115,\n",
              " 'उपच': 570,\n",
              " 'सद': 1884,\n",
              " 'अबतक': 351,\n",
              " 'गत': 816,\n",
              " 'खतरन': 767,\n",
              " 'पश': 1208,\n",
              " 'तम': 1012,\n",
              " 'जस': 954,\n",
              " 'टक': 958,\n",
              " 'रल': 1659,\n",
              " 'ओड': 665,\n",
              " 'गढ': 814,\n",
              " 'असम': 398,\n",
              " 'सगढ': 1873,\n",
              " 'लद': 1754,\n",
              " 'एकएक': 604,\n",
              " 'इट': 489,\n",
              " 'नग': 1093,\n",
              " 'अर': 371,\n",
              " 'डम': 986,\n",
              " 'हव': 1997,\n",
              " 'षद': 1848,\n",
              " 'यव': 1531,\n",
              " 'सत': 1881,\n",
              " 'video': 254,\n",
              " 'रमण मल': 1654,\n",
              " 'मल आए': 1388,\n",
              " 'वव लय': 1803,\n",
              " 'लय अन': 1765,\n",
              " 'अन रत': 315,\n",
              " 'बढ हज': 1267,\n",
              " 'रत शन': 1569,\n",
              " 'शन यरस': 1822,\n",
              " 'यरस मह': 1505,\n",
              " 'मह सबस': 1445,\n",
              " 'सबस रभ': 1906,\n",
              " 'बन गय': 1284,\n",
              " 'गय अम': 829,\n",
              " 'हज अध': 1958,\n",
              " 'नय मल': 1116,\n",
              " 'लय बत': 1767,\n",
              " 'मर उपच': 1364,\n",
              " 'रह जबक': 1703,\n",
              " 'वर अध': 1790,\n",
              " 'अध कह': 284,\n",
              " 'कह अब': 745,\n",
              " 'सद मर': 1885,\n",
              " 'मर वस': 1384,\n",
              " 'खतरन यरस': 768,\n",
              " 'यरस अब': 1486,\n",
              " 'मह इसक': 1429,\n",
              " 'मध रद': 1349,\n",
              " 'तर रद': 1021,\n",
              " 'तम लन': 1014,\n",
              " 'कर टक': 713,\n",
              " 'चल रद': 900,\n",
              " 'छत सगढ': 904,\n",
              " 'बस इट': 1297,\n",
              " 'शन बह': 1821,\n",
              " 'गए कड': 803,\n",
              " 'सबस मल': 1905,\n",
              " 'मल मह': 1414,\n",
              " 'लन जर': 1758,\n",
              " 'रद रम': 1582,\n",
              " 'रम बढ': 1623,\n",
              " 'बढ गई': 1255,\n",
              " 'गई इसक': 780,\n",
              " 'रद मर': 1579,\n",
              " 'मर हर': 1385,\n",
              " 'मल रम': 1417,\n",
              " 'अन पर': 307,\n",
              " 'पर षद': 1197,\n",
              " 'रत यरस': 1559,\n",
              " 'रमण मल बढ': 1655,\n",
              " 'नय मल आए': 1117,\n",
              " 'उत तर रद': 542,\n",
              " 'रम बढ गई': 1624,\n",
              " 'ओर': 666,\n",
              " 'रण': 1548,\n",
              " 'पह': 1211,\n",
              " 'दक': 1043,\n",
              " 'अरव': 375,\n",
              " 'ऑनल': 659,\n",
              " 'कट': 675,\n",
              " 'लगभग': 1748,\n",
              " 'पय': 1175,\n",
              " 'सस': 1950,\n",
              " 'नन': 1104,\n",
              " 'तरर': 1025,\n",
              " 'बय': 1288,\n",
              " 'इसम': 525,\n",
              " 'लखनऊ': 1736,\n",
              " 'अहमद': 401,\n",
              " 'जयप': 945,\n",
              " 'यरस रमण': 1515,\n",
              " 'रमण सर': 1657,\n",
              " 'नए मर': 1078,\n",
              " 'मर आए': 1362,\n",
              " 'आए रम': 424,\n",
              " 'गई रम': 792,\n",
              " 'हज गई': 1959,\n",
              " 'मर अस': 1360,\n",
              " 'पत गई': 1160,\n",
              " 'जबक अब': 934,\n",
              " 'अब हज': 350,\n",
              " 'नए मल': 1080,\n",
              " 'आए जबक': 418,\n",
              " 'कड गय': 685,\n",
              " 'गय यरस': 850,\n",
              " 'यरस कड': 1489,\n",
              " 'उन रत': 554,\n",
              " 'कम कम': 707,\n",
              " 'धन यव': 1070,\n",
              " 'ऑनल इन': 660,\n",
              " 'बत मह': 1274,\n",
              " 'बय कह': 1289,\n",
              " 'बढ तर': 1259,\n",
              " 'नए मर आए': 1079,\n",
              " 'आए रम गई': 425,\n",
              " 'मर अस पत': 1361,\n",
              " 'अस पत गई': 392,\n",
              " 'नए मल आए': 1081,\n",
              " 'यरस कड उन': 1490,\n",
              " 'mon': 155,\n",
              " 'am': 4,\n",
              " 'updated mon': 245,\n",
              " 'mon jul': 156,\n",
              " 'jul am': 134,\n",
              " 'updated mon jul': 246,\n",
              " 'ऐस': 650,\n",
              " 'छह': 916,\n",
              " 'हस': 1998,\n",
              " 'षज': 1839,\n",
              " 'बदल': 1280,\n",
              " 'घट': 876,\n",
              " 'मतलब': 1340,\n",
              " 'आश': 480,\n",
              " 'जत': 921,\n",
              " 'आख': 432,\n",
              " 'सपर': 1891,\n",
              " 'डल': 989,\n",
              " 'बत गय': 1271,\n",
              " 'गय मर': 846,\n",
              " 'सक सक': 1869,\n",
              " 'हस पत': 1999,\n",
              " 'बत अब': 1269,\n",
              " 'लग रह': 1746,\n",
              " 'एग इसक': 609,\n",
              " 'रमण दर': 1644,\n",
              " 'बत रह': 1278,\n",
              " 'रह कड': 1694,\n",
              " 'गई अब': 779,\n",
              " 'अब कर': 338,\n",
              " 'दर गई': 1056,\n",
              " 'इसक मतलब': 522,\n",
              " 'हर रम': 1990,\n",
              " 'मर रह': 1383,\n",
              " 'अध सक': 298,\n",
              " 'मह पहल': 1438,\n",
              " 'मह कर': 1430,\n",
              " 'अब मह': 343,\n",
              " 'एक सपर': 603,\n",
              " 'बत मर': 1273,\n",
              " 'रह कड उन': 1695,\n",
              " 'file': 78,\n",
              " 'photo': 177,\n",
              " 'कदम': 695,\n",
              " 'चक': 880,\n",
              " 'भव': 1320,\n",
              " 'हफ': 1973,\n",
              " 'अच': 273,\n",
              " 'शभर': 1827,\n",
              " 'शत': 1812,\n",
              " 'source file': 199,\n",
              " 'file photo': 79,\n",
              " 'कर रह': 721,\n",
              " 'रह हर': 1731,\n",
              " 'गलव बह': 873,\n",
              " 'बह कड': 1301,\n",
              " 'बत कड': 1270,\n",
              " 'मल गए': 1403,\n",
              " 'यक यरस': 1454,\n",
              " 'सरक सव': 1945,\n",
              " 'रमण बढ': 1651,\n",
              " 'सर नए': 1927,\n",
              " 'मल आन': 1394,\n",
              " 'आन रम': 454,\n",
              " 'गई तक': 786,\n",
              " 'तक बढ': 997,\n",
              " 'गई लय': 794,\n",
              " 'एक मल': 601,\n",
              " 'बढ गए': 1257,\n",
              " 'मल मल': 1413,\n",
              " 'मल रत': 1415,\n",
              " 'रत शत': 1566,\n",
              " 'image source file': 100,\n",
              " 'यरस रमण मल': 1519,\n",
              " 'यरस मल बढ': 1504,\n",
              " 'सर नए मल': 1928,\n",
              " 'नए मल आन': 1082,\n",
              " 'मल आन रम': 1396,\n",
              " 'आन रम गई': 455,\n",
              " 'तक बढ गई': 998,\n",
              " 'मल बढ गए': 1410,\n",
              " 'coronavirus': 44,\n",
              " 'updates': 249,\n",
              " 'यतन': 1461,\n",
              " 'उनम': 566,\n",
              " 'covid': 56,\n",
              " 'in': 103,\n",
              " 'hindi': 93,\n",
              " 'ist': 120,\n",
              " 'एज': 613,\n",
              " 'नक': 1085,\n",
              " 'आगर': 438,\n",
              " 'एन': 621,\n",
              " 'उब': 579,\n",
              " 'तमब': 1015,\n",
              " 'अवध': 382,\n",
              " 'जनपद': 928,\n",
              " 'नसभ': 1130,\n",
              " 'टन': 960,\n",
              " 'दद': 1046,\n",
              " 'लज': 1751,\n",
              " 'new': 160,\n",
              " 'positive': 181,\n",
              " 'cases': 28,\n",
              " 'and': 5,\n",
              " 'deaths': 67,\n",
              " 'have': 90,\n",
              " 'been': 18,\n",
              " 'reported': 189,\n",
              " 'till': 227,\n",
              " 'today': 230,\n",
              " 'total': 233,\n",
              " 'number': 163,\n",
              " 'of': 167,\n",
              " 'at': 16,\n",
              " 'including': 114,\n",
              " 'active': 0,\n",
              " 'state': 205,\n",
              " 'health': 91,\n",
              " 'department': 69,\n",
              " 'ani': 7,\n",
              " 'july': 140,\n",
              " 'कवर': 732,\n",
              " 'जव': 953,\n",
              " 'रत मक': 1557,\n",
              " 'मक तस': 1325,\n",
              " 'तस coronavirus': 1030,\n",
              " 'coronavirus updates': 51,\n",
              " 'updates रत': 252,\n",
              " 'आन रमण': 456,\n",
              " 'गए मर': 807,\n",
              " 'मर गई': 1367,\n",
              " 'लय रव': 1768,\n",
              " 'रव बह': 1667,\n",
              " 'बह आठ': 1299,\n",
              " 'आठ बज': 442,\n",
              " 'अन छल': 303,\n",
              " 'छल नए': 907,\n",
              " 'जबक मर': 936,\n",
              " 'गय अभ': 828,\n",
              " 'रह अध': 1681,\n",
              " 'अभ मर': 360,\n",
              " 'मर दर': 1373,\n",
              " 'दर रत': 1059,\n",
              " 'छल गई': 906,\n",
              " 'सबस अध': 1899,\n",
              " 'मह तम': 1432,\n",
              " 'एकएक यक': 605,\n",
              " 'coronavirus covid': 47,\n",
              " 'covid updates': 60,\n",
              " 'updates in': 250,\n",
              " 'in hindi': 104,\n",
              " 'hindi jul': 94,\n",
              " 'jul ist': 135,\n",
              " 'ist मह': 130,\n",
              " 'मह यरस': 1441,\n",
              " 'यरस नय': 1496,\n",
              " 'मल एज': 1399,\n",
              " 'एज अन': 614,\n",
              " 'अन मह': 313,\n",
              " 'रमण नए': 1645,\n",
              " 'मल आय': 1398,\n",
              " 'हज गय': 1960,\n",
              " 'गय रद': 852,\n",
              " 'इसक नक': 521,\n",
              " 'नक jul': 1086,\n",
              " 'आए एज': 415,\n",
              " 'यरस नए': 1494,\n",
              " 'बढ गय': 1258,\n",
              " 'मर इल': 1363,\n",
              " 'इसक मल': 523,\n",
              " 'गए नक': 806,\n",
              " 'रद यरस': 1581,\n",
              " 'आए रद': 422,\n",
              " 'मल गई': 1402,\n",
              " 'गई छल': 783,\n",
              " 'गई jul': 773,\n",
              " 'रद नए': 1577,\n",
              " 'अन रद': 317,\n",
              " 'छल मल': 910,\n",
              " 'आए सक': 426,\n",
              " 'रव रमण': 1670,\n",
              " 'बढ़ गई': 1307,\n",
              " 'गई सम': 797,\n",
              " 'वर मह': 1796,\n",
              " 'मह नए': 1435,\n",
              " 'मह गई': 1431,\n",
              " 'रद रमण': 1586,\n",
              " 'सक रम': 1867,\n",
              " 'तक गई': 996,\n",
              " 'आग रह': 437,\n",
              " 'रह गय': 1701,\n",
              " 'तमब नगर': 1016,\n",
              " 'छल मर': 909,\n",
              " 'यरस वजह': 1525,\n",
              " 'तम नगर': 1013,\n",
              " 'अध नक': 287,\n",
              " 'नक बत': 1092,\n",
              " 'बत छल': 1272,\n",
              " 'अप यरस': 327,\n",
              " 'हर कल': 1986,\n",
              " 'रह उनक': 1692,\n",
              " 'ist जस': 128,\n",
              " 'new covid': 161,\n",
              " 'covid positive': 58,\n",
              " 'positive cases': 182,\n",
              " 'cases and': 29,\n",
              " 'and deaths': 6,\n",
              " 'reported in': 190,\n",
              " 'total number': 234,\n",
              " 'number of': 164,\n",
              " 'of cases': 168,\n",
              " 'active cases': 1,\n",
              " 'state health': 206,\n",
              " 'health department': 92,\n",
              " 'ani ani': 8,\n",
              " 'ani july': 11,\n",
              " 'ist छल': 127,\n",
              " 'सबस नए': 1901,\n",
              " 'मल अब': 1387,\n",
              " 'अब मल': 342,\n",
              " 'गए इसक': 801,\n",
              " 'रत मक तस': 1558,\n",
              " 'मक तस coronavirus': 1326,\n",
              " 'मल आन रमण': 1397,\n",
              " 'आन रमण मल': 457,\n",
              " 'बह आठ बज': 1300,\n",
              " 'कड अन छल': 679,\n",
              " 'छल नए मल': 908,\n",
              " 'दर रत शत': 1060,\n",
              " 'मह तम लन': 1433,\n",
              " 'covid updates in': 61,\n",
              " 'updates in hindi': 251,\n",
              " 'in hindi jul': 105,\n",
              " 'hindi jul ist': 95,\n",
              " 'jul ist मह': 137,\n",
              " 'यरस नय मल': 1497,\n",
              " 'यरस रमण नए': 1516,\n",
              " 'रमण नए मल': 1646,\n",
              " 'नक jul ist': 1087,\n",
              " 'मल आए एज': 1390,\n",
              " 'आए एज अन': 416,\n",
              " 'यरस नए मल': 1495,\n",
              " 'मल आए रम': 1392,\n",
              " 'मल आए रद': 1391,\n",
              " 'गई jul ist': 774,\n",
              " 'रद नए मल': 1578,\n",
              " 'मल आए सक': 1393,\n",
              " 'मह नए मल': 1436,\n",
              " 'आए सक रम': 427,\n",
              " 'jul ist जस': 136,\n",
              " 'covid positive cases': 59,\n",
              " 'positive cases and': 183,\n",
              " 'cases and deaths': 30,\n",
              " 'total number of': 235,\n",
              " 'number of cases': 165,\n",
              " 'state health department': 207,\n",
              " 'ani ani july': 9,\n",
              " 'सबस नए मल': 1902,\n",
              " 'ऑर': 662,\n",
              " 'गन': 817,\n",
              " 'इज': 485,\n",
              " 'अलगअलग': 380,\n",
              " 'आपक': 460,\n",
              " 'समस': 1924,\n",
              " 'आम': 468,\n",
              " 'डब': 983,\n",
              " 'एचओ': 611,\n",
              " 'आस': 482,\n",
              " 'उतर': 545,\n",
              " 'थक': 1033,\n",
              " 'महस': 1449,\n",
              " 'रज': 1546,\n",
              " 'हमल': 1982,\n",
              " 'रदर': 1590,\n",
              " 'ऊपर': 593,\n",
              " 'इसल': 526,\n",
              " 'वच': 1776,\n",
              " 'यत': 1460,\n",
              " 'इटल': 490,\n",
              " 'कठ': 676,\n",
              " 'तकल': 1002,\n",
              " 'दब': 1051,\n",
              " 'समझ': 1918,\n",
              " 'सब': 1895,\n",
              " 'आमत': 469,\n",
              " 'आसप': 483,\n",
              " 'पल': 1202,\n",
              " 'इस': 514,\n",
              " 'पकड': 1148,\n",
              " 'षण यरस': 1845,\n",
              " 'रत रह': 1564,\n",
              " 'इज शन': 487,\n",
              " 'रह मल': 1714,\n",
              " 'यरस लक': 1523,\n",
              " 'रह ऐस': 1693,\n",
              " 'रमण बच': 1650,\n",
              " 'बच सक': 1243,\n",
              " 'सक यरस': 1866,\n",
              " 'आपक बत': 462,\n",
              " 'बत यरस': 1275,\n",
              " 'डब एचओ': 984,\n",
              " 'अन रम': 318,\n",
              " 'पर कर': 1182,\n",
              " 'रम अध': 1607,\n",
              " 'रम यक': 1631,\n",
              " 'बन रह': 1286,\n",
              " 'समस रह': 1925,\n",
              " 'रह यरस': 1716,\n",
              " 'बदल रह': 1281,\n",
              " 'अगर आपक': 270,\n",
              " 'रह टर': 1707,\n",
              " 'रह जर': 1704,\n",
              " 'सह यक': 1953,\n",
              " 'सक इसल': 1858,\n",
              " 'दर गय': 1058,\n",
              " 'पल ऑक': 1203,\n",
              " 'ऑक टर': 657,\n",
              " 'आख रक': 433,\n",
              " 'तर यरस': 1020,\n",
              " 'यरस बढ': 1501,\n",
              " 'कम इन': 705,\n",
              " 'लक षण यरस': 1735,\n",
              " 'मल बढ रह': 1411,\n",
              " 'यरस लक षण': 1524,\n",
              " 'पल ऑक टर': 1204,\n",
              " 'सट': 1879,\n",
              " 'णय': 992,\n",
              " 'अहम': 400,\n",
              " 'तहत': 1031,\n",
              " 'एसड': 641,\n",
              " 'सदर': 1886,\n",
              " 'अख': 267,\n",
              " 'एशन': 636,\n",
              " 'सहमत': 1954,\n",
              " 'एसड एम': 642,\n",
              " 'एस एशन': 638,\n",
              " 'रव नह': 1665,\n",
              " 'कर लग': 722,\n",
              " 'लन नह': 1759,\n",
              " 'नह एग': 1135,\n",
              " 'कहर': 762,\n",
              " 'जह': 957,\n",
              " 'ist यरस': 131,\n",
              " 'रत लग': 1565,\n",
              " 'अब रम': 347,\n",
              " 'सक मल': 1864,\n",
              " 'representational': 191,\n",
              " 'उपय': 575,\n",
              " 'एसएफ': 639,\n",
              " 'शहर': 1837,\n",
              " 'बल': 1295,\n",
              " 'थकव': 1034,\n",
              " 'षक': 1838,\n",
              " 'इक': 484,\n",
              " 'रवक': 1674,\n",
              " 'representational image': 192,\n",
              " 'बढ मल': 1263,\n",
              " 'दर गए': 1057,\n",
              " 'लग कड': 1739,\n",
              " 'आए नम': 419,\n",
              " 'अप कर': 324,\n",
              " 'पत कह': 1159,\n",
              " 'रह अन': 1682,\n",
              " 'लगभग रत': 1749,\n",
              " 'लग कड उन': 1740,\n",
              " 'लगभग रत शत': 1750,\n",
              " 'मजद': 1334,\n",
              " 'नत': 1101,\n",
              " 'इम': 503,\n",
              " 'खड': 764,\n",
              " 'पद': 1171,\n",
              " 'भय': 1314,\n",
              " 'मग': 1329,\n",
              " 'दल': 1063,\n",
              " 'वश': 1804,\n",
              " 'जड': 920,\n",
              " 'एकम': 607,\n",
              " 'वह': 1807,\n",
              " 'थस': 1042,\n",
              " 'जग': 918,\n",
              " 'ययन': 1474,\n",
              " 'उद': 546,\n",
              " 'हरण': 1993,\n",
              " 'थर': 1038,\n",
              " 'शव': 1836,\n",
              " 'भवन': 1321,\n",
              " 'तकन': 1001,\n",
              " 'रब': 1601,\n",
              " 'दन': 1047,\n",
              " 'यन': 1463,\n",
              " 'आकर': 431,\n",
              " 'पन': 1172,\n",
              " 'थम': 1037,\n",
              " 'आपद': 463,\n",
              " 'अवस': 383,\n",
              " 'हतर': 1969,\n",
              " 'सबक': 1897,\n",
              " 'रय': 1658,\n",
              " 'आक': 430,\n",
              " 'अवसर': 384,\n",
              " 'रह इन': 1688,\n",
              " 'सम यक': 1917,\n",
              " 'उनक पर': 565,\n",
              " 'अध ययन': 292,\n",
              " 'उद हरण': 547,\n",
              " 'रद सक': 1587,\n",
              " 'रब धन': 1602,\n",
              " 'सरक कर': 1941,\n",
              " 'कर रत': 720,\n",
              " 'ऐस जह': 651,\n",
              " 'गय गय': 839,\n",
              " 'india': 115,\n",
              " 'अपड': 331,\n",
              " 'हत': 1967,\n",
              " 'मय': 1355,\n",
              " 'jun': 143,\n",
              " 'रध': 1592,\n",
              " 'तय': 1017,\n",
              " 'कत': 692,\n",
              " 'सकर': 1870,\n",
              " 'मन': 1350,\n",
              " 'रन': 1595,\n",
              " 'चर': 895,\n",
              " 'महत': 1447,\n",
              " 'वप': 1787,\n",
              " 'आइस': 403,\n",
              " 'pradesh': 184,\n",
              " 'taking': 211,\n",
              " 'to': 229,\n",
              " 'which': 258,\n",
              " 'are': 15,\n",
              " 'june': 147,\n",
              " 'the': 217,\n",
              " 'patients': 175,\n",
              " 'death': 65,\n",
              " 'toll': 232,\n",
              " 'शख': 1810,\n",
              " 'coronavirus cases': 45,\n",
              " 'cases in': 31,\n",
              " 'in india': 106,\n",
              " 'india updates': 117,\n",
              " 'यरस covid': 1483,\n",
              " 'रह कर': 1698,\n",
              " 'कर हज': 723,\n",
              " 'रम कड': 1610,\n",
              " 'कड पह': 686,\n",
              " 'पह गय': 1214,\n",
              " 'गय लय': 855,\n",
              " 'यरस मर': 1502,\n",
              " 'गई जबक': 785,\n",
              " 'आए गई': 417,\n",
              " 'छल यरस': 912,\n",
              " 'हत मर': 1968,\n",
              " 'कवर रत': 736,\n",
              " 'शत पह': 1814,\n",
              " 'गय jun': 823,\n",
              " 'jun ist': 144,\n",
              " 'बढ पह': 1260,\n",
              " 'पह गए': 1213,\n",
              " ...}"
            ]
          },
          "metadata": {
            "tags": []
          },
          "execution_count": 309
        }
      ]
    },
    {
      "cell_type": "code",
      "metadata": {
        "id": "Kr636yOnFJVN",
        "colab_type": "code",
        "colab": {
          "base_uri": "https://localhost:8080/",
          "height": 34
        },
        "outputId": "6771e984-46b6-40e7-d947-19d9f115acc0"
      },
      "source": [
        "len(vectorizer.get_feature_names())"
      ],
      "execution_count": null,
      "outputs": [
        {
          "output_type": "execute_result",
          "data": {
            "text/plain": [
              "2000"
            ]
          },
          "metadata": {
            "tags": []
          },
          "execution_count": 310
        }
      ]
    },
    {
      "cell_type": "code",
      "metadata": {
        "id": "qkWgDFV3FYKL",
        "colab_type": "code",
        "colab": {
          "base_uri": "https://localhost:8080/",
          "height": 34
        },
        "outputId": "463e9656-76b8-48cb-8d7b-f9d09b8db9b8"
      },
      "source": [
        "X.shape"
      ],
      "execution_count": null,
      "outputs": [
        {
          "output_type": "execute_result",
          "data": {
            "text/plain": [
              "(843, 2000)"
            ]
          },
          "metadata": {
            "tags": []
          },
          "execution_count": 311
        }
      ]
    },
    {
      "cell_type": "code",
      "metadata": {
        "id": "9DuGOojpFmMq",
        "colab_type": "code",
        "colab": {}
      },
      "source": [
        "y = df['Category']"
      ],
      "execution_count": null,
      "outputs": []
    },
    {
      "cell_type": "code",
      "metadata": {
        "id": "alrM9v3HFpDR",
        "colab_type": "code",
        "colab": {
          "base_uri": "https://localhost:8080/",
          "height": 34
        },
        "outputId": "dd782b94-9a6a-45fc-a9d7-c5371076d8c4"
      },
      "source": [
        "y.shape"
      ],
      "execution_count": null,
      "outputs": [
        {
          "output_type": "execute_result",
          "data": {
            "text/plain": [
              "(843,)"
            ]
          },
          "metadata": {
            "tags": []
          },
          "execution_count": 313
        }
      ]
    },
    {
      "cell_type": "markdown",
      "metadata": {
        "id": "URA0ZkcVgN7t",
        "colab_type": "text"
      },
      "source": [
        "TRAIN_TEST_SPLIT"
      ]
    },
    {
      "cell_type": "code",
      "metadata": {
        "id": "9D3IeKGgFqHw",
        "colab_type": "code",
        "colab": {}
      },
      "source": [
        "from sklearn.model_selection import train_test_split\n",
        "X_train,X_test,y_train,y_test = train_test_split(X,df['Category'],test_size=0.33,random_state=0)"
      ],
      "execution_count": null,
      "outputs": []
    },
    {
      "cell_type": "code",
      "metadata": {
        "id": "2QTo_HRSF0-N",
        "colab_type": "code",
        "colab": {
          "base_uri": "https://localhost:8080/",
          "height": 238
        },
        "outputId": "958d06ba-056d-4737-84b1-902453e69d54"
      },
      "source": [
        "X_train"
      ],
      "execution_count": null,
      "outputs": [
        {
          "output_type": "execute_result",
          "data": {
            "text/plain": [
              "array([[0.        , 0.        , 0.        , ..., 0.        , 0.        ,\n",
              "        0.        ],\n",
              "       [0.        , 0.        , 0.        , ..., 0.        , 0.        ,\n",
              "        0.        ],\n",
              "       [0.        , 0.        , 0.        , ..., 0.        , 0.        ,\n",
              "        0.        ],\n",
              "       ...,\n",
              "       [0.        , 0.        , 0.        , ..., 0.        , 0.        ,\n",
              "        0.        ],\n",
              "       [0.        , 0.        , 0.        , ..., 0.        , 0.        ,\n",
              "        0.        ],\n",
              "       [0.        , 0.        , 0.15681927, ..., 0.        , 0.        ,\n",
              "        0.        ]])"
            ]
          },
          "metadata": {
            "tags": []
          },
          "execution_count": 315
        }
      ]
    },
    {
      "cell_type": "markdown",
      "metadata": {
        "id": "cKg8CNQ_gcP_",
        "colab_type": "text"
      },
      "source": [
        "# **RUNNING THE MODELS**\n",
        "\n",
        "---\n",
        "\n",
        "\n",
        "\n",
        "---\n",
        "\n"
      ]
    },
    {
      "cell_type": "markdown",
      "metadata": {
        "id": "f4WFkU2DhWC2",
        "colab_type": "text"
      },
      "source": [
        "MULTINOMIAL NAIVE_BAYES"
      ]
    },
    {
      "cell_type": "code",
      "metadata": {
        "id": "JYFAruxlF3XO",
        "colab_type": "code",
        "colab": {
          "base_uri": "https://localhost:8080/",
          "height": 34
        },
        "outputId": "600530f7-1c18-4bb7-8392-569fbc7820dd"
      },
      "source": [
        "from sklearn.naive_bayes import MultinomialNB\n",
        "classifier = MultinomialNB()\n",
        "classifier.fit(X_train,y_train)"
      ],
      "execution_count": null,
      "outputs": [
        {
          "output_type": "execute_result",
          "data": {
            "text/plain": [
              "MultinomialNB(alpha=1.0, class_prior=None, fit_prior=True)"
            ]
          },
          "metadata": {
            "tags": []
          },
          "execution_count": 316
        }
      ]
    },
    {
      "cell_type": "code",
      "metadata": {
        "id": "24_1VhDNGCuy",
        "colab_type": "code",
        "colab": {
          "base_uri": "https://localhost:8080/",
          "height": 102
        },
        "outputId": "7ef8f131-b1ba-4866-92f6-f93eeddef097"
      },
      "source": [
        "from sklearn.metrics import confusion_matrix\n",
        "from sklearn.metrics import  f1_score,precision_score,recall_score\n",
        "from sklearn.metrics import accuracy_score\n",
        "from sklearn.naive_bayes import MultinomialNB\n",
        "from sklearn.metrics import cohen_kappa_score\n",
        "from sklearn.metrics import roc_auc_score\n",
        "y_pred = classifier.predict(X_test)\n",
        "print(\"ACCURACY \")\n",
        "print(accuracy_score(y_pred,y_test))\n",
        "cm = confusion_matrix(y_test, y_pred)\n",
        "print(\"CONFUSION MATRIX\")\n",
        "print(cm)\n",
        "y_pred = classifier.predict(X_test)\n",
        "acc = accuracy_score(y_test,y_pred)\n",
        "prec = precision_score(y_test,y_pred)\n",
        "rec = recall_score(y_test,y_pred)\n",
        "f1 = f1_score(y_test,y_pred)\n",
        "kappa=cohen_kappa_score(y_test,y_pred)\n",
        "roc=roc_auc_score(y_test,y_pred)\n",
        "results=pd.DataFrame([['MultinomialNB',acc,prec,rec,f1,kappa,roc,cm]],columns=['Model','Accuracy','Precision','Recall','F1 Score','Cohen_kappa_score','ROC','Confusion_matrix'])"
      ],
      "execution_count": null,
      "outputs": [
        {
          "output_type": "stream",
          "text": [
            "ACCURACY \n",
            "0.9247311827956989\n",
            "CONFUSION MATRIX\n",
            "[[140   5]\n",
            " [ 16 118]]\n"
          ],
          "name": "stdout"
        }
      ]
    },
    {
      "cell_type": "code",
      "metadata": {
        "id": "8uguJt-ZGFWn",
        "colab_type": "code",
        "colab": {
          "base_uri": "https://localhost:8080/",
          "height": 80
        },
        "outputId": "38210829-476d-4610-b95c-b4361f8bda60"
      },
      "source": [
        "results"
      ],
      "execution_count": null,
      "outputs": [
        {
          "output_type": "execute_result",
          "data": {
            "text/html": [
              "<div>\n",
              "<style scoped>\n",
              "    .dataframe tbody tr th:only-of-type {\n",
              "        vertical-align: middle;\n",
              "    }\n",
              "\n",
              "    .dataframe tbody tr th {\n",
              "        vertical-align: top;\n",
              "    }\n",
              "\n",
              "    .dataframe thead th {\n",
              "        text-align: right;\n",
              "    }\n",
              "</style>\n",
              "<table border=\"1\" class=\"dataframe\">\n",
              "  <thead>\n",
              "    <tr style=\"text-align: right;\">\n",
              "      <th></th>\n",
              "      <th>Model</th>\n",
              "      <th>Accuracy</th>\n",
              "      <th>Precision</th>\n",
              "      <th>Recall</th>\n",
              "      <th>F1 Score</th>\n",
              "      <th>Cohen_kappa_score</th>\n",
              "      <th>ROC</th>\n",
              "      <th>Confusion_matrix</th>\n",
              "    </tr>\n",
              "  </thead>\n",
              "  <tbody>\n",
              "    <tr>\n",
              "      <th>0</th>\n",
              "      <td>MultinomialNB</td>\n",
              "      <td>0.924731</td>\n",
              "      <td>0.95935</td>\n",
              "      <td>0.880597</td>\n",
              "      <td>0.918288</td>\n",
              "      <td>0.848757</td>\n",
              "      <td>0.923057</td>\n",
              "      <td>[[140, 5], [16, 118]]</td>\n",
              "    </tr>\n",
              "  </tbody>\n",
              "</table>\n",
              "</div>"
            ],
            "text/plain": [
              "           Model  Accuracy  ...       ROC       Confusion_matrix\n",
              "0  MultinomialNB  0.924731  ...  0.923057  [[140, 5], [16, 118]]\n",
              "\n",
              "[1 rows x 8 columns]"
            ]
          },
          "metadata": {
            "tags": []
          },
          "execution_count": 318
        }
      ]
    },
    {
      "cell_type": "markdown",
      "metadata": {
        "id": "54ipu8VriyS9",
        "colab_type": "text"
      },
      "source": [
        "LOGISTIC REGRESSION"
      ]
    },
    {
      "cell_type": "code",
      "metadata": {
        "id": "uhv8CYyaGI9Z",
        "colab_type": "code",
        "colab": {
          "base_uri": "https://localhost:8080/",
          "height": 102
        },
        "outputId": "b6b7625d-8ac7-418e-9921-e0225791dcaa"
      },
      "source": [
        "from sklearn.linear_model import LogisticRegression\n",
        "from sklearn.naive_bayes import MultinomialNB\n",
        "logreg = LogisticRegression(C=1e5)\n",
        "logreg.fit(X_train, y_train)\n",
        "y_pred = logreg.predict(X_test)\n",
        "print('Accuracy  on training set: {:.2f}'.format(classifier.score(X_train, y_train)))\n",
        "print('Accuracy on test set: {:.2f}'.format(classifier.score(X_test, y_test)))\n",
        "cm = confusion_matrix(y_test, y_pred)\n",
        "print(\"CONFUSION MATRIX\")\n",
        "print(cm)\n",
        "acc = accuracy_score(y_test,y_pred)\n",
        "prec = precision_score(y_test,y_pred)\n",
        "rec = recall_score(y_test,y_pred)\n",
        "f1 = f1_score(y_test,y_pred)\n",
        "kappa=cohen_kappa_score(y_test,y_pred)\n",
        "roc=roc_auc_score(y_test,y_pred)\n",
        "model_results=pd.DataFrame([['Logistic Regression',acc,prec,rec,f1,kappa,roc,cm]],columns=['Model','Accuracy','Precision','Recall','F1 Score','Cohen_kappa_score','ROC','Confusion_matrix'])\n",
        "results = results.append(model_results,ignore_index=True)\n"
      ],
      "execution_count": null,
      "outputs": [
        {
          "output_type": "stream",
          "text": [
            "Accuracy  on training set: 0.98\n",
            "Accuracy on test set: 0.92\n",
            "CONFUSION MATRIX\n",
            "[[141   4]\n",
            " [  4 130]]\n"
          ],
          "name": "stdout"
        }
      ]
    },
    {
      "cell_type": "markdown",
      "metadata": {
        "id": "R_kd1Qgij1iA",
        "colab_type": "text"
      },
      "source": [
        "SVM-rbf kernel"
      ]
    },
    {
      "cell_type": "code",
      "metadata": {
        "id": "lOAzJDx2GSj8",
        "colab_type": "code",
        "colab": {
          "base_uri": "https://localhost:8080/",
          "height": 85
        },
        "outputId": "6560d421-8736-46a9-cdbc-ec65c7ff7f3b"
      },
      "source": [
        "from sklearn.svm import SVC\n",
        "classifier = SVC()\n",
        "classifier.fit(X_train,y_train)"
      ],
      "execution_count": null,
      "outputs": [
        {
          "output_type": "execute_result",
          "data": {
            "text/plain": [
              "SVC(C=1.0, break_ties=False, cache_size=200, class_weight=None, coef0=0.0,\n",
              "    decision_function_shape='ovr', degree=3, gamma='scale', kernel='rbf',\n",
              "    max_iter=-1, probability=False, random_state=None, shrinking=True,\n",
              "    tol=0.001, verbose=False)"
            ]
          },
          "metadata": {
            "tags": []
          },
          "execution_count": 320
        }
      ]
    },
    {
      "cell_type": "code",
      "metadata": {
        "id": "hWvyGmDkGadE",
        "colab_type": "code",
        "colab": {
          "base_uri": "https://localhost:8080/",
          "height": 102
        },
        "outputId": "35f93990-58b8-4516-e1d5-40d49ba4c069"
      },
      "source": [
        "y_pred = classifier.predict(X_test)\n",
        "print('Accuracy  on training set: {:.2f}'.format(classifier.score(X_train, y_train)))\n",
        "print('Accuracy on test set: {:.2f}'.format(classifier.score(X_test, y_test)))\n",
        "cm = confusion_matrix(y_test, y_pred)\n",
        "print(\"CONFUSION MATRIX\")\n",
        "print(cm)\n",
        "acc = accuracy_score(y_test,y_pred)\n",
        "prec = precision_score(y_test,y_pred)\n",
        "rec = recall_score(y_test,y_pred)\n",
        "f1 = f1_score(y_test,y_pred)\n",
        "kappa=cohen_kappa_score(y_test,y_pred)\n",
        "roc=roc_auc_score(y_test,y_pred)\n",
        "model_results=pd.DataFrame([['SVM RBF',acc,prec,rec,f1,kappa,roc,cm]],columns=['Model','Accuracy','Precision','Recall','F1 Score','Cohen_kappa_score','ROC','Confusion_matrix'])\n",
        "results = results.append(model_results,ignore_index=True)\n"
      ],
      "execution_count": null,
      "outputs": [
        {
          "output_type": "stream",
          "text": [
            "Accuracy  on training set: 1.00\n",
            "Accuracy on test set: 0.97\n",
            "CONFUSION MATRIX\n",
            "[[143   2]\n",
            " [  6 128]]\n"
          ],
          "name": "stdout"
        }
      ]
    },
    {
      "cell_type": "code",
      "metadata": {
        "id": "AAMWccHRGcTG",
        "colab_type": "code",
        "colab": {
          "base_uri": "https://localhost:8080/",
          "height": 142
        },
        "outputId": "ea67bd9a-6b0f-4c52-d9a3-792c8d1196b8"
      },
      "source": [
        "results"
      ],
      "execution_count": null,
      "outputs": [
        {
          "output_type": "execute_result",
          "data": {
            "text/html": [
              "<div>\n",
              "<style scoped>\n",
              "    .dataframe tbody tr th:only-of-type {\n",
              "        vertical-align: middle;\n",
              "    }\n",
              "\n",
              "    .dataframe tbody tr th {\n",
              "        vertical-align: top;\n",
              "    }\n",
              "\n",
              "    .dataframe thead th {\n",
              "        text-align: right;\n",
              "    }\n",
              "</style>\n",
              "<table border=\"1\" class=\"dataframe\">\n",
              "  <thead>\n",
              "    <tr style=\"text-align: right;\">\n",
              "      <th></th>\n",
              "      <th>Model</th>\n",
              "      <th>Accuracy</th>\n",
              "      <th>Precision</th>\n",
              "      <th>Recall</th>\n",
              "      <th>F1 Score</th>\n",
              "      <th>Cohen_kappa_score</th>\n",
              "      <th>ROC</th>\n",
              "      <th>Confusion_matrix</th>\n",
              "    </tr>\n",
              "  </thead>\n",
              "  <tbody>\n",
              "    <tr>\n",
              "      <th>0</th>\n",
              "      <td>MultinomialNB</td>\n",
              "      <td>0.924731</td>\n",
              "      <td>0.959350</td>\n",
              "      <td>0.880597</td>\n",
              "      <td>0.918288</td>\n",
              "      <td>0.848757</td>\n",
              "      <td>0.923057</td>\n",
              "      <td>[[140, 5], [16, 118]]</td>\n",
              "    </tr>\n",
              "    <tr>\n",
              "      <th>1</th>\n",
              "      <td>Logistic Regression</td>\n",
              "      <td>0.971326</td>\n",
              "      <td>0.970149</td>\n",
              "      <td>0.970149</td>\n",
              "      <td>0.970149</td>\n",
              "      <td>0.942563</td>\n",
              "      <td>0.971282</td>\n",
              "      <td>[[141, 4], [4, 130]]</td>\n",
              "    </tr>\n",
              "    <tr>\n",
              "      <th>2</th>\n",
              "      <td>SVM RBF</td>\n",
              "      <td>0.971326</td>\n",
              "      <td>0.984615</td>\n",
              "      <td>0.955224</td>\n",
              "      <td>0.969697</td>\n",
              "      <td>0.942498</td>\n",
              "      <td>0.970715</td>\n",
              "      <td>[[143, 2], [6, 128]]</td>\n",
              "    </tr>\n",
              "  </tbody>\n",
              "</table>\n",
              "</div>"
            ],
            "text/plain": [
              "                 Model  Accuracy  ...       ROC       Confusion_matrix\n",
              "0        MultinomialNB  0.924731  ...  0.923057  [[140, 5], [16, 118]]\n",
              "1  Logistic Regression  0.971326  ...  0.971282   [[141, 4], [4, 130]]\n",
              "2              SVM RBF  0.971326  ...  0.970715   [[143, 2], [6, 128]]\n",
              "\n",
              "[3 rows x 8 columns]"
            ]
          },
          "metadata": {
            "tags": []
          },
          "execution_count": 322
        }
      ]
    },
    {
      "cell_type": "markdown",
      "metadata": {
        "id": "h4gBREpFlxXT",
        "colab_type": "text"
      },
      "source": [
        "SVM-linear kernel"
      ]
    },
    {
      "cell_type": "code",
      "metadata": {
        "id": "piWbODqDGeSV",
        "colab_type": "code",
        "colab": {
          "base_uri": "https://localhost:8080/",
          "height": 85
        },
        "outputId": "d9c8355f-5765-4f10-8901-6e19178ebc0c"
      },
      "source": [
        "from sklearn.svm import SVC\n",
        "classifier = SVC(kernel=\"linear\")\n",
        "classifier.fit(X_train,y_train)"
      ],
      "execution_count": null,
      "outputs": [
        {
          "output_type": "execute_result",
          "data": {
            "text/plain": [
              "SVC(C=1.0, break_ties=False, cache_size=200, class_weight=None, coef0=0.0,\n",
              "    decision_function_shape='ovr', degree=3, gamma='scale', kernel='linear',\n",
              "    max_iter=-1, probability=False, random_state=None, shrinking=True,\n",
              "    tol=0.001, verbose=False)"
            ]
          },
          "metadata": {
            "tags": []
          },
          "execution_count": 323
        }
      ]
    },
    {
      "cell_type": "code",
      "metadata": {
        "id": "jGBxr05_GjA1",
        "colab_type": "code",
        "colab": {
          "base_uri": "https://localhost:8080/",
          "height": 102
        },
        "outputId": "b6172335-b3dc-4d61-ed90-92ce994bdf55"
      },
      "source": [
        "y_pred = classifier.predict(X_test)\n",
        "print('Accuracy  on training set: {:.2f}'.format(classifier.score(X_train, y_train)))\n",
        "print('Accuracy on test set: {:.2f}'.format(classifier.score(X_test, y_test)))\n",
        "cm = confusion_matrix(y_test, y_pred)\n",
        "print(\"CONFUSION MATRIX\")\n",
        "print(cm)\n",
        "acc = accuracy_score(y_test,y_pred)\n",
        "prec = precision_score(y_test,y_pred)\n",
        "rec = recall_score(y_test,y_pred)\n",
        "f1 = f1_score(y_test,y_pred)\n",
        "kappa=cohen_kappa_score(y_test,y_pred)\n",
        "roc=roc_auc_score(y_test,y_pred)\n",
        "model_results=pd.DataFrame([['SVM linear',acc,prec,rec,f1,kappa,roc,cm]],columns=['Model','Accuracy','Precision','Recall','F1 Score','Cohen_kappa_score','ROC','Confusion_matrix'])\n",
        "results = results.append(model_results,ignore_index=True)"
      ],
      "execution_count": null,
      "outputs": [
        {
          "output_type": "stream",
          "text": [
            "Accuracy  on training set: 0.99\n",
            "Accuracy on test set: 0.97\n",
            "CONFUSION MATRIX\n",
            "[[141   4]\n",
            " [  4 130]]\n"
          ],
          "name": "stdout"
        }
      ]
    },
    {
      "cell_type": "code",
      "metadata": {
        "id": "LhlMS0sCGofY",
        "colab_type": "code",
        "colab": {
          "base_uri": "https://localhost:8080/",
          "height": 173
        },
        "outputId": "c6a76dd1-28d9-4964-f6b0-5db29ac4daf2"
      },
      "source": [
        "results"
      ],
      "execution_count": null,
      "outputs": [
        {
          "output_type": "execute_result",
          "data": {
            "text/html": [
              "<div>\n",
              "<style scoped>\n",
              "    .dataframe tbody tr th:only-of-type {\n",
              "        vertical-align: middle;\n",
              "    }\n",
              "\n",
              "    .dataframe tbody tr th {\n",
              "        vertical-align: top;\n",
              "    }\n",
              "\n",
              "    .dataframe thead th {\n",
              "        text-align: right;\n",
              "    }\n",
              "</style>\n",
              "<table border=\"1\" class=\"dataframe\">\n",
              "  <thead>\n",
              "    <tr style=\"text-align: right;\">\n",
              "      <th></th>\n",
              "      <th>Model</th>\n",
              "      <th>Accuracy</th>\n",
              "      <th>Precision</th>\n",
              "      <th>Recall</th>\n",
              "      <th>F1 Score</th>\n",
              "      <th>Cohen_kappa_score</th>\n",
              "      <th>ROC</th>\n",
              "      <th>Confusion_matrix</th>\n",
              "    </tr>\n",
              "  </thead>\n",
              "  <tbody>\n",
              "    <tr>\n",
              "      <th>0</th>\n",
              "      <td>MultinomialNB</td>\n",
              "      <td>0.924731</td>\n",
              "      <td>0.959350</td>\n",
              "      <td>0.880597</td>\n",
              "      <td>0.918288</td>\n",
              "      <td>0.848757</td>\n",
              "      <td>0.923057</td>\n",
              "      <td>[[140, 5], [16, 118]]</td>\n",
              "    </tr>\n",
              "    <tr>\n",
              "      <th>1</th>\n",
              "      <td>Logistic Regression</td>\n",
              "      <td>0.971326</td>\n",
              "      <td>0.970149</td>\n",
              "      <td>0.970149</td>\n",
              "      <td>0.970149</td>\n",
              "      <td>0.942563</td>\n",
              "      <td>0.971282</td>\n",
              "      <td>[[141, 4], [4, 130]]</td>\n",
              "    </tr>\n",
              "    <tr>\n",
              "      <th>2</th>\n",
              "      <td>SVM RBF</td>\n",
              "      <td>0.971326</td>\n",
              "      <td>0.984615</td>\n",
              "      <td>0.955224</td>\n",
              "      <td>0.969697</td>\n",
              "      <td>0.942498</td>\n",
              "      <td>0.970715</td>\n",
              "      <td>[[143, 2], [6, 128]]</td>\n",
              "    </tr>\n",
              "    <tr>\n",
              "      <th>3</th>\n",
              "      <td>SVM linear</td>\n",
              "      <td>0.971326</td>\n",
              "      <td>0.970149</td>\n",
              "      <td>0.970149</td>\n",
              "      <td>0.970149</td>\n",
              "      <td>0.942563</td>\n",
              "      <td>0.971282</td>\n",
              "      <td>[[141, 4], [4, 130]]</td>\n",
              "    </tr>\n",
              "  </tbody>\n",
              "</table>\n",
              "</div>"
            ],
            "text/plain": [
              "                 Model  Accuracy  ...       ROC       Confusion_matrix\n",
              "0        MultinomialNB  0.924731  ...  0.923057  [[140, 5], [16, 118]]\n",
              "1  Logistic Regression  0.971326  ...  0.971282   [[141, 4], [4, 130]]\n",
              "2              SVM RBF  0.971326  ...  0.970715   [[143, 2], [6, 128]]\n",
              "3           SVM linear  0.971326  ...  0.971282   [[141, 4], [4, 130]]\n",
              "\n",
              "[4 rows x 8 columns]"
            ]
          },
          "metadata": {
            "tags": []
          },
          "execution_count": 325
        }
      ]
    },
    {
      "cell_type": "markdown",
      "metadata": {
        "id": "Zhgbl3CymETk",
        "colab_type": "text"
      },
      "source": [
        "PASSIVE AGGRESIVE CLASSIFIER"
      ]
    },
    {
      "cell_type": "code",
      "metadata": {
        "id": "23oDe119GrYH",
        "colab_type": "code",
        "colab": {
          "base_uri": "https://localhost:8080/",
          "height": 119
        },
        "outputId": "a64b952b-ecd2-4b15-a8ad-aaf9c2cb8978"
      },
      "source": [
        "from sklearn.linear_model import PassiveAggressiveClassifier\n",
        "classifier = PassiveAggressiveClassifier()\n",
        "classifier.fit(X_train,y_train)"
      ],
      "execution_count": null,
      "outputs": [
        {
          "output_type": "execute_result",
          "data": {
            "text/plain": [
              "PassiveAggressiveClassifier(C=1.0, average=False, class_weight=None,\n",
              "                            early_stopping=False, fit_intercept=True,\n",
              "                            loss='hinge', max_iter=1000, n_iter_no_change=5,\n",
              "                            n_jobs=None, random_state=None, shuffle=True,\n",
              "                            tol=0.001, validation_fraction=0.1, verbose=0,\n",
              "                            warm_start=False)"
            ]
          },
          "metadata": {
            "tags": []
          },
          "execution_count": 326
        }
      ]
    },
    {
      "cell_type": "code",
      "metadata": {
        "id": "vAEHv_lDGwlh",
        "colab_type": "code",
        "colab": {
          "base_uri": "https://localhost:8080/",
          "height": 102
        },
        "outputId": "f4f57c81-1a20-41ae-939f-f173e236265a"
      },
      "source": [
        "y_pred = classifier.predict(X_test)\n",
        "print('Accuracy  on training set: {:.2f}'.format(classifier.score(X_train, y_train)))\n",
        "print('Accuracy on test set: {:.2f}'.format(classifier.score(X_test, y_test)))\n",
        "cm = confusion_matrix(y_test, y_pred)\n",
        "print(\"CONFUSION MATRIX\")\n",
        "print(cm)\n",
        "acc = accuracy_score(y_test,y_pred)\n",
        "prec = precision_score(y_test,y_pred)\n",
        "rec = recall_score(y_test,y_pred)\n",
        "f1 = f1_score(y_test,y_pred)\n",
        "kappa=cohen_kappa_score(y_test,y_pred)\n",
        "roc=roc_auc_score(y_test,y_pred)\n",
        "model_results=pd.DataFrame([['Passive Aggresive',acc,prec,rec,f1,kappa,roc,cm]],columns=['Model','Accuracy','Precision','Recall','F1 Score','Cohen_kappa_score','ROC','Confusion_matrix'])\n",
        "results = results.append(model_results,ignore_index=True)\n",
        "\n"
      ],
      "execution_count": null,
      "outputs": [
        {
          "output_type": "stream",
          "text": [
            "Accuracy  on training set: 1.00\n",
            "Accuracy on test set: 0.97\n",
            "CONFUSION MATRIX\n",
            "[[141   4]\n",
            " [  4 130]]\n"
          ],
          "name": "stdout"
        }
      ]
    },
    {
      "cell_type": "markdown",
      "metadata": {
        "id": "csjvcB3ameAY",
        "colab_type": "text"
      },
      "source": [
        "ANN"
      ]
    },
    {
      "cell_type": "code",
      "metadata": {
        "id": "kn_rEqN4GyM_",
        "colab_type": "code",
        "colab": {
          "base_uri": "https://localhost:8080/",
          "height": 207
        },
        "outputId": "c6142fb6-34ac-48ab-9f2c-9c673974e172"
      },
      "source": [
        "import tensorflow as tf\n",
        "from tensorflow.keras.callbacks import EarlyStopping\n",
        "from tensorflow.keras.optimizers import Adam\n",
        "early_stop = EarlyStopping(monitor='val_loss',patience=1.5)\n",
        "N, D = X_train.shape\n",
        "model = tf.keras.models.Sequential([\n",
        "  tf.keras.layers.Input(shape=(D,)),\n",
        "  tf.keras.layers.Dense(300,activation='relu'),\n",
        "  tf.keras.layers.Dropout(0.7),\n",
        "  tf.keras.layers.Dense(50,activation='relu'),\n",
        "  tf.keras.layers.Dropout(0.7),\n",
        "  #tf.keras.layers.Dense(50,activation='relu'),\n",
        "  #tf.keras.layers.Dropout(0.7),\n",
        "  #tf.keras.layers.Dense(50,activation='relu'),\n",
        "  #tf.keras.layers.Dense(10,activation='relu'),\n",
        "  tf.keras.layers.Dense(1, activation='sigmoid')\n",
        "])\n",
        "model.compile(Adam(lr=0.005),\n",
        "              loss='binary_crossentropy',\n",
        "              metrics=['accuracy'])\n",
        "his = model.fit(X_train,y_train,epochs=25,verbose=1,shuffle=1,validation_split=0.1,callbacks=[early_stop])"
      ],
      "execution_count": null,
      "outputs": [
        {
          "output_type": "stream",
          "text": [
            "Epoch 1/25\n",
            "16/16 [==============================] - 0s 13ms/step - loss: 0.6157 - accuracy: 0.6746 - val_loss: 0.3864 - val_accuracy: 1.0000\n",
            "Epoch 2/25\n",
            "16/16 [==============================] - 0s 8ms/step - loss: 0.2361 - accuracy: 0.9467 - val_loss: 0.0388 - val_accuracy: 1.0000\n",
            "Epoch 3/25\n",
            "16/16 [==============================] - 0s 10ms/step - loss: 0.0607 - accuracy: 0.9842 - val_loss: 0.0102 - val_accuracy: 1.0000\n",
            "Epoch 4/25\n",
            "16/16 [==============================] - 0s 10ms/step - loss: 0.0382 - accuracy: 0.9882 - val_loss: 0.0173 - val_accuracy: 1.0000\n",
            "Epoch 5/25\n",
            "16/16 [==============================] - 0s 9ms/step - loss: 0.0306 - accuracy: 0.9901 - val_loss: 0.0288 - val_accuracy: 0.9825\n"
          ],
          "name": "stdout"
        }
      ]
    },
    {
      "cell_type": "code",
      "metadata": {
        "id": "mHgTiXkFG3x8",
        "colab_type": "code",
        "colab": {
          "base_uri": "https://localhost:8080/",
          "height": 279
        },
        "outputId": "2ceca2ae-f982-4114-c502-4ea1fce36ae9"
      },
      "source": [
        "import matplotlib.pyplot as plt\n",
        "plt.plot(his.history['loss'])\n",
        "plt.plot(his.history['val_loss'])\n",
        "plt.xlabel(\"Epochs\")\n",
        "plt.legend([\"Loss\",\"Val_loss\"])\n",
        "plt.ylabel(\"Loss\")\n",
        "plt.savefig('loss_plot.png', dpi=300, bbox_inches='tight')\n",
        "plt.show()"
      ],
      "execution_count": null,
      "outputs": [
        {
          "output_type": "display_data",
          "data": {
            "image/png": "[encoded data removed]",
            "text/plain": [
              "<Figure size 432x288 with 1 Axes>"
            ]
          },
          "metadata": {
            "tags": [],
            "needs_background": "light"
          }
        }
      ]
    },
    {
      "cell_type": "code",
      "metadata": {
        "id": "Sa_jq53sG6hC",
        "colab_type": "code",
        "colab": {
          "base_uri": "https://localhost:8080/",
          "height": 265
        },
        "outputId": "945cfbd9-24eb-4ea2-8774-2d3a3365c311"
      },
      "source": [
        "plt.plot(his.history['accuracy'], label='train')\n",
        "plt.plot(his.history['val_accuracy'], label='test')\n",
        "\n",
        "plt.legend([\"Accuracy\",\"Val_accuracy\"])\n",
        "plt.savefig('accuracy_plot.png', dpi=300, bbox_inches='tight')\n",
        "plt.show()"
      ],
      "execution_count": null,
      "outputs": [
        {
          "output_type": "display_data",
          "data": {
            "image/png": "[encoded data removed]",
            "text/plain": [
              "<Figure size 432x288 with 1 Axes>"
            ]
          },
          "metadata": {
            "tags": [],
            "needs_background": "light"
          }
        }
      ]
    },
    {
      "cell_type": "code",
      "metadata": {
        "id": "YZznKriQG-jQ",
        "colab_type": "code",
        "colab": {}
      },
      "source": [
        "results.to_csv(\"finalresults2.csv\")"
      ],
      "execution_count": null,
      "outputs": []
    },
    {
      "cell_type": "code",
      "metadata": {
        "id": "x0o00jVLHBjZ",
        "colab_type": "code",
        "colab": {
          "base_uri": "https://localhost:8080/",
          "height": 153
        },
        "outputId": "2a271702-810e-4694-91e6-43c9b9411f1d"
      },
      "source": [
        "# demonstration of calculating metrics for a neural network model using sklearn\n",
        "from sklearn.metrics import accuracy_score\n",
        "from sklearn.metrics import precision_score\n",
        "from sklearn.metrics import recall_score\n",
        "from sklearn.metrics import f1_score\n",
        "from sklearn.metrics import cohen_kappa_score\n",
        "from sklearn.metrics import roc_auc_score\n",
        "from sklearn.metrics import confusion_matrix\n",
        " \n",
        "trainX, trainy, testX, testy = X_train,y_train,X_test,y_test \n",
        "yhat_probs = (model.predict(testX) > 0.5).astype(\"int32\")\n",
        "# predict crisp classes for test set\n",
        "yhat_classes = model.predict_classes(testX, verbose=0)\n",
        "# reduce to 1d array\n",
        "yhat_probs = yhat_probs[:, 0]\n",
        "yhat_classes = yhat_classes[:, 0]\n",
        " \n",
        "# accuracy: (tp + tn) / (p + n)\n",
        "accuracy = accuracy_score(testy, yhat_classes)\n",
        "print('Accuracy: %f' % accuracy)\n",
        "# precision tp / (tp + fp)\n",
        "precision = precision_score(testy, yhat_classes)\n",
        "print('Precision: %f' % precision)\n",
        "# recall: tp / (tp + fn)\n",
        "recall = recall_score(testy, yhat_classes)\n",
        "print('Recall: %f' % recall)\n",
        "# f1: 2 tp / (2 tp + fp + fn)\n",
        "f1 = f1_score(testy, yhat_classes)\n",
        "print('F1 score: %f' % f1)\n",
        " \n",
        "# kappa\n",
        "kappa = cohen_kappa_score(testy, yhat_classes)\n",
        "print('Cohens kappa: %f' % kappa)\n",
        "# ROC AUC\n",
        "auc = roc_auc_score(testy, yhat_probs)\n",
        "print('ROC AUC: %f' % auc)\n",
        "# confusion matrix\n",
        "matrix = confusion_matrix(testy, yhat_classes)\n",
        "print(matrix)"
      ],
      "execution_count": null,
      "outputs": [
        {
          "output_type": "stream",
          "text": [
            "Accuracy: 0.946237\n",
            "Precision: 0.916084\n",
            "Recall: 0.977612\n",
            "F1 score: 0.945848\n",
            "Cohens kappa: 0.892579\n",
            "ROC AUC: 0.947427\n",
            "[[133  12]\n",
            " [  3 131]]\n"
          ],
          "name": "stdout"
        }
      ]
    },
    {
      "cell_type": "code",
      "metadata": {
        "id": "ckXSBPSLHEke",
        "colab_type": "code",
        "colab": {}
      },
      "source": [
        "model_results=pd.DataFrame([['ANN2',accuracy,precision,recall,f1,kappa,auc,matrix]],columns=['Model','Accuracy','Precision','Recall','F1 Score','Cohen_kappa_score','ROC','Confusion_matrix'])\n",
        "results = results.append(model_results,ignore_index=True)"
      ],
      "execution_count": null,
      "outputs": []
    },
    {
      "cell_type": "code",
      "metadata": {
        "id": "8QO__irrHMz_",
        "colab_type": "code",
        "colab": {
          "base_uri": "https://localhost:8080/",
          "height": 235
        },
        "outputId": "3759f242-9f64-413b-85cb-bddb4b86095d"
      },
      "source": [
        "results"
      ],
      "execution_count": null,
      "outputs": [
        {
          "output_type": "execute_result",
          "data": {
            "text/html": [
              "<div>\n",
              "<style scoped>\n",
              "    .dataframe tbody tr th:only-of-type {\n",
              "        vertical-align: middle;\n",
              "    }\n",
              "\n",
              "    .dataframe tbody tr th {\n",
              "        vertical-align: top;\n",
              "    }\n",
              "\n",
              "    .dataframe thead th {\n",
              "        text-align: right;\n",
              "    }\n",
              "</style>\n",
              "<table border=\"1\" class=\"dataframe\">\n",
              "  <thead>\n",
              "    <tr style=\"text-align: right;\">\n",
              "      <th></th>\n",
              "      <th>Model</th>\n",
              "      <th>Accuracy</th>\n",
              "      <th>Precision</th>\n",
              "      <th>Recall</th>\n",
              "      <th>F1 Score</th>\n",
              "      <th>Cohen_kappa_score</th>\n",
              "      <th>ROC</th>\n",
              "      <th>Confusion_matrix</th>\n",
              "    </tr>\n",
              "  </thead>\n",
              "  <tbody>\n",
              "    <tr>\n",
              "      <th>0</th>\n",
              "      <td>MultinomialNB</td>\n",
              "      <td>0.924731</td>\n",
              "      <td>0.959350</td>\n",
              "      <td>0.880597</td>\n",
              "      <td>0.918288</td>\n",
              "      <td>0.848757</td>\n",
              "      <td>0.923057</td>\n",
              "      <td>[[140, 5], [16, 118]]</td>\n",
              "    </tr>\n",
              "    <tr>\n",
              "      <th>1</th>\n",
              "      <td>Logistic Regression</td>\n",
              "      <td>0.971326</td>\n",
              "      <td>0.970149</td>\n",
              "      <td>0.970149</td>\n",
              "      <td>0.970149</td>\n",
              "      <td>0.942563</td>\n",
              "      <td>0.971282</td>\n",
              "      <td>[[141, 4], [4, 130]]</td>\n",
              "    </tr>\n",
              "    <tr>\n",
              "      <th>2</th>\n",
              "      <td>SVM RBF</td>\n",
              "      <td>0.971326</td>\n",
              "      <td>0.984615</td>\n",
              "      <td>0.955224</td>\n",
              "      <td>0.969697</td>\n",
              "      <td>0.942498</td>\n",
              "      <td>0.970715</td>\n",
              "      <td>[[143, 2], [6, 128]]</td>\n",
              "    </tr>\n",
              "    <tr>\n",
              "      <th>3</th>\n",
              "      <td>SVM linear</td>\n",
              "      <td>0.971326</td>\n",
              "      <td>0.970149</td>\n",
              "      <td>0.970149</td>\n",
              "      <td>0.970149</td>\n",
              "      <td>0.942563</td>\n",
              "      <td>0.971282</td>\n",
              "      <td>[[141, 4], [4, 130]]</td>\n",
              "    </tr>\n",
              "    <tr>\n",
              "      <th>4</th>\n",
              "      <td>Passive Aggresive</td>\n",
              "      <td>0.971326</td>\n",
              "      <td>0.970149</td>\n",
              "      <td>0.970149</td>\n",
              "      <td>0.970149</td>\n",
              "      <td>0.942563</td>\n",
              "      <td>0.971282</td>\n",
              "      <td>[[141, 4], [4, 130]]</td>\n",
              "    </tr>\n",
              "    <tr>\n",
              "      <th>5</th>\n",
              "      <td>ANN2</td>\n",
              "      <td>0.946237</td>\n",
              "      <td>0.916084</td>\n",
              "      <td>0.977612</td>\n",
              "      <td>0.945848</td>\n",
              "      <td>0.892579</td>\n",
              "      <td>0.947427</td>\n",
              "      <td>[[133, 12], [3, 131]]</td>\n",
              "    </tr>\n",
              "  </tbody>\n",
              "</table>\n",
              "</div>"
            ],
            "text/plain": [
              "                 Model  Accuracy  ...       ROC       Confusion_matrix\n",
              "0        MultinomialNB  0.924731  ...  0.923057  [[140, 5], [16, 118]]\n",
              "1  Logistic Regression  0.971326  ...  0.971282   [[141, 4], [4, 130]]\n",
              "2              SVM RBF  0.971326  ...  0.970715   [[143, 2], [6, 128]]\n",
              "3           SVM linear  0.971326  ...  0.971282   [[141, 4], [4, 130]]\n",
              "4    Passive Aggresive  0.971326  ...  0.971282   [[141, 4], [4, 130]]\n",
              "5                 ANN2  0.946237  ...  0.947427  [[133, 12], [3, 131]]\n",
              "\n",
              "[6 rows x 8 columns]"
            ]
          },
          "metadata": {
            "tags": []
          },
          "execution_count": 334
        }
      ]
    },
    {
      "cell_type": "code",
      "metadata": {
        "id": "IsbE5JtgHOgW",
        "colab_type": "code",
        "colab": {
          "base_uri": "https://localhost:8080/",
          "height": 1000
        },
        "outputId": "b124c3d8-d700-441a-dc95-4ed6d7bcbbff"
      },
      "source": [
        "def build_corpus(data):\n",
        "    \"Creates a list of lists containing words from each sentence\"\n",
        "    corpus = []\n",
        "    for col in data:\n",
        "        \n",
        "            corpus.append(col.split())\n",
        "\n",
        "    return corpus\n",
        "\n",
        "corpus1 = build_corpus(df['stopwords'])\n",
        "corpus1[0:2]"
      ],
      "execution_count": null,
      "outputs": [
        {
          "output_type": "execute_result",
          "data": {
            "text/plain": [
              "[['सोनभद्र',\n",
              "  'जिल',\n",
              "  'सोमवार',\n",
              "  'लोग',\n",
              "  'जांच',\n",
              "  'रिपोर्ट',\n",
              "  'कोरो',\n",
              "  'पाजिटिव',\n",
              "  'आई',\n",
              "  'है।',\n",
              "  'इनम',\n",
              "  'संक्रमित',\n",
              "  'गुरम',\n",
              "  'स्थित',\n",
              "  'जिल',\n",
              "  'जेल',\n",
              "  'परिसर',\n",
              "  'जुड़',\n",
              "  'हैं।',\n",
              "  'इनम',\n",
              "  'आठ',\n",
              "  'जेल',\n",
              "  'कर्म',\n",
              "  'नौ',\n",
              "  'बंद',\n",
              "  'शामिल',\n",
              "  'हैं।',\n",
              "  'इनक',\n",
              "  'अलाव',\n",
              "  'तीन',\n",
              "  'लोग',\n",
              "  'राबर्ट्सगंज',\n",
              "  'बरवन',\n",
              "  'लोहर',\n",
              "  'न्य',\n",
              "  'मार्केट',\n",
              "  'रामलील',\n",
              "  'मैदान',\n",
              "  'पास',\n",
              "  'रह',\n",
              "  'वाल',\n",
              "  'हैं।',\n",
              "  'इसक',\n",
              "  'पुष्ट',\n",
              "  'सीएमओ',\n",
              "  'डा',\n",
              "  'एसक',\n",
              "  'उपाध्याय',\n",
              "  'है।',\n",
              "  'जिल',\n",
              "  'दिन',\n",
              "  'अब',\n",
              "  'सबस',\n",
              "  'ज्याद',\n",
              "  'आठ',\n",
              "  'लोग',\n",
              "  'संक्त्रस्मित',\n",
              "  'मिल',\n",
              "  'थे।',\n",
              "  'इसक',\n",
              "  'सोमवार',\n",
              "  'इत',\n",
              "  'मरीज',\n",
              "  'मिले।',\n",
              "  'इसक',\n",
              "  'संक्रमित',\n",
              "  'संख्य',\n",
              "  'गई।',\n",
              "  'इनम',\n",
              "  'लोग',\n",
              "  'स्वस्थ',\n",
              "  'लौट',\n",
              "  'गए',\n",
              "  'जबक',\n",
              "  'लोग',\n",
              "  'मधुपुर',\n",
              "  'कोविड',\n",
              "  'केयर',\n",
              "  'सेंटर',\n",
              "  'इलाज',\n",
              "  'चल',\n",
              "  'रह',\n",
              "  'है।'],\n",
              " ['Image',\n",
              "  'Source',\n",
              "  'INSTAGRAMTANUSRIDASGUPTA',\n",
              "  'बालाज',\n",
              "  'टेलीफिल्म्स',\n",
              "  'क्रिएटिव',\n",
              "  'हेड',\n",
              "  'कोरो',\n",
              "  'समय',\n",
              "  'पूर',\n",
              "  'देश',\n",
              "  'कोरो',\n",
              "  'वायरस',\n",
              "  'जूझ',\n",
              "  'रह',\n",
              "  'है।',\n",
              "  'अब',\n",
              "  'फिल्म',\n",
              "  'टीव',\n",
              "  'इंडस्ट्र',\n",
              "  'दस्तक',\n",
              "  'दे',\n",
              "  'दी',\n",
              "  'है।',\n",
              "  'बॉलीवुड',\n",
              "  'महानायक',\n",
              "  'अमिताभ',\n",
              "  'बच्चन',\n",
              "  'अभिषेक',\n",
              "  'ऐश्वर्य',\n",
              "  'आराध्य',\n",
              "  'कोरो',\n",
              "  'संक्रमित',\n",
              "  'गए।',\n",
              "  'अनुपम',\n",
              "  'खेर',\n",
              "  'फैमिल',\n",
              "  'इसक',\n",
              "  'शिकार',\n",
              "  'गई।',\n",
              "  'टीव',\n",
              "  'एक्टर',\n",
              "  'पार्थ',\n",
              "  'समथान',\n",
              "  'कोविड',\n",
              "  'गया।',\n",
              "  'अब',\n",
              "  'कपूर',\n",
              "  'बालाज',\n",
              "  'टेलीफिल्म्स',\n",
              "  'क्रिएटिव',\n",
              "  'हेड',\n",
              "  'तनुश्र',\n",
              "  'दासगुप्',\n",
              "  'इसक',\n",
              "  'चपेट',\n",
              "  'आ',\n",
              "  'गई',\n",
              "  'हैं।',\n",
              "  'तनुश्र',\n",
              "  'दासगुप्',\n",
              "  'बत',\n",
              "  'वो',\n",
              "  'पहल',\n",
              "  'होम',\n",
              "  'क्वारंटीन',\n",
              "  'थीं',\n",
              "  'जैस',\n",
              "  'ऑक्सीजन',\n",
              "  'लेवल',\n",
              "  'गिर',\n",
              "  'लग',\n",
              "  'उन्ह',\n",
              "  'जुल',\n",
              "  'मुंबई',\n",
              "  'सेवन',\n",
              "  'हिल्स',\n",
              "  'हॉस्पिटल',\n",
              "  'एडमिट',\n",
              "  'गया।',\n",
              "  'उनक',\n",
              "  'मां',\n",
              "  'सबस',\n",
              "  'पहल',\n",
              "  'कोरो',\n",
              "  'था।',\n",
              "  'उन्ह',\n",
              "  'माइल्ड',\n",
              "  'लक्षण',\n",
              "  'थे।',\n",
              "  'पार्थ',\n",
              "  'समथान',\n",
              "  'कोरो',\n",
              "  'पॉजिटिव',\n",
              "  'कसौट',\n",
              "  'जिंदग',\n",
              "  'नए',\n",
              "  'एपिसोड',\n",
              "  'नह',\n",
              "  'देख',\n",
              "  'पा',\n",
              "  'इंडिय',\n",
              "  'फोरम्स',\n",
              "  'इंटरव्य',\n",
              "  'दे',\n",
              "  'तनुश्र',\n",
              "  'कह',\n",
              "  'ऑक्सीजन',\n",
              "  'लेवल',\n",
              "  'कम',\n",
              "  'मुझ',\n",
              "  'शनिवार',\n",
              "  'अस्पताल',\n",
              "  'लाय',\n",
              "  'गया।',\n",
              "  'डॉक्टर',\n",
              "  'ब्लड',\n",
              "  'टेस्ट',\n",
              "  'किय',\n",
              "  'मुझ',\n",
              "  'एडमिट',\n",
              "  'सलाह',\n",
              "  'दी',\n",
              "  'ताक',\n",
              "  'मेर',\n",
              "  'निगरा',\n",
              "  'सके।',\n",
              "  'इसस',\n",
              "  'पहल',\n",
              "  'मैं',\n",
              "  'अप',\n",
              "  'मां',\n",
              "  'खुद',\n",
              "  'कोरो',\n",
              "  'संक्रमित',\n",
              "  'उन्ह',\n",
              "  'हॉस्पिटल',\n",
              "  'एडमिट',\n",
              "  'जरूरत',\n",
              "  'नह',\n",
              "  'है।',\n",
              "  'वो',\n",
              "  'होम',\n",
              "  'क्वारंटीन',\n",
              "  'धीरेधीर',\n",
              "  'ठीक',\n",
              "  'रह',\n",
              "  'हैं।',\n",
              "  'आग',\n",
              "  'कह',\n",
              "  'मुझ',\n",
              "  'गहर',\n",
              "  'स्ट्रेन',\n",
              "  'जिसक',\n",
              "  'भर्',\n",
              "  'पड़ा।',\n",
              "  'कर्मचार',\n",
              "  'मुझ',\n",
              "  'ठीक',\n",
              "  'मदद',\n",
              "  'रह',\n",
              "  'हैं।',\n",
              "  'मुझ',\n",
              "  'अभ',\n",
              "  'खांस',\n",
              "  'उसक',\n",
              "  'इलाज',\n",
              "  'चल',\n",
              "  'रह',\n",
              "  'है।',\n",
              "  'हां',\n",
              "  'दिन',\n",
              "  'ठीक',\n",
              "  'अगर',\n",
              "  'सह',\n",
              "  'हाथ',\n",
              "  'डर',\n",
              "  'जरूरत',\n",
              "  'नह',\n",
              "  'है।',\n",
              "  'हम',\n",
              "  'सभ',\n",
              "  'ठीक',\n",
              "  'रह',\n",
              "  'मैं',\n",
              "  'जल्द',\n",
              "  'वापस',\n",
              "  'जाऊंगी।',\n",
              "  'कसौट',\n",
              "  'जिंदग',\n",
              "  'एक्टर',\n",
              "  'पार्थ',\n",
              "  'समथान',\n",
              "  'कोरो',\n",
              "  'पॉजिटिव',\n",
              "  'किय',\n",
              "  'पोस्ट',\n",
              "  'गौरतलब',\n",
              "  'इसस',\n",
              "  'पहल',\n",
              "  'कपूर',\n",
              "  'सीरियल',\n",
              "  'कसौट',\n",
              "  'जिंदग',\n",
              "  'फेम',\n",
              "  'पार्थ',\n",
              "  'समथान',\n",
              "  'कोरो',\n",
              "  'संक्रमित',\n",
              "  'गए।',\n",
              "  'पार्थ',\n",
              "  'सीरियल',\n",
              "  'अनुराग',\n",
              "  'लीड',\n",
              "  'रोल',\n",
              "  'निभ',\n",
              "  'हैं।',\n",
              "  'पार्थ',\n",
              "  'रिपोर्ट',\n",
              "  'पॉजिटिव',\n",
              "  'आन',\n",
              "  'शो',\n",
              "  'शूटिंग',\n",
              "  'बंद',\n",
              "  'दी',\n",
              "  'गई',\n",
              "  'है।',\n",
              "  'पार्थ',\n",
              "  'समथान',\n",
              "  'इंस्टाग्राम',\n",
              "  'अप',\n",
              "  'तस्वीर',\n",
              "  'शेयर',\n",
              "  'करक',\n",
              "  'लिख',\n",
              "  'सभ',\n",
              "  'हेल',\n",
              "  'मुझ',\n",
              "  'हल्क',\n",
              "  'लक्षण',\n",
              "  'दिख',\n",
              "  'जिसक',\n",
              "  'मैं',\n",
              "  'अप',\n",
              "  'टेस्ट',\n",
              "  'हां',\n",
              "  'मैं',\n",
              "  'कोविड',\n",
              "  'पॉजिटिव',\n",
              "  'पाय',\n",
              "  'गय',\n",
              "  'हूं।',\n",
              "  'मैं',\n",
              "  'सभ',\n",
              "  'गुजारिश',\n",
              "  'हूं',\n",
              "  'पिछल',\n",
              "  'दिन',\n",
              "  'मेर',\n",
              "  'संपर्क',\n",
              "  'आय',\n",
              "  'अप',\n",
              "  'टेस्ट',\n",
              "  'जरूर',\n",
              "  'कराए।',\n",
              "  'बीएमस',\n",
              "  'लगातार',\n",
              "  'हमार',\n",
              "  'टत',\n",
              "  'डॉक्टर्स',\n",
              "  'गाइडलाइन्स',\n",
              "  'मैं',\n",
              "  'सेल्फ',\n",
              "  'क्वारंटीन',\n",
              "  'हूं।',\n",
              "  'उनक',\n",
              "  'सपोर्ट',\n",
              "  'मैं',\n",
              "  'ग्रेटफुल',\n",
              "  'हूं।',\n",
              "  'प्लीज',\n",
              "  'सभ',\n",
              "  'लोग',\n",
              "  'अप',\n",
              "  'ख्याल',\n",
              "  'रखिएगा।',\n",
              "  'कोरो',\n",
              "  'जंग',\n",
              "  'Full',\n",
              "  'Coverage']]"
            ]
          },
          "metadata": {
            "tags": []
          },
          "execution_count": 335
        }
      ]
    },
    {
      "cell_type": "code",
      "metadata": {
        "id": "fQeLVhdHHVbQ",
        "colab_type": "code",
        "colab": {
          "base_uri": "https://localhost:8080/",
          "height": 1000
        },
        "outputId": "2d732ae4-0b78-4754-dc58-c5f6dec0c440"
      },
      "source": [
        "from gensim.models import word2vec\n",
        "\n",
        "from sklearn.manifold import TSNE\n",
        "#model = word2vec.Word2Vec(corpus1, size=100, window=20, min_count=200, workers=4)\n",
        "model = word2vec.Word2Vec(corpus1, size=100, window=20, min_count=100, workers=4)\n",
        "def tsne_plot(model):\n",
        "    \"Creates and TSNE model and plots it\"\n",
        "    labels = []\n",
        "    tokens = []\n",
        "\n",
        "    for word in model.wv.vocab:\n",
        "        tokens.append(model[word])\n",
        "        labels.append(word)\n",
        "\n",
        "    tsne_model = TSNE(perplexity=500, n_components=2, init='pca', n_iter=2500, random_state=23)\n",
        "    new_values = tsne_model.fit_transform(tokens)\n",
        "\n",
        "    x = []\n",
        "    y = []\n",
        "    for value in new_values:\n",
        "        x.append(value[0])\n",
        "        y.append(value[1])\n",
        "\n",
        "    plt.figure(figsize=(16, 16)) \n",
        "    for i in range(len(x)):\n",
        "        plt.scatter(x[i],y[i])\n",
        "        plt.annotate(labels[i],\n",
        "                     xy=(x[i], y[i]),\n",
        "                     xytext=(5, 2),\n",
        "                     textcoords='offset points',\n",
        "                     ha='right',\n",
        "                     va='bottom')\n",
        "    plt.savefig('bow1.png', dpi=300, bbox_inches='tight')\n",
        "    plt.show()\n",
        "tsne_plot(model)"
      ],
      "execution_count": null,
      "outputs": [
        {
          "output_type": "stream",
          "text": [
            "/usr/local/lib/python3.6/dist-packages/ipykernel_launcher.py:12: DeprecationWarning: Call to deprecated `__getitem__` (Method will be removed in 4.0.0, use self.wv.__getitem__() instead).\n",
            "  if sys.path[0] == '':\n",
            "/usr/local/lib/python3.6/dist-packages/matplotlib/backends/backend_agg.py:214: RuntimeWarning: Glyph 2332 missing from current font.\n",
            "  font.set_text(s, 0.0, flags=flags)\n",
            "/usr/local/lib/python3.6/dist-packages/matplotlib/backends/backend_agg.py:214: RuntimeWarning: Glyph 2367 missing from current font.\n",
            "  font.set_text(s, 0.0, flags=flags)\n",
            "/usr/local/lib/python3.6/dist-packages/matplotlib/backends/backend_agg.py:214: RuntimeWarning: Glyph 2354 missing from current font.\n",
            "  font.set_text(s, 0.0, flags=flags)\n",
            "/usr/local/lib/python3.6/dist-packages/matplotlib/backends/backend_agg.py:214: RuntimeWarning: Glyph 2360 missing from current font.\n",
            "  font.set_text(s, 0.0, flags=flags)\n",
            "/usr/local/lib/python3.6/dist-packages/matplotlib/backends/backend_agg.py:214: RuntimeWarning: Glyph 2379 missing from current font.\n",
            "  font.set_text(s, 0.0, flags=flags)\n",
            "/usr/local/lib/python3.6/dist-packages/matplotlib/backends/backend_agg.py:214: RuntimeWarning: Glyph 2350 missing from current font.\n",
            "  font.set_text(s, 0.0, flags=flags)\n",
            "/usr/local/lib/python3.6/dist-packages/matplotlib/backends/backend_agg.py:214: RuntimeWarning: Glyph 2357 missing from current font.\n",
            "  font.set_text(s, 0.0, flags=flags)\n",
            "/usr/local/lib/python3.6/dist-packages/matplotlib/backends/backend_agg.py:214: RuntimeWarning: Glyph 2366 missing from current font.\n",
            "  font.set_text(s, 0.0, flags=flags)\n",
            "/usr/local/lib/python3.6/dist-packages/matplotlib/backends/backend_agg.py:214: RuntimeWarning: Glyph 2352 missing from current font.\n",
            "  font.set_text(s, 0.0, flags=flags)\n",
            "/usr/local/lib/python3.6/dist-packages/matplotlib/backends/backend_agg.py:214: RuntimeWarning: Glyph 2327 missing from current font.\n",
            "  font.set_text(s, 0.0, flags=flags)\n",
            "/usr/local/lib/python3.6/dist-packages/matplotlib/backends/backend_agg.py:214: RuntimeWarning: Glyph 2306 missing from current font.\n",
            "  font.set_text(s, 0.0, flags=flags)\n",
            "/usr/local/lib/python3.6/dist-packages/matplotlib/backends/backend_agg.py:214: RuntimeWarning: Glyph 2330 missing from current font.\n",
            "  font.set_text(s, 0.0, flags=flags)\n",
            "/usr/local/lib/python3.6/dist-packages/matplotlib/backends/backend_agg.py:214: RuntimeWarning: Glyph 2346 missing from current font.\n",
            "  font.set_text(s, 0.0, flags=flags)\n",
            "/usr/local/lib/python3.6/dist-packages/matplotlib/backends/backend_agg.py:214: RuntimeWarning: Glyph 2381 missing from current font.\n",
            "  font.set_text(s, 0.0, flags=flags)\n",
            "/usr/local/lib/python3.6/dist-packages/matplotlib/backends/backend_agg.py:214: RuntimeWarning: Glyph 2335 missing from current font.\n",
            "  font.set_text(s, 0.0, flags=flags)\n",
            "/usr/local/lib/python3.6/dist-packages/matplotlib/backends/backend_agg.py:214: RuntimeWarning: Glyph 2325 missing from current font.\n",
            "  font.set_text(s, 0.0, flags=flags)\n",
            "/usr/local/lib/python3.6/dist-packages/matplotlib/backends/backend_agg.py:214: RuntimeWarning: Glyph 2310 missing from current font.\n",
            "  font.set_text(s, 0.0, flags=flags)\n",
            "/usr/local/lib/python3.6/dist-packages/matplotlib/backends/backend_agg.py:214: RuntimeWarning: Glyph 2312 missing from current font.\n",
            "  font.set_text(s, 0.0, flags=flags)\n",
            "/usr/local/lib/python3.6/dist-packages/matplotlib/backends/backend_agg.py:214: RuntimeWarning: Glyph 2361 missing from current font.\n",
            "  font.set_text(s, 0.0, flags=flags)\n",
            "/usr/local/lib/python3.6/dist-packages/matplotlib/backends/backend_agg.py:214: RuntimeWarning: Glyph 2376 missing from current font.\n",
            "  font.set_text(s, 0.0, flags=flags)\n",
            "/usr/local/lib/python3.6/dist-packages/matplotlib/backends/backend_agg.py:214: RuntimeWarning: Glyph 2404 missing from current font.\n",
            "  font.set_text(s, 0.0, flags=flags)\n",
            "/usr/local/lib/python3.6/dist-packages/matplotlib/backends/backend_agg.py:214: RuntimeWarning: Glyph 2340 missing from current font.\n",
            "  font.set_text(s, 0.0, flags=flags)\n",
            "/usr/local/lib/python3.6/dist-packages/matplotlib/backends/backend_agg.py:214: RuntimeWarning: Glyph 2341 missing from current font.\n",
            "  font.set_text(s, 0.0, flags=flags)\n",
            "/usr/local/lib/python3.6/dist-packages/matplotlib/backends/backend_agg.py:214: RuntimeWarning: Glyph 2348 missing from current font.\n",
            "  font.set_text(s, 0.0, flags=flags)\n",
            "/usr/local/lib/python3.6/dist-packages/matplotlib/backends/backend_agg.py:214: RuntimeWarning: Glyph 2342 missing from current font.\n",
            "  font.set_text(s, 0.0, flags=flags)\n",
            "/usr/local/lib/python3.6/dist-packages/matplotlib/backends/backend_agg.py:214: RuntimeWarning: Glyph 2358 missing from current font.\n",
            "  font.set_text(s, 0.0, flags=flags)\n",
            "/usr/local/lib/python3.6/dist-packages/matplotlib/backends/backend_agg.py:214: RuntimeWarning: Glyph 2309 missing from current font.\n",
            "  font.set_text(s, 0.0, flags=flags)\n",
            "/usr/local/lib/python3.6/dist-packages/matplotlib/backends/backend_agg.py:214: RuntimeWarning: Glyph 2368 missing from current font.\n",
            "  font.set_text(s, 0.0, flags=flags)\n",
            "/usr/local/lib/python3.6/dist-packages/matplotlib/backends/backend_agg.py:214: RuntimeWarning: Glyph 2344 missing from current font.\n",
            "  font.set_text(s, 0.0, flags=flags)\n",
            "/usr/local/lib/python3.6/dist-packages/matplotlib/backends/backend_agg.py:214: RuntimeWarning: Glyph 2311 missing from current font.\n",
            "  font.set_text(s, 0.0, flags=flags)\n",
            "/usr/local/lib/python3.6/dist-packages/matplotlib/backends/backend_agg.py:214: RuntimeWarning: Glyph 2369 missing from current font.\n",
            "  font.set_text(s, 0.0, flags=flags)\n",
            "/usr/local/lib/python3.6/dist-packages/matplotlib/backends/backend_agg.py:214: RuntimeWarning: Glyph 2359 missing from current font.\n",
            "  font.set_text(s, 0.0, flags=flags)\n",
            "/usr/local/lib/python3.6/dist-packages/matplotlib/backends/backend_agg.py:214: RuntimeWarning: Glyph 2351 missing from current font.\n",
            "  font.set_text(s, 0.0, flags=flags)\n",
            "/usr/local/lib/python3.6/dist-packages/matplotlib/backends/backend_agg.py:214: RuntimeWarning: Glyph 2375 missing from current font.\n",
            "  font.set_text(s, 0.0, flags=flags)\n",
            "/usr/local/lib/python3.6/dist-packages/matplotlib/backends/backend_agg.py:214: RuntimeWarning: Glyph 2326 missing from current font.\n",
            "  font.set_text(s, 0.0, flags=flags)\n",
            "/usr/local/lib/python3.6/dist-packages/matplotlib/backends/backend_agg.py:214: RuntimeWarning: Glyph 2380 missing from current font.\n",
            "  font.set_text(s, 0.0, flags=flags)\n",
            "/usr/local/lib/python3.6/dist-packages/matplotlib/backends/backend_agg.py:214: RuntimeWarning: Glyph 2319 missing from current font.\n",
            "  font.set_text(s, 0.0, flags=flags)\n",
            "/usr/local/lib/python3.6/dist-packages/matplotlib/backends/backend_agg.py:214: RuntimeWarning: Glyph 2337 missing from current font.\n",
            "  font.set_text(s, 0.0, flags=flags)\n",
            "/usr/local/lib/python3.6/dist-packages/matplotlib/backends/backend_agg.py:214: RuntimeWarning: Glyph 2370 missing from current font.\n",
            "  font.set_text(s, 0.0, flags=flags)\n",
            "/usr/local/lib/python3.6/dist-packages/matplotlib/backends/backend_agg.py:214: RuntimeWarning: Glyph 2349 missing from current font.\n",
            "  font.set_text(s, 0.0, flags=flags)\n",
            "/usr/local/lib/python3.6/dist-packages/matplotlib/backends/backend_agg.py:214: RuntimeWarning: Glyph 2313 missing from current font.\n",
            "  font.set_text(s, 0.0, flags=flags)\n",
            "/usr/local/lib/python3.6/dist-packages/matplotlib/backends/backend_agg.py:214: RuntimeWarning: Glyph 2339 missing from current font.\n",
            "  font.set_text(s, 0.0, flags=flags)\n",
            "/usr/local/lib/python3.6/dist-packages/matplotlib/backends/backend_agg.py:214: RuntimeWarning: Glyph 2377 missing from current font.\n",
            "  font.set_text(s, 0.0, flags=flags)\n",
            "/usr/local/lib/python3.6/dist-packages/matplotlib/backends/backend_agg.py:214: RuntimeWarning: Glyph 2336 missing from current font.\n",
            "  font.set_text(s, 0.0, flags=flags)\n",
            "/usr/local/lib/python3.6/dist-packages/matplotlib/backends/backend_agg.py:214: RuntimeWarning: Glyph 2331 missing from current font.\n",
            "  font.set_text(s, 0.0, flags=flags)\n",
            "/usr/local/lib/python3.6/dist-packages/matplotlib/backends/backend_agg.py:214: RuntimeWarning: Glyph 2343 missing from current font.\n",
            "  font.set_text(s, 0.0, flags=flags)\n",
            "/usr/local/lib/python3.6/dist-packages/matplotlib/backends/backend_agg.py:214: RuntimeWarning: Glyph 2328 missing from current font.\n",
            "  font.set_text(s, 0.0, flags=flags)\n",
            "/usr/local/lib/python3.6/dist-packages/matplotlib/backends/backend_agg.py:214: RuntimeWarning: Glyph 2364 missing from current font.\n",
            "  font.set_text(s, 0.0, flags=flags)\n",
            "/usr/local/lib/python3.6/dist-packages/matplotlib/backends/backend_agg.py:214: RuntimeWarning: Glyph 2338 missing from current font.\n",
            "  font.set_text(s, 0.0, flags=flags)\n",
            "/usr/local/lib/python3.6/dist-packages/matplotlib/backends/backend_agg.py:214: RuntimeWarning: Glyph 2347 missing from current font.\n",
            "  font.set_text(s, 0.0, flags=flags)\n",
            "/usr/local/lib/python3.6/dist-packages/matplotlib/backends/backend_agg.py:214: RuntimeWarning: Glyph 2371 missing from current font.\n",
            "  font.set_text(s, 0.0, flags=flags)\n",
            "/usr/local/lib/python3.6/dist-packages/matplotlib/backends/backend_agg.py:214: RuntimeWarning: Glyph 2323 missing from current font.\n",
            "  font.set_text(s, 0.0, flags=flags)\n",
            "/usr/local/lib/python3.6/dist-packages/matplotlib/backends/backend_agg.py:214: RuntimeWarning: Glyph 2320 missing from current font.\n",
            "  font.set_text(s, 0.0, flags=flags)\n",
            "/usr/local/lib/python3.6/dist-packages/matplotlib/backends/backend_agg.py:214: RuntimeWarning: Glyph 2333 missing from current font.\n",
            "  font.set_text(s, 0.0, flags=flags)\n",
            "/usr/local/lib/python3.6/dist-packages/matplotlib/backends/backend_agg.py:183: RuntimeWarning: Glyph 2332 missing from current font.\n",
            "  font.set_text(s, 0, flags=flags)\n",
            "/usr/local/lib/python3.6/dist-packages/matplotlib/backends/backend_agg.py:183: RuntimeWarning: Glyph 2367 missing from current font.\n",
            "  font.set_text(s, 0, flags=flags)\n",
            "/usr/local/lib/python3.6/dist-packages/matplotlib/backends/backend_agg.py:183: RuntimeWarning: Glyph 2354 missing from current font.\n",
            "  font.set_text(s, 0, flags=flags)\n",
            "/usr/local/lib/python3.6/dist-packages/matplotlib/backends/backend_agg.py:183: RuntimeWarning: Glyph 2360 missing from current font.\n",
            "  font.set_text(s, 0, flags=flags)\n",
            "/usr/local/lib/python3.6/dist-packages/matplotlib/backends/backend_agg.py:183: RuntimeWarning: Glyph 2379 missing from current font.\n",
            "  font.set_text(s, 0, flags=flags)\n",
            "/usr/local/lib/python3.6/dist-packages/matplotlib/backends/backend_agg.py:183: RuntimeWarning: Glyph 2350 missing from current font.\n",
            "  font.set_text(s, 0, flags=flags)\n",
            "/usr/local/lib/python3.6/dist-packages/matplotlib/backends/backend_agg.py:183: RuntimeWarning: Glyph 2357 missing from current font.\n",
            "  font.set_text(s, 0, flags=flags)\n",
            "/usr/local/lib/python3.6/dist-packages/matplotlib/backends/backend_agg.py:183: RuntimeWarning: Glyph 2366 missing from current font.\n",
            "  font.set_text(s, 0, flags=flags)\n",
            "/usr/local/lib/python3.6/dist-packages/matplotlib/backends/backend_agg.py:183: RuntimeWarning: Glyph 2352 missing from current font.\n",
            "  font.set_text(s, 0, flags=flags)\n",
            "/usr/local/lib/python3.6/dist-packages/matplotlib/backends/backend_agg.py:183: RuntimeWarning: Glyph 2327 missing from current font.\n",
            "  font.set_text(s, 0, flags=flags)\n",
            "/usr/local/lib/python3.6/dist-packages/matplotlib/backends/backend_agg.py:183: RuntimeWarning: Glyph 2306 missing from current font.\n",
            "  font.set_text(s, 0, flags=flags)\n",
            "/usr/local/lib/python3.6/dist-packages/matplotlib/backends/backend_agg.py:183: RuntimeWarning: Glyph 2330 missing from current font.\n",
            "  font.set_text(s, 0, flags=flags)\n",
            "/usr/local/lib/python3.6/dist-packages/matplotlib/backends/backend_agg.py:183: RuntimeWarning: Glyph 2346 missing from current font.\n",
            "  font.set_text(s, 0, flags=flags)\n",
            "/usr/local/lib/python3.6/dist-packages/matplotlib/backends/backend_agg.py:183: RuntimeWarning: Glyph 2381 missing from current font.\n",
            "  font.set_text(s, 0, flags=flags)\n",
            "/usr/local/lib/python3.6/dist-packages/matplotlib/backends/backend_agg.py:183: RuntimeWarning: Glyph 2335 missing from current font.\n",
            "  font.set_text(s, 0, flags=flags)\n",
            "/usr/local/lib/python3.6/dist-packages/matplotlib/backends/backend_agg.py:183: RuntimeWarning: Glyph 2325 missing from current font.\n",
            "  font.set_text(s, 0, flags=flags)\n",
            "/usr/local/lib/python3.6/dist-packages/matplotlib/backends/backend_agg.py:183: RuntimeWarning: Glyph 2310 missing from current font.\n",
            "  font.set_text(s, 0, flags=flags)\n",
            "/usr/local/lib/python3.6/dist-packages/matplotlib/backends/backend_agg.py:183: RuntimeWarning: Glyph 2312 missing from current font.\n",
            "  font.set_text(s, 0, flags=flags)\n",
            "/usr/local/lib/python3.6/dist-packages/matplotlib/backends/backend_agg.py:183: RuntimeWarning: Glyph 2361 missing from current font.\n",
            "  font.set_text(s, 0, flags=flags)\n",
            "/usr/local/lib/python3.6/dist-packages/matplotlib/backends/backend_agg.py:183: RuntimeWarning: Glyph 2376 missing from current font.\n",
            "  font.set_text(s, 0, flags=flags)\n",
            "/usr/local/lib/python3.6/dist-packages/matplotlib/backends/backend_agg.py:183: RuntimeWarning: Glyph 2404 missing from current font.\n",
            "  font.set_text(s, 0, flags=flags)\n",
            "/usr/local/lib/python3.6/dist-packages/matplotlib/backends/backend_agg.py:183: RuntimeWarning: Glyph 2340 missing from current font.\n",
            "  font.set_text(s, 0, flags=flags)\n",
            "/usr/local/lib/python3.6/dist-packages/matplotlib/backends/backend_agg.py:183: RuntimeWarning: Glyph 2341 missing from current font.\n",
            "  font.set_text(s, 0, flags=flags)\n",
            "/usr/local/lib/python3.6/dist-packages/matplotlib/backends/backend_agg.py:183: RuntimeWarning: Glyph 2348 missing from current font.\n",
            "  font.set_text(s, 0, flags=flags)\n",
            "/usr/local/lib/python3.6/dist-packages/matplotlib/backends/backend_agg.py:183: RuntimeWarning: Glyph 2342 missing from current font.\n",
            "  font.set_text(s, 0, flags=flags)\n",
            "/usr/local/lib/python3.6/dist-packages/matplotlib/backends/backend_agg.py:183: RuntimeWarning: Glyph 2358 missing from current font.\n",
            "  font.set_text(s, 0, flags=flags)\n",
            "/usr/local/lib/python3.6/dist-packages/matplotlib/backends/backend_agg.py:183: RuntimeWarning: Glyph 2309 missing from current font.\n",
            "  font.set_text(s, 0, flags=flags)\n",
            "/usr/local/lib/python3.6/dist-packages/matplotlib/backends/backend_agg.py:183: RuntimeWarning: Glyph 2368 missing from current font.\n",
            "  font.set_text(s, 0, flags=flags)\n",
            "/usr/local/lib/python3.6/dist-packages/matplotlib/backends/backend_agg.py:183: RuntimeWarning: Glyph 2344 missing from current font.\n",
            "  font.set_text(s, 0, flags=flags)\n",
            "/usr/local/lib/python3.6/dist-packages/matplotlib/backends/backend_agg.py:183: RuntimeWarning: Glyph 2311 missing from current font.\n",
            "  font.set_text(s, 0, flags=flags)\n",
            "/usr/local/lib/python3.6/dist-packages/matplotlib/backends/backend_agg.py:183: RuntimeWarning: Glyph 2369 missing from current font.\n",
            "  font.set_text(s, 0, flags=flags)\n",
            "/usr/local/lib/python3.6/dist-packages/matplotlib/backends/backend_agg.py:183: RuntimeWarning: Glyph 2359 missing from current font.\n",
            "  font.set_text(s, 0, flags=flags)\n",
            "/usr/local/lib/python3.6/dist-packages/matplotlib/backends/backend_agg.py:183: RuntimeWarning: Glyph 2351 missing from current font.\n",
            "  font.set_text(s, 0, flags=flags)\n",
            "/usr/local/lib/python3.6/dist-packages/matplotlib/backends/backend_agg.py:183: RuntimeWarning: Glyph 2375 missing from current font.\n",
            "  font.set_text(s, 0, flags=flags)\n",
            "/usr/local/lib/python3.6/dist-packages/matplotlib/backends/backend_agg.py:183: RuntimeWarning: Glyph 2326 missing from current font.\n",
            "  font.set_text(s, 0, flags=flags)\n",
            "/usr/local/lib/python3.6/dist-packages/matplotlib/backends/backend_agg.py:183: RuntimeWarning: Glyph 2380 missing from current font.\n",
            "  font.set_text(s, 0, flags=flags)\n",
            "/usr/local/lib/python3.6/dist-packages/matplotlib/backends/backend_agg.py:183: RuntimeWarning: Glyph 2319 missing from current font.\n",
            "  font.set_text(s, 0, flags=flags)\n",
            "/usr/local/lib/python3.6/dist-packages/matplotlib/backends/backend_agg.py:183: RuntimeWarning: Glyph 2337 missing from current font.\n",
            "  font.set_text(s, 0, flags=flags)\n",
            "/usr/local/lib/python3.6/dist-packages/matplotlib/backends/backend_agg.py:183: RuntimeWarning: Glyph 2370 missing from current font.\n",
            "  font.set_text(s, 0, flags=flags)\n",
            "/usr/local/lib/python3.6/dist-packages/matplotlib/backends/backend_agg.py:183: RuntimeWarning: Glyph 2349 missing from current font.\n",
            "  font.set_text(s, 0, flags=flags)\n",
            "/usr/local/lib/python3.6/dist-packages/matplotlib/backends/backend_agg.py:183: RuntimeWarning: Glyph 2313 missing from current font.\n",
            "  font.set_text(s, 0, flags=flags)\n",
            "/usr/local/lib/python3.6/dist-packages/matplotlib/backends/backend_agg.py:183: RuntimeWarning: Glyph 2339 missing from current font.\n",
            "  font.set_text(s, 0, flags=flags)\n",
            "/usr/local/lib/python3.6/dist-packages/matplotlib/backends/backend_agg.py:183: RuntimeWarning: Glyph 2377 missing from current font.\n",
            "  font.set_text(s, 0, flags=flags)\n",
            "/usr/local/lib/python3.6/dist-packages/matplotlib/backends/backend_agg.py:183: RuntimeWarning: Glyph 2336 missing from current font.\n",
            "  font.set_text(s, 0, flags=flags)\n",
            "/usr/local/lib/python3.6/dist-packages/matplotlib/backends/backend_agg.py:183: RuntimeWarning: Glyph 2331 missing from current font.\n",
            "  font.set_text(s, 0, flags=flags)\n",
            "/usr/local/lib/python3.6/dist-packages/matplotlib/backends/backend_agg.py:183: RuntimeWarning: Glyph 2343 missing from current font.\n",
            "  font.set_text(s, 0, flags=flags)\n",
            "/usr/local/lib/python3.6/dist-packages/matplotlib/backends/backend_agg.py:183: RuntimeWarning: Glyph 2328 missing from current font.\n",
            "  font.set_text(s, 0, flags=flags)\n",
            "/usr/local/lib/python3.6/dist-packages/matplotlib/backends/backend_agg.py:183: RuntimeWarning: Glyph 2364 missing from current font.\n",
            "  font.set_text(s, 0, flags=flags)\n",
            "/usr/local/lib/python3.6/dist-packages/matplotlib/backends/backend_agg.py:183: RuntimeWarning: Glyph 2338 missing from current font.\n",
            "  font.set_text(s, 0, flags=flags)\n",
            "/usr/local/lib/python3.6/dist-packages/matplotlib/backends/backend_agg.py:183: RuntimeWarning: Glyph 2347 missing from current font.\n",
            "  font.set_text(s, 0, flags=flags)\n",
            "/usr/local/lib/python3.6/dist-packages/matplotlib/backends/backend_agg.py:183: RuntimeWarning: Glyph 2371 missing from current font.\n",
            "  font.set_text(s, 0, flags=flags)\n",
            "/usr/local/lib/python3.6/dist-packages/matplotlib/backends/backend_agg.py:183: RuntimeWarning: Glyph 2323 missing from current font.\n",
            "  font.set_text(s, 0, flags=flags)\n",
            "/usr/local/lib/python3.6/dist-packages/matplotlib/backends/backend_agg.py:183: RuntimeWarning: Glyph 2320 missing from current font.\n",
            "  font.set_text(s, 0, flags=flags)\n",
            "/usr/local/lib/python3.6/dist-packages/matplotlib/backends/backend_agg.py:183: RuntimeWarning: Glyph 2333 missing from current font.\n",
            "  font.set_text(s, 0, flags=flags)\n"
          ],
          "name": "stderr"
        },
        {
          "output_type": "display_data",
          "data": {
            "image/png": "[encoded data removed]",
            "text/plain": [
              "<Figure size 1152x1152 with 1 Axes>"
            ]
          },
          "metadata": {
            "tags": [],
            "needs_background": "light"
          }
        }
      ]
    },
    {
      "cell_type": "code",
      "metadata": {
        "id": "FcUBQGs3Ha7t",
        "colab_type": "code",
        "colab": {}
      },
      "source": [
        "X_train = df['stopwords']\n",
        "Y_train = df['Category']"
      ],
      "execution_count": null,
      "outputs": []
    },
    {
      "cell_type": "code",
      "metadata": {
        "id": "WFfOT0G3Z26o",
        "colab_type": "code",
        "colab": {}
      },
      "source": [
        "def preprocess1(x):\n",
        "  x = remove_punct(x)\n",
        "  x = generate(nltk.word_tokenize(x))\n",
        "  x = remove_stop_words(nltk.word_tokenize(x))\n",
        "  return x"
      ],
      "execution_count": null,
      "outputs": []
    },
    {
      "cell_type": "code",
      "metadata": {
        "id": "fMtrjVrbULGy",
        "colab_type": "code",
        "colab": {}
      },
      "source": [
        "from sklearn.pipeline import Pipeline\n",
        "from sklearn import linear_model\n",
        "\n",
        "from sklearn.feature_extraction.text import TfidfVectorizer"
      ],
      "execution_count": null,
      "outputs": []
    },
    {
      "cell_type": "code",
      "metadata": {
        "id": "j6wTDIPBURHQ",
        "colab_type": "code",
        "colab": {}
      },
      "source": [
        "pipeline = Pipeline([\n",
        "    \n",
        "    ('tfidf',TfidfVectorizer(analyzer=\"word\",ngram_range=(1,3),max_features=5000 )),\n",
        "    ('clf', linear_model.LogisticRegression(C=1e5))\n",
        "])"
      ],
      "execution_count": null,
      "outputs": []
    },
    {
      "cell_type": "code",
      "metadata": {
        "id": "8cDcCR5yUmLi",
        "colab_type": "code",
        "colab": {
          "base_uri": "https://localhost:8080/",
          "height": 408
        },
        "outputId": "5a511e3c-1877-4229-a6cc-22bf308f4894"
      },
      "source": [
        "pipeline.fit(X_train, Y_train)"
      ],
      "execution_count": null,
      "outputs": [
        {
          "output_type": "execute_result",
          "data": {
            "text/plain": [
              "Pipeline(memory=None,\n",
              "         steps=[('tfidf',\n",
              "                 TfidfVectorizer(analyzer='word', binary=False,\n",
              "                                 decode_error='strict',\n",
              "                                 dtype=<class 'numpy.float64'>,\n",
              "                                 encoding='utf-8', input='content',\n",
              "                                 lowercase=True, max_df=1.0, max_features=5000,\n",
              "                                 min_df=1, ngram_range=(1, 3), norm='l2',\n",
              "                                 preprocessor=None, smooth_idf=True,\n",
              "                                 stop_words=None, strip_accents=None,\n",
              "                                 sublinear_tf=False,\n",
              "                                 token_pattern='(?u)\\\\b\\\\w\\\\w+\\\\b',\n",
              "                                 tokenizer=None, use_idf=True,\n",
              "                                 vocabulary=None)),\n",
              "                ('clf',\n",
              "                 LogisticRegression(C=100000.0, class_weight=None, dual=False,\n",
              "                                    fit_intercept=True, intercept_scaling=1,\n",
              "                                    l1_ratio=None, max_iter=100,\n",
              "                                    multi_class='auto', n_jobs=None,\n",
              "                                    penalty='l2', random_state=None,\n",
              "                                    solver='lbfgs', tol=0.0001, verbose=0,\n",
              "                                    warm_start=False))],\n",
              "         verbose=False)"
            ]
          },
          "metadata": {
            "tags": []
          },
          "execution_count": 341
        }
      ]
    },
    {
      "cell_type": "code",
      "metadata": {
        "id": "3OBzPQr4UxBE",
        "colab_type": "code",
        "colab": {
          "base_uri": "https://localhost:8080/",
          "height": 292
        },
        "outputId": "fcd7f5a4-f9e6-428b-85cd-07ddd05537ca"
      },
      "source": [
        "!pip install googletrans"
      ],
      "execution_count": null,
      "outputs": [
        {
          "output_type": "stream",
          "text": [
            "Requirement already satisfied: googletrans in /usr/local/lib/python3.6/dist-packages (3.0.0)\n",
            "Requirement already satisfied: httpx==0.13.3 in /usr/local/lib/python3.6/dist-packages (from googletrans) (0.13.3)\n",
            "Requirement already satisfied: chardet==3.* in /usr/local/lib/python3.6/dist-packages (from httpx==0.13.3->googletrans) (3.0.4)\n",
            "Requirement already satisfied: sniffio in /usr/local/lib/python3.6/dist-packages (from httpx==0.13.3->googletrans) (1.1.0)\n",
            "Requirement already satisfied: certifi in /usr/local/lib/python3.6/dist-packages (from httpx==0.13.3->googletrans) (2020.6.20)\n",
            "Requirement already satisfied: rfc3986<2,>=1.3 in /usr/local/lib/python3.6/dist-packages (from httpx==0.13.3->googletrans) (1.4.0)\n",
            "Requirement already satisfied: hstspreload in /usr/local/lib/python3.6/dist-packages (from httpx==0.13.3->googletrans) (2020.7.17)\n",
            "Requirement already satisfied: httpcore==0.9.* in /usr/local/lib/python3.6/dist-packages (from httpx==0.13.3->googletrans) (0.9.1)\n",
            "Requirement already satisfied: idna==2.* in /usr/local/lib/python3.6/dist-packages (from httpx==0.13.3->googletrans) (2.10)\n",
            "Requirement already satisfied: contextvars>=2.1; python_version < \"3.7\" in /usr/local/lib/python3.6/dist-packages (from sniffio->httpx==0.13.3->googletrans) (2.4)\n",
            "Requirement already satisfied: h11<0.10,>=0.8 in /usr/local/lib/python3.6/dist-packages (from httpcore==0.9.*->httpx==0.13.3->googletrans) (0.9.0)\n",
            "Requirement already satisfied: h2==3.* in /usr/local/lib/python3.6/dist-packages (from httpcore==0.9.*->httpx==0.13.3->googletrans) (3.2.0)\n",
            "Requirement already satisfied: immutables>=0.9 in /usr/local/lib/python3.6/dist-packages (from contextvars>=2.1; python_version < \"3.7\"->sniffio->httpx==0.13.3->googletrans) (0.14)\n",
            "Requirement already satisfied: hyperframe<6,>=5.2.0 in /usr/local/lib/python3.6/dist-packages (from h2==3.*->httpcore==0.9.*->httpx==0.13.3->googletrans) (5.2.0)\n",
            "Requirement already satisfied: hpack<4,>=3.0 in /usr/local/lib/python3.6/dist-packages (from h2==3.*->httpcore==0.9.*->httpx==0.13.3->googletrans) (3.0.0)\n"
          ],
          "name": "stdout"
        }
      ]
    },
    {
      "cell_type": "code",
      "metadata": {
        "id": "NrkafPjpW1W1",
        "colab_type": "code",
        "colab": {
          "base_uri": "https://localhost:8080/",
          "height": 34
        },
        "outputId": "ae30fa3d-607c-4cfd-df01-33adfcf83e88"
      },
      "source": [
        "from googletrans import Translator\n",
        "translator = Translator()\n",
        "t = translator.translate('The number of people infected with this deadly virus has increased to 85,975 in the state after 3,007 new cases of coronavirus infection were reported in Maharashtra on Sunday. A health official said that after the death of 91 more people due to infection in the state, the death toll in the state has increased to 3,060. The official said that the cases of corona virus infection in Maharashtra have exceeded the cases of China. There are 83,036 confirmed cases of infection in China. 39,314 people have recovered in Maharashtra, 3,060 people have died and 43,591 peopleare undergoing treatment.',dest=\"hi\")\n",
        "pipeline.predict([t.text])"
      ],
      "execution_count": null,
      "outputs": [
        {
          "output_type": "execute_result",
          "data": {
            "text/plain": [
              "array([1])"
            ]
          },
          "metadata": {
            "tags": []
          },
          "execution_count": 343
        }
      ]
    },
    {
      "cell_type": "code",
      "metadata": {
        "id": "Dsi4ccg_Xi1I",
        "colab_type": "code",
        "colab": {
          "base_uri": "https://localhost:8080/",
          "height": 54
        },
        "outputId": "20c5acab-2c5a-4773-c906-84fb054bc7d7"
      },
      "source": [
        "from googletrans import Translator\n",
        "translator = Translator()\n",
        "t = translator.translate(preprocess1('flynn hillary clinton big woman campus breitbart daniel j flynnever get feeling life circle roundabout rather head straight line toward intended destination hillary clinton remains big woman campus leafy liberal wellesley massachusetts everywhere else vote likely inauguration dress remainder day way miss havisham forever wore wedding dress speaking great expectations hillary rodham overflowed 48 year ago first addressed wellesley graduating class the president college informed gathered 1969 student needed debate far i could ascertain spokesman kind like democratic primary 2016 minus term unknown even seven sisters school i glad miss adams made clear i speaking today u 400 u miss rodham told classmate after appointing edger bergen charlie mccarthys mortimer snerds attendance bespectacled granny glass awarding matronly wisdom least john lennon wisdom took issue previous speaker despite becoming first win election seat u s senate since reconstruction edward brooke came criticism calling empathy goal protestors criticized tactic though clinton senior thesis saul alinsky lamented black power demagogue elitist arrogance repressive intolerance within new left similar word coming republican necessitated brief rebuttal trust rodham ironically observed 1969 one word i asked class rehearsal wanted say everyone came said talk trust talk lack trust u way feel others talk trust bust what say what say feeling permeates generation perhaps even understood distrusted the trust bust certainly busted clintons 2016 plan she certainly even understand people distrusted after whitewater travelgate vast conspiracy benghazi missing email clinton found distrusted voice friday there load compromising road broadening political horizon and distrust american people trump edged 48 percent 38 percent question immediately prior novembers election stood major reason closing horizon clinton described vanquisher supporter embracing lie con alternative fact assault truth reason she failed explain american people chose lie truth as history major among today know well people power invent fact attack question mark beginning end free society offered that hyperbole like many people emerge 1960s hillary clinton embarked upon long strange trip from high school goldwater girl wellesley college republican president democratic politician clinton drank time place gave degree more significantly went idealist cynic comparison two wellesley commencement address show way back lamented long leader viewed politics art possible challenge practice politics art making appears impossible possible now big woman campus odd woman white house wonder current station even possible why arent i 50 point ahead asked september in may asks isnt president the woman famously dubbed congenital liar bill safire concludes lie mind getting stood election day like finding jilted bride wedding day inspires dangerous delusion'),dest=\"hi\")\n",
        "pipeline.predict([preprocess(t.text)])\n",
        "print(t.text)"
      ],
      "execution_count": null,
      "outputs": [
        {
          "output_type": "stream",
          "text": [
            "उड़ता हिलेरी क्लिंटन बड़ी महिला परिसर breitbart daniel j flynnever को जीवन चक्र गोल चक्कर के रूप में महसूस करना पड़ता है, लेकिन इसका मतलब है कि गंतव्य के लिए सीधी रेखा, हिलेरी क्लिंटन बड़ी महिला परिसर पत्तेदार लिबरल वेस्ली मासैचियन हर जगह रहती है, जहाँ से उद्घाटन की संभावना शेष रहती है जिस तरह से मिस हैविशम हमेशा के लिए शादी की पोशाक पहनकर बड़ी उम्मीदें रखती है। हिलेरी रोथम 48 साल पहले बह निकला था, जिसने पहले से ही स्नातक की उपाधि प्राप्त कर ली थी। राष्ट्रपति कॉलेज ने 1969 के छात्रों को बहस की जरूरत बताई थी कि मुझे लोकतांत्रिक प्राथमिक 2016 की तरह ही प्रवक्ता की तरह पता लगाया जा सकता है कि अज्ञात सात बहनें भी स्कूली हैं, मुझे खुशी है कि एडम्स स्पष्ट हैं मैं आज ही बोल रहा हूं। यू 400 यू मिस रॉडहम ने एडगर बर्गेन चार्ली मकार्थिस मोर्टिमर सिनर्ड्स की उपस्थिति के बाद सहपाठी से कहा कि उपस्थिति के बारे में बताए गए नानी ग्लास को मैट्रनली ज्ञान प्रदान करते हुए कम से कम जॉन लेनन ज्ञान ने पिछले स्पीकर को पहली बार चुनाव सीट देने के बावजूद हमें स्पीकर बना दिया क्योंकि पुनर्निर्माण एडवर्ड ब्रुक की आलोचना के बाद से सीनेट की आलोचना हुई। एमपैथी गोल प्रदर्शनकारियों ने रणनीति की आलोचना की, हालांकि क्लिंटन वरिष्ठ थीसिस सूल अलिन्स्की ने ब्लैक पॉवर डेमोगॉग एलीटिस्ट एगरिस्ट दमनकारी असहिष्णुता को नए बाएँ शब्दों के भीतर रखा है। इसी तरह के शब्द रिपब्लिकन आवश्यक संक्षिप्त खंडन्यास ट्रस्ट रॉडहैम ने 1969 में देखा एक शब्द मैंने कक्षा रिहर्सल चाहा था, जिसमें कहा गया था कि हर कोई विश्वास की कमी की बात करता है। यू वे महसूस करते हैं कि अन्य लोग ट्रस्ट बस्ट बोलते हैं जो कहते हैं कि क्या महसूस करती है कि परमिट जनरेशन जनरेशन शायद अविश्वास को भी समझ गई है बस्ट निश्चित रूप से पर्दाफाश क्लिंटन 2016 की योजना वह निश्चित रूप से लोगों को भी समझती है जो व्हाइटवॉटर ट्रैवलगेट विशाल साजिश के बाद अविश्वासित होते हैं बेन्थाजी लापता ईमेल क्लिंट पाया डिस्ट्रेस्ड वॉयस फ्राइडे लोड लोडिंग रोड चौड़ीकरण राजनीतिक क्षितिज और अविश्वास अमेरिकी लोगों ने ट्रम्प को 48 प्रतिशत 38 प्रतिशत प्रश्न के तुरंत पहले नुक्कड़ सभा चुनाव के लिए खड़ा कर दिया, प्रमुख कारण क्षितिज क्लिंटन को बंद करना बताया गया था, जिसमें वेक्किर समर्थक झूठ बोल रहे थे। एक लोगों ने झूठ को सच के रूप में चुना है, जो आज के इतिहास के प्रमुख के रूप में अच्छी तरह से जानते हैं कि लोग पावर इनवेशन फैक्ट अटैक क्वेश्चन अटैक एंड मार्क फ्री सोसाइटी की शुरुआत करते हैं, जिसमें कहा गया है कि हाईबोल जैसे कई लोग 1960 के दशक में हिलेरी क्लिंटन के रूप में उभरे हैं, जो हाई स्कूल गोल्डवॉटर गर्ल वेलस्ले कॉलेज रिपब्लिकन राष्ट्रपति लोकतांत्रिक राजनीतिज्ञ क्लिंटन से लंबी अजीब यात्रा करते हैं। प्याऊ का समय दिया गया, डिग्री ने काफी हद तक आदर्शवादी निंदक तुलना दो वेलसली स्टार्टिंग एड्रेस शो को वापस ले लिया, जिस पर लंबे समय तक चलने वाला नेता राजनीति कला संभव चुनौती अभ्यास राजनीति कला बनाना असंभव प्रतीत होता है अब बड़ी महिला कैंपस विषम महिला व्हाइट हाउस आश्चर्य वर्तमान स्टेशन यहां तक ​​कि संभव नहीं है - arent i 50 आगे से पूछे जाने वाले सिपाही से पूछते हैं कि इस्लाम राष्ट्रपति ने महिला को प्रसिद्ध जन्मजात झूठे बिल को सुरक्षित रखने के लिए झूठे मन से चुनावी दिन की तरह चुना हुआ है, जैसे कि झुकी हुई दुल्हन की शादी का दिन खतरनाक भ्रम को प्रेरित करता है\n"
          ],
          "name": "stdout"
        }
      ]
    },
    {
      "cell_type": "code",
      "metadata": {
        "id": "RFUwPUd9YEmu",
        "colab_type": "code",
        "colab": {
          "base_uri": "https://localhost:8080/",
          "height": 34
        },
        "outputId": "e4f77447-4805-4640-d7ed-1e3ac6bc9027"
      },
      "source": [
        "from googletrans import Translator\n",
        "translator = Translator()\n",
        "t = translator.translate('The vaccine for corona has already come',dest=\"hi\")\n",
        "pipeline.predict([preprocess1(t.text)])"
      ],
      "execution_count": null,
      "outputs": [
        {
          "output_type": "execute_result",
          "data": {
            "text/plain": [
              "array([0])"
            ]
          },
          "metadata": {
            "tags": []
          },
          "execution_count": 345
        }
      ]
    },
    {
      "cell_type": "code",
      "metadata": {
        "id": "8NZX_93JYS2C",
        "colab_type": "code",
        "colab": {
          "base_uri": "https://localhost:8080/",
          "height": 34
        },
        "outputId": "8ac0a889-39cf-45b5-971c-e2066e343da7"
      },
      "source": [
        "from googletrans import Translator\n",
        "translator = Translator()\n",
        "t = translator.translate('eating vegetarian food and eliminating meat from your diet could prevent you getting coronavirus.Indian cricketer Sachin Tendulkar had asked for meat shops to be shut.',dest=\"hi\")\n",
        "pipeline.predict([preprocess1(t.text)])"
      ],
      "execution_count": null,
      "outputs": [
        {
          "output_type": "execute_result",
          "data": {
            "text/plain": [
              "array([0])"
            ]
          },
          "metadata": {
            "tags": []
          },
          "execution_count": 347
        }
      ]
    },
    {
      "cell_type": "code",
      "metadata": {
        "id": "iC59LdFGfOU6",
        "colab_type": "code",
        "colab": {
          "base_uri": "https://localhost:8080/",
          "height": 120
        },
        "outputId": "d44608fa-f004-4947-81e0-3c1140528903"
      },
      "source": [
        "from google.colab import drive\n",
        "drive.mount('/content/drive')"
      ],
      "execution_count": null,
      "outputs": [
        {
          "output_type": "stream",
          "text": [
            "Go to this URL in a browser: https://accounts.google.com/o/oauth2/auth?client_id=947318989803-6bn6qk8qdgf4n4g3pfee6491hc0brc4i.apps.googleusercontent.com&redirect_uri=urn%3aietf%3awg%3aoauth%3a2.0%3aoob&response_type=code&scope=email%20https%3a%2f%2fwww.googleapis.com%2fauth%2fdocs.test%20https%3a%2f%2fwww.googleapis.com%2fauth%2fdrive%20https%3a%2f%2fwww.googleapis.com%2fauth%2fdrive.photos.readonly%20https%3a%2f%2fwww.googleapis.com%2fauth%2fpeopleapi.readonly\n",
            "\n",
            "Enter your authorization code:\n",
            "··········\n",
            "Mounted at /content/drive\n"
          ],
          "name": "stdout"
        }
      ]
    },
    {
      "cell_type": "code",
      "metadata": {
        "id": "yFVgDmtVfL0y",
        "colab_type": "code",
        "colab": {}
      },
      "source": [
        "import numpy \n",
        "\n",
        "X = numpy.array(list(df['stopwords']))"
      ],
      "execution_count": null,
      "outputs": []
    },
    {
      "cell_type": "code",
      "metadata": {
        "id": "_mmyX9-rgi_z",
        "colab_type": "code",
        "colab": {
          "base_uri": "https://localhost:8080/",
          "height": 33
        },
        "outputId": "3ffdd114-7028-4bc1-eebf-d7b5bf451315"
      },
      "source": [
        "X.shape"
      ],
      "execution_count": null,
      "outputs": [
        {
          "output_type": "execute_result",
          "data": {
            "text/plain": [
              "(843,)"
            ]
          },
          "metadata": {
            "tags": []
          },
          "execution_count": 21
        }
      ]
    },
    {
      "cell_type": "code",
      "metadata": {
        "id": "I_7kpShkgkB-",
        "colab_type": "code",
        "colab": {}
      },
      "source": [
        "y = numpy.array(list(df['Category']))"
      ],
      "execution_count": null,
      "outputs": []
    },
    {
      "cell_type": "code",
      "metadata": {
        "id": "rdrfAMKfgn68",
        "colab_type": "code",
        "colab": {
          "base_uri": "https://localhost:8080/",
          "height": 33
        },
        "outputId": "6c5d924d-3999-44b9-b62f-087ae98c02d3"
      },
      "source": [
        "y.shape"
      ],
      "execution_count": null,
      "outputs": [
        {
          "output_type": "execute_result",
          "data": {
            "text/plain": [
              "(843,)"
            ]
          },
          "metadata": {
            "tags": []
          },
          "execution_count": 23
        }
      ]
    },
    {
      "cell_type": "code",
      "metadata": {
        "id": "D4hX0D-mgoui",
        "colab_type": "code",
        "colab": {}
      },
      "source": [
        "from sklearn.model_selection import train_test_split\n",
        "df_train, df_test, Ytrain, Ytest = train_test_split(X, y, test_size=0.33)"
      ],
      "execution_count": null,
      "outputs": []
    },
    {
      "cell_type": "code",
      "metadata": {
        "id": "6vW8eeQLgtND",
        "colab_type": "code",
        "colab": {}
      },
      "source": [
        "from tensorflow.keras.preprocessing.text import Tokenizer\n",
        "from tensorflow.keras.preprocessing.sequence import pad_sequences\n",
        "from tensorflow.keras.layers import Dense, Input, GlobalMaxPooling1D, SpatialDropout1D, Conv1D, MaxPooling1D\n",
        "from tensorflow.keras.layers import LSTM, Embedding\n",
        "from tensorflow.keras.models import Model\n",
        "MAX_VOCAB_SIZE = 20000\n",
        "tokenizer = Tokenizer(num_words=MAX_VOCAB_SIZE)\n",
        "tokenizer.fit_on_texts(df_train)\n",
        "sequences_train = tokenizer.texts_to_sequences(df_train)\n",
        "sequences_test = tokenizer.texts_to_sequences(df_test)"
      ],
      "execution_count": null,
      "outputs": []
    },
    {
      "cell_type": "code",
      "metadata": {
        "id": "Y0jHmVf9gwHm",
        "colab_type": "code",
        "colab": {
          "base_uri": "https://localhost:8080/",
          "height": 33
        },
        "outputId": "0cd699ce-8f83-4688-98f8-1bc2c5df2ce0"
      },
      "source": [
        "len(tokenizer.word_index)"
      ],
      "execution_count": null,
      "outputs": [
        {
          "output_type": "execute_result",
          "data": {
            "text/plain": [
              "9482"
            ]
          },
          "metadata": {
            "tags": []
          },
          "execution_count": 26
        }
      ]
    },
    {
      "cell_type": "code",
      "metadata": {
        "id": "It8xY3WBgzYX",
        "colab_type": "code",
        "colab": {
          "base_uri": "https://localhost:8080/",
          "height": 33
        },
        "outputId": "fc0dd2d4-437a-4f8d-d25d-7b87f1c1f2fb"
      },
      "source": [
        "data_train = pad_sequences(sequences_train)\n",
        "print('Shape of data train tensor:', data_train.shape)\n",
        "\n",
        "# get sequence length\n",
        "T = data_train.shape[1]"
      ],
      "execution_count": null,
      "outputs": [
        {
          "output_type": "stream",
          "text": [
            "Shape of data train tensor: (564, 1581)\n"
          ],
          "name": "stdout"
        }
      ]
    },
    {
      "cell_type": "code",
      "metadata": {
        "id": "kX4lf2JZg3ky",
        "colab_type": "code",
        "colab": {
          "base_uri": "https://localhost:8080/",
          "height": 33
        },
        "outputId": "3cc67902-fe9f-491e-cfc0-b59dfaf19b9b"
      },
      "source": [
        "data_test = pad_sequences(sequences_test, maxlen=T)\n",
        "print('Shape of data test tensor:', data_test.shape)"
      ],
      "execution_count": null,
      "outputs": [
        {
          "output_type": "stream",
          "text": [
            "Shape of data test tensor: (279, 1581)\n"
          ],
          "name": "stdout"
        }
      ]
    },
    {
      "cell_type": "code",
      "metadata": {
        "id": "qu1UhvkVg8LT",
        "colab_type": "code",
        "colab": {
          "base_uri": "https://localhost:8080/",
          "height": 133
        },
        "outputId": "a6cc6310-154b-435c-98ea-b3cd1a399848"
      },
      "source": [
        "data_test"
      ],
      "execution_count": null,
      "outputs": [
        {
          "output_type": "execute_result",
          "data": {
            "text/plain": [
              "array([[   0,    0,    0, ..., 2779, 1621,    1],\n",
              "       [   0,    0,    0, ..., 1145,  603,  410],\n",
              "       [   0,    0,    0, ...,  189,  224,  225],\n",
              "       ...,\n",
              "       [   0,    0,    0, ...,    7,    6,    1],\n",
              "       [   0,    0,    0, ...,  137,   78,  424],\n",
              "       [   0,    0,    0, ...,  189,  224,  225]], dtype=int32)"
            ]
          },
          "metadata": {
            "tags": []
          },
          "execution_count": 29
        }
      ]
    },
    {
      "cell_type": "code",
      "metadata": {
        "id": "6Pnm4iwmg-_C",
        "colab_type": "code",
        "colab": {
          "base_uri": "https://localhost:8080/",
          "height": 863
        },
        "outputId": "3ce96343-8bf7-4ef3-d0b4-f2c76340e041"
      },
      "source": [
        "from tensorflow.keras.callbacks import EarlyStopping\n",
        "from tensorflow.keras.optimizers import Adam\n",
        "\n",
        "early_stop = EarlyStopping(monitor='val_loss',patience=2)\n",
        "# Create the model\n",
        "\n",
        "V= len(tokenizer.word_index)\n",
        "# We get to choose embedding dimensionality\n",
        "D = 20\n",
        "\n",
        "# Hidden state dimensionality\n",
        "M = 100\n",
        "\n",
        "# Note: we actually want to the size of the embedding to (V + 1) x D,\n",
        "# because the first index starts from 1 and not 0.\n",
        "# Thus, if the final index of the embedding matrix is V,\n",
        "# then it actually must have size V + 1.\n",
        "\n",
        "i = Input(shape=(T,))\n",
        "x = Embedding(V + 1, D)(i)\n",
        "x = SpatialDropout1D(0.2)(x)\n",
        "x = LSTM(M, return_sequences=True)(x)\n",
        "x = Dense(40,activation='relu')(x)\n",
        "x = GlobalMaxPooling1D()(x)\n",
        "x = Dense(1, activation='sigmoid')(x)\n",
        "\n",
        "\n",
        "model = Model(i, x)\n",
        "# Compile and fit\n",
        "model.compile(\n",
        "  loss='binary_crossentropy',\n",
        "  optimizer='adam',\n",
        "  metrics=['accuracy']\n",
        ")\n",
        "\n",
        "\n",
        "print('Training model...')\n",
        "r = model.fit(\n",
        "  data_train,\n",
        "  Ytrain,\n",
        "  epochs=20,\n",
        "  validation_data=(data_test, Ytest),\n",
        "  callbacks=[early_stop]\n",
        "  #validation_split=0.1\n",
        ")\n",
        "# Plot loss per iteration\n",
        "import matplotlib.pyplot as plt\n",
        "plt.plot(r.history['loss'], label='loss')\n",
        "plt.plot(r.history['val_loss'], label='val_loss')\n",
        "plt.legend()\n",
        "plt.savefig('LSTMloss.png', dpi=300, bbox_inches='tight')\n",
        "plt.show()\n",
        "plt.plot(r.history['accuracy'], label='acc')\n",
        "plt.plot(r.history['val_accuracy'], label='val_acc')\n",
        "plt.legend()\n",
        "plt.savefig('LSTMAccu.png', dpi=300, bbox_inches='tight')\n",
        "plt.show()"
      ],
      "execution_count": null,
      "outputs": [
        {
          "output_type": "stream",
          "text": [
            "Training model...\n",
            "Epoch 1/20\n",
            "18/18 [==============================] - 2s 96ms/step - loss: 0.6820 - accuracy: 0.5585 - val_loss: 0.5726 - val_accuracy: 0.9211\n",
            "Epoch 2/20\n",
            "18/18 [==============================] - 1s 72ms/step - loss: 0.6402 - accuracy: 0.7571 - val_loss: 0.6098 - val_accuracy: 0.7599\n",
            "Epoch 3/20\n",
            "18/18 [==============================] - 1s 71ms/step - loss: 0.4886 - accuracy: 0.8688 - val_loss: 0.2779 - val_accuracy: 0.9391\n",
            "Epoch 4/20\n",
            "18/18 [==============================] - 1s 71ms/step - loss: 0.3649 - accuracy: 0.8688 - val_loss: 0.4863 - val_accuracy: 0.8638\n",
            "Epoch 5/20\n",
            "18/18 [==============================] - 1s 71ms/step - loss: 0.2735 - accuracy: 0.9521 - val_loss: 0.1818 - val_accuracy: 0.9785\n",
            "Epoch 6/20\n",
            "18/18 [==============================] - 1s 72ms/step - loss: 0.1274 - accuracy: 0.9681 - val_loss: 0.0943 - val_accuracy: 0.9785\n",
            "Epoch 7/20\n",
            "18/18 [==============================] - 1s 74ms/step - loss: 0.0591 - accuracy: 0.9840 - val_loss: 0.0818 - val_accuracy: 0.9928\n",
            "Epoch 8/20\n",
            "18/18 [==============================] - 1s 72ms/step - loss: 0.0280 - accuracy: 0.9965 - val_loss: 0.0671 - val_accuracy: 0.9928\n",
            "Epoch 9/20\n",
            "18/18 [==============================] - 1s 72ms/step - loss: 0.0224 - accuracy: 0.9965 - val_loss: 0.0683 - val_accuracy: 0.9892\n",
            "Epoch 10/20\n",
            "18/18 [==============================] - 1s 71ms/step - loss: 0.0207 - accuracy: 0.9965 - val_loss: 0.0715 - val_accuracy: 0.9892\n"
          ],
          "name": "stdout"
        },
        {
          "output_type": "display_data",
          "data": {
            "image/png": "[encoded data removed]",
            "text/plain": [
              "<Figure size 432x288 with 1 Axes>"
            ]
          },
          "metadata": {
            "tags": [],
            "needs_background": "light"
          }
        },
        {
          "output_type": "display_data",
          "data": {
            "image/png": "[encoded data removed]",
            "text/plain": [
              "<Figure size 432x288 with 1 Axes>"
            ]
          },
          "metadata": {
            "tags": [],
            "needs_background": "light"
          }
        }
      ]
    },
    {
      "cell_type": "code",
      "metadata": {
        "id": "NSe7k4B0hJHX",
        "colab_type": "code",
        "colab": {
          "base_uri": "https://localhost:8080/",
          "height": 796
        },
        "outputId": "c4afee74-62a3-4a2e-f5ab-2e4138d42215"
      },
      "source": [
        "from tensorflow.keras.callbacks import EarlyStopping\n",
        "from tensorflow.keras.optimizers import Adam\n",
        "\n",
        "early_stop = EarlyStopping(monitor='accuracy',patience=2)\n",
        "i = Input(shape=(T,))\n",
        "x = Embedding(V + 1, D)(i)\n",
        "x = Conv1D(32, 3, activation='relu')(x)\n",
        "x = MaxPooling1D(3)(x)\n",
        "x = Conv1D(64, 3, activation='relu')(x)\n",
        "x = MaxPooling1D(3)(x)\n",
        "x = Conv1D(128, 3, activation='relu')(x)\n",
        "x = GlobalMaxPooling1D()(x)\n",
        "x = Dense(1, activation='sigmoid')(x)\n",
        "\n",
        "model = Model(i, x)\n",
        "\n",
        "model.compile(Adam(lr=0.001),\n",
        "              loss='binary_crossentropy',\n",
        "              metrics=['accuracy'])\n",
        "\n",
        "print('Training model...')\n",
        "r = model.fit(\n",
        "  data_train,\n",
        "  Ytrain,\n",
        "  epochs=10,\n",
        "  validation_data=(data_test, Ytest), callbacks=[early_stop]\n",
        ")\n",
        "import matplotlib.pyplot as plt\n",
        "plt.plot(r.history['loss'], label='loss')\n",
        "plt.plot(r.history['val_loss'], label='val_loss')\n",
        "plt.legend()\n",
        "plt.savefig('CNNloss.png', dpi=300, bbox_inches='tight')\n",
        "plt.show()\n",
        "plt.plot(r.history['accuracy'], label='acc')\n",
        "plt.plot(r.history['val_accuracy'], label='val_acc')\n",
        "plt.legend()\n",
        "plt.savefig('CNNaccu.png', dpi=300, bbox_inches='tight')\n",
        "plt.show()"
      ],
      "execution_count": null,
      "outputs": [
        {
          "output_type": "stream",
          "text": [
            "Training model...\n",
            "Epoch 1/10\n",
            "18/18 [==============================] - 0s 18ms/step - loss: 0.6882 - accuracy: 0.4876 - val_loss: 0.6775 - val_accuracy: 0.8530\n",
            "Epoch 2/10\n",
            "18/18 [==============================] - 0s 11ms/step - loss: 0.6542 - accuracy: 0.7748 - val_loss: 0.6048 - val_accuracy: 0.7778\n",
            "Epoch 3/10\n",
            "18/18 [==============================] - 0s 12ms/step - loss: 0.4763 - accuracy: 0.8582 - val_loss: 0.2863 - val_accuracy: 0.9355\n",
            "Epoch 4/10\n",
            "18/18 [==============================] - 0s 12ms/step - loss: 0.1775 - accuracy: 0.9539 - val_loss: 0.1179 - val_accuracy: 0.9677\n",
            "Epoch 5/10\n",
            "18/18 [==============================] - 0s 12ms/step - loss: 0.0486 - accuracy: 0.9876 - val_loss: 0.0638 - val_accuracy: 0.9785\n",
            "Epoch 6/10\n",
            "18/18 [==============================] - 0s 11ms/step - loss: 0.0206 - accuracy: 0.9965 - val_loss: 0.0622 - val_accuracy: 0.9785\n",
            "Epoch 7/10\n",
            "18/18 [==============================] - 0s 12ms/step - loss: 0.0199 - accuracy: 0.9965 - val_loss: 0.0583 - val_accuracy: 0.9785\n",
            "Epoch 8/10\n",
            "18/18 [==============================] - 0s 12ms/step - loss: 0.0193 - accuracy: 0.9965 - val_loss: 0.0577 - val_accuracy: 0.9785\n"
          ],
          "name": "stdout"
        },
        {
          "output_type": "display_data",
          "data": {
            "image/png": "[encoded data removed]",
            "text/plain": [
              "<Figure size 432x288 with 1 Axes>"
            ]
          },
          "metadata": {
            "tags": [],
            "needs_background": "light"
          }
        },
        {
          "output_type": "display_data",
          "data": {
            "image/png": "[encoded data removed]",
            "text/plain": [
              "<Figure size 432x288 with 1 Axes>"
            ]
          },
          "metadata": {
            "tags": [],
            "needs_background": "light"
          }
        }
      ]
    },
    {
      "cell_type": "code",
      "metadata": {
        "id": "JvA2FPg7hWoL",
        "colab_type": "code",
        "colab": {
          "base_uri": "https://localhost:8080/",
          "height": 606
        },
        "outputId": "b0f6cb9a-979d-409b-d261-52db232132e5"
      },
      "source": [
        "from wordcloud import WordCloud, STOPWORDS \n",
        "cop=' '.join(df['stopwords'])\n",
        "\n",
        "wordcloud = WordCloud(width = 800, height = 800, \n",
        "                background_color ='white', \n",
        "                 \n",
        "                min_font_size = 10).generate(cop) \n",
        "  \n",
        "# plot the WordCloud image                        \n",
        "plt.figure(figsize = (8, 8), facecolor = None) \n",
        "plt.imshow(wordcloud) \n",
        "plt.axis(\"off\") \n",
        "plt.tight_layout(pad = 0) \n",
        "  \n",
        "plt.show() "
      ],
      "execution_count": null,
      "outputs": [
        {
          "output_type": "display_data",
          "data": {
            "image/png": "[encoded data removed]",
            "text/plain": [
              "<Figure size 576x576 with 1 Axes>"
            ]
          },
          "metadata": {
            "tags": [],
            "needs_background": "light"
          }
        }
      ]
    },
    {
      "cell_type": "code",
      "metadata": {
        "id": "Ugn4m606iCri",
        "colab_type": "code",
        "colab": {}
      },
      "source": [
        ""
      ],
      "execution_count": null,
      "outputs": []
    }
  ]
}